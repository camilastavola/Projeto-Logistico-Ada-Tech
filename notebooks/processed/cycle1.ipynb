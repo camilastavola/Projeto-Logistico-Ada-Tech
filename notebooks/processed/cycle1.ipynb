{
 "cells": [
  {
   "cell_type": "markdown",
   "metadata": {},
   "source": [
    "# 0.0. IMPORTS"
   ]
  },
  {
   "cell_type": "markdown",
   "metadata": {},
   "source": [
    "## 0.1. Bibliotecas"
   ]
  },
  {
   "cell_type": "code",
   "execution_count": 1,
   "metadata": {},
   "outputs": [
    {
     "name": "stderr",
     "output_type": "stream",
     "text": [
      "C:\\Users\\Lucas\\AppData\\Local\\Temp\\ipykernel_9936\\670289907.py:1: DeprecationWarning: \n",
      "Pyarrow will become a required dependency of pandas in the next major release of pandas (pandas 3.0),\n",
      "(to allow more performant data types, such as the Arrow string type, and better interoperability with other libraries)\n",
      "but was not found to be installed on your system.\n",
      "If this would cause problems for you,\n",
      "please provide us feedback at https://github.com/pandas-dev/pandas/issues/54466\n",
      "        \n",
      "  import pandas as pd\n"
     ]
    }
   ],
   "source": [
    "import pandas as pd\n",
    "import numpy as np\n",
    "import os\n",
    "\n",
    "from unidecode import unidecode"
   ]
  },
  {
   "cell_type": "markdown",
   "metadata": {},
   "source": [
    "## 0.2. Carregar Dados"
   ]
  },
  {
   "cell_type": "markdown",
   "metadata": {},
   "source": [
    "### 0.2.1. Escolas"
   ]
  },
  {
   "cell_type": "code",
   "execution_count": 2,
   "metadata": {},
   "outputs": [],
   "source": [
    "diretorio_escolas = os.path.dirname(os.path.abspath('escolas.csv'))\n",
    "caminho_escolas = os.path.join(diretorio_escolas, '../..', 'data', 'raw', 'escolas.csv')\n",
    "df_escolas_raw = pd.read_csv(caminho_escolas)"
   ]
  },
  {
   "cell_type": "markdown",
   "metadata": {},
   "source": [
    "### 0.2.2. Material Didatico"
   ]
  },
  {
   "cell_type": "code",
   "execution_count": 3,
   "metadata": {},
   "outputs": [],
   "source": [
    "diretorio_material_didatico = os.path.dirname(os.path.abspath('material_didatico.csv'))\n",
    "caminho_material_didatico = os.path.join(diretorio_material_didatico, '../..', 'data', 'raw', 'material_didatico.csv')\n",
    "df_material_didatico_raw = pd.read_csv(caminho_material_didatico)"
   ]
  },
  {
   "cell_type": "markdown",
   "metadata": {},
   "source": [
    "### 0.2.3. Sub-Prefeituras"
   ]
  },
  {
   "cell_type": "code",
   "execution_count": 4,
   "metadata": {},
   "outputs": [],
   "source": [
    "diretorio_subprefeituras = os.path.dirname(os.path.abspath('subprefeituras.csv'))\n",
    "caminho_subprefeituras = os.path.join(diretorio_subprefeituras, '../..', 'data', 'raw', 'subprefeituras.csv')\n",
    "df_subprefeituras_raw = pd.read_csv(caminho_subprefeituras)"
   ]
  },
  {
   "cell_type": "markdown",
   "metadata": {},
   "source": [
    "## 0.3. Funções"
   ]
  },
  {
   "cell_type": "markdown",
   "metadata": {},
   "source": [
    "### 0.3.1. renomeia_colunas"
   ]
  },
  {
   "cell_type": "code",
   "execution_count": 5,
   "metadata": {},
   "outputs": [],
   "source": [
    "def renomeia_colunas(data):\n",
    "    return [x.lower() for x in data.columns]"
   ]
  },
  {
   "cell_type": "markdown",
   "metadata": {},
   "source": [
    "### 0.3.2. tamanho_dos_dados"
   ]
  },
  {
   "cell_type": "code",
   "execution_count": 6,
   "metadata": {},
   "outputs": [],
   "source": [
    "def tamanho_dos_dados(data):\n",
    "    print(f'Colunas: {data.shape[1]}')\n",
    "    print(f'Linhas: {data.shape[0]}')"
   ]
  },
  {
   "cell_type": "markdown",
   "metadata": {},
   "source": [
    "### 0.3.3. qtd_total_unicos_por_coluna"
   ]
  },
  {
   "cell_type": "code",
   "execution_count": 7,
   "metadata": {},
   "outputs": [],
   "source": [
    "def qtd_total_unicos_por_coluna(data):\n",
    "    for x in data.columns:\n",
    "        print(f'Quantidade de valores unicos em {x}: {len(data[x].unique())}')"
   ]
  },
  {
   "cell_type": "markdown",
   "metadata": {},
   "source": [
    "### 0.3.4. get_numericos"
   ]
  },
  {
   "cell_type": "code",
   "execution_count": 8,
   "metadata": {},
   "outputs": [],
   "source": [
    "def get_numericos(data):\n",
    "    return data.select_dtypes(include=['int32', 'int64', 'float32', 'float64'])"
   ]
  },
  {
   "cell_type": "markdown",
   "metadata": {},
   "source": [
    "### 0.3.5. get_categoricos"
   ]
  },
  {
   "cell_type": "code",
   "execution_count": 9,
   "metadata": {},
   "outputs": [],
   "source": [
    "def get_categoricos(data):\n",
    "    return data.select_dtypes(exclude=['int32', 'int64', 'float32', 'float64', 'datetime64[ns]'])"
   ]
  },
  {
   "cell_type": "markdown",
   "metadata": {},
   "source": [
    "### 0.3.6. get_descriptive_info"
   ]
  },
  {
   "cell_type": "code",
   "execution_count": 10,
   "metadata": {},
   "outputs": [],
   "source": [
    "def get_descriptive_info(data):\n",
    "    dados_numericos = get_numericos(data)\n",
    "    \n",
    "    # medidas de tendencia central - media, mediana\n",
    "    df_media = pd.DataFrame(dados_numericos.apply(np.mean)).T\n",
    "    df_mediana = pd.DataFrame(dados_numericos.apply(np.median)).T   \n",
    "    \n",
    "    # medidas de dispersão - min, max, range, skew, kurtosis, std\n",
    "    df_std = pd.DataFrame(dados_numericos.apply(np.std)).T\n",
    "    df_min = pd.DataFrame(dados_numericos.apply(min)).T\n",
    "    df_max = pd.DataFrame(dados_numericos.apply(max)).T\n",
    "    df_range = pd.DataFrame(dados_numericos.apply(lambda x: x.max() - x.min())).T\n",
    "    df_skew = pd.DataFrame(dados_numericos.apply(lambda x: x.skew())).T\n",
    "    df_kurtosis = pd.DataFrame(dados_numericos.apply(lambda x: x.kurtosis())).T\n",
    "    \n",
    "    #min, max, range, media, mediana, std, skew, kurtosis\n",
    "    df_descriptive_info = pd.concat([df_min, df_max, df_range,\n",
    "                                     df_media, df_mediana, df_std,\n",
    "                                     df_skew, df_kurtosis]).T.reset_index()\n",
    "    \n",
    "    df_descriptive_info.columns = ['attributes', 'min', 'max',\n",
    "                                   'range', 'media', 'mediana',\n",
    "                                   'std', 'skew', 'kurtosis']\n",
    "    \n",
    "    return df_descriptive_info"
   ]
  },
  {
   "cell_type": "markdown",
   "metadata": {},
   "source": [
    "### 0.3.7. salvar_dados_csv"
   ]
  },
  {
   "cell_type": "code",
   "execution_count": 11,
   "metadata": {},
   "outputs": [],
   "source": [
    "def salvar_dados_csv(data, nome=''):\n",
    "    data.to_csv(f'../../data/processed/{nome}', index=False )"
   ]
  },
  {
   "cell_type": "markdown",
   "metadata": {},
   "source": [
    "### 0.3.8. remove_acentos"
   ]
  },
  {
   "cell_type": "code",
   "execution_count": 12,
   "metadata": {},
   "outputs": [],
   "source": [
    "def remove_acentos(data):\n",
    "    categoricos = get_categoricos(data)\n",
    "    for column in categoricos.columns:        \n",
    "        data[column] = data[column].apply(lambda x: unidecode(x))\n",
    "    return data"
   ]
  },
  {
   "cell_type": "markdown",
   "metadata": {},
   "source": [
    "### 0.3.9. string_maisculo"
   ]
  },
  {
   "cell_type": "code",
   "execution_count": 13,
   "metadata": {},
   "outputs": [],
   "source": [
    "def string_maisculo(data):\n",
    "    categoricos = get_categoricos(data)\n",
    "\n",
    "    for column in categoricos:\n",
    "        data[column] = data[column].str.upper()\n",
    "        \n",
    "    return data"
   ]
  },
  {
   "cell_type": "markdown",
   "metadata": {},
   "source": [
    "### 0.3.10. remodelando_id"
   ]
  },
  {
   "cell_type": "code",
   "execution_count": 14,
   "metadata": {},
   "outputs": [],
   "source": [
    "def remodelando_id(data):\n",
    "    data['id'] = data['id'].astype(str).apply(lambda x: f'0{x}' if len(x) < 3 else f'{x}')\n",
    "    return data"
   ]
  },
  {
   "cell_type": "markdown",
   "metadata": {},
   "source": [
    "# 1.0. DESCRIÇÃO DOS DADOS"
   ]
  },
  {
   "cell_type": "markdown",
   "metadata": {},
   "source": [
    "## 1.1. Escolas"
   ]
  },
  {
   "cell_type": "markdown",
   "metadata": {},
   "source": [
    "### 1.1.1. Visão Geral dos Dados"
   ]
  },
  {
   "cell_type": "code",
   "execution_count": 15,
   "metadata": {},
   "outputs": [],
   "source": [
    "df1_escolas = df_escolas_raw.copy()"
   ]
  },
  {
   "cell_type": "code",
   "execution_count": 16,
   "metadata": {},
   "outputs": [
    {
     "data": {
      "text/html": [
       "<div>\n",
       "<style scoped>\n",
       "    .dataframe tbody tr th:only-of-type {\n",
       "        vertical-align: middle;\n",
       "    }\n",
       "\n",
       "    .dataframe tbody tr th {\n",
       "        vertical-align: top;\n",
       "    }\n",
       "\n",
       "    .dataframe thead th {\n",
       "        text-align: right;\n",
       "    }\n",
       "</style>\n",
       "<table border=\"1\" class=\"dataframe\">\n",
       "  <thead>\n",
       "    <tr style=\"text-align: right;\">\n",
       "      <th></th>\n",
       "      <th>0</th>\n",
       "      <th>1</th>\n",
       "      <th>2</th>\n",
       "      <th>3</th>\n",
       "      <th>4</th>\n",
       "    </tr>\n",
       "  </thead>\n",
       "  <tbody>\n",
       "    <tr>\n",
       "      <th>id</th>\n",
       "      <td>178</td>\n",
       "      <td>634</td>\n",
       "      <td>483</td>\n",
       "      <td>476</td>\n",
       "      <td>132</td>\n",
       "    </tr>\n",
       "    <tr>\n",
       "      <th>Escolas_Postos</th>\n",
       "      <td>CENTRO INTEGRADO DE EDUCAÇÃO PÚBLICA HENFIL</td>\n",
       "      <td>EM ALICE DO AMARAL PEIXOTO</td>\n",
       "      <td>EM CELESTINO SILVA</td>\n",
       "      <td>ESCOLA MUNICIPAL FLORIANO PEIXOTO</td>\n",
       "      <td>EM PEREIRA PASSOS</td>\n",
       "    </tr>\n",
       "    <tr>\n",
       "      <th>BAIRRO</th>\n",
       "      <td>CAJU</td>\n",
       "      <td>BENFICA</td>\n",
       "      <td>CENTRO</td>\n",
       "      <td>SÃO CRISTÓVÃO</td>\n",
       "      <td>RIO COMPRIDO</td>\n",
       "    </tr>\n",
       "    <tr>\n",
       "      <th>ENDEREÇO</th>\n",
       "      <td>Rua Carlos Seidl S/Nº</td>\n",
       "      <td>Rua Ébano 187</td>\n",
       "      <td>R. do Lavradio, 56</td>\n",
       "      <td>Praça Argentina 20</td>\n",
       "      <td>Praça Condessa Paulo de Frontin 45</td>\n",
       "    </tr>\n",
       "    <tr>\n",
       "      <th>lat</th>\n",
       "      <td>-22,880888</td>\n",
       "      <td>-22,889574</td>\n",
       "      <td>-22,909293</td>\n",
       "      <td>-22,897629</td>\n",
       "      <td>-22,924412</td>\n",
       "    </tr>\n",
       "    <tr>\n",
       "      <th>lon</th>\n",
       "      <td>-43,225326</td>\n",
       "      <td>-43,236202</td>\n",
       "      <td>-43,183579</td>\n",
       "      <td>-43,227456</td>\n",
       "      <td>-43,208579</td>\n",
       "    </tr>\n",
       "  </tbody>\n",
       "</table>\n",
       "</div>"
      ],
      "text/plain": [
       "                                                          0  \\\n",
       "id                                                      178   \n",
       "Escolas_Postos  CENTRO INTEGRADO DE EDUCAÇÃO PÚBLICA HENFIL   \n",
       "BAIRRO                                                 CAJU   \n",
       "ENDEREÇO                              Rua Carlos Seidl S/Nº   \n",
       "lat                                              -22,880888   \n",
       "lon                                              -43,225326   \n",
       "\n",
       "                                         1                   2  \\\n",
       "id                                     634                 483   \n",
       "Escolas_Postos  EM ALICE DO AMARAL PEIXOTO  EM CELESTINO SILVA   \n",
       "BAIRRO                             BENFICA              CENTRO   \n",
       "ENDEREÇO                     Rua Ébano 187  R. do Lavradio, 56   \n",
       "lat                             -22,889574          -22,909293   \n",
       "lon                             -43,236202          -43,183579   \n",
       "\n",
       "                                                3  \\\n",
       "id                                            476   \n",
       "Escolas_Postos  ESCOLA MUNICIPAL FLORIANO PEIXOTO   \n",
       "BAIRRO                              SÃO CRISTÓVÃO   \n",
       "ENDEREÇO                       Praça Argentina 20   \n",
       "lat                                    -22,897629   \n",
       "lon                                    -43,227456   \n",
       "\n",
       "                                                 4  \n",
       "id                                             132  \n",
       "Escolas_Postos                   EM PEREIRA PASSOS  \n",
       "BAIRRO                                RIO COMPRIDO  \n",
       "ENDEREÇO        Praça Condessa Paulo de Frontin 45  \n",
       "lat                                     -22,924412  \n",
       "lon                                     -43,208579  "
      ]
     },
     "execution_count": 16,
     "metadata": {},
     "output_type": "execute_result"
    }
   ],
   "source": [
    "df1_escolas.head().T"
   ]
  },
  {
   "cell_type": "code",
   "execution_count": 17,
   "metadata": {},
   "outputs": [],
   "source": [
    "df1_escolas.columns = renomeia_colunas(df1_escolas)"
   ]
  },
  {
   "cell_type": "code",
   "execution_count": 18,
   "metadata": {},
   "outputs": [
    {
     "data": {
      "text/plain": [
       "Index(['id', 'escolas_postos', 'bairro', 'endereço ', 'lat', 'lon'], dtype='object')"
      ]
     },
     "execution_count": 18,
     "metadata": {},
     "output_type": "execute_result"
    }
   ],
   "source": [
    "df1_escolas.columns"
   ]
  },
  {
   "cell_type": "markdown",
   "metadata": {},
   "source": [
    "### 1.1.2. Tamanho dos dados"
   ]
  },
  {
   "cell_type": "code",
   "execution_count": 19,
   "metadata": {},
   "outputs": [
    {
     "name": "stdout",
     "output_type": "stream",
     "text": [
      "Colunas: 6\n",
      "Linhas: 152\n"
     ]
    }
   ],
   "source": [
    "tamanho_dos_dados(df1_escolas)"
   ]
  },
  {
   "cell_type": "code",
   "execution_count": 20,
   "metadata": {},
   "outputs": [
    {
     "name": "stdout",
     "output_type": "stream",
     "text": [
      "Quantidade de valores unicos em id: 136\n",
      "Quantidade de valores unicos em escolas_postos: 136\n",
      "Quantidade de valores unicos em bairro: 90\n",
      "Quantidade de valores unicos em endereço : 137\n",
      "Quantidade de valores unicos em lat: 136\n",
      "Quantidade de valores unicos em lon: 135\n"
     ]
    }
   ],
   "source": [
    "qtd_total_unicos_por_coluna(df1_escolas)"
   ]
  },
  {
   "cell_type": "markdown",
   "metadata": {},
   "source": [
    "### 1.1.3. Verificar Nulos"
   ]
  },
  {
   "cell_type": "code",
   "execution_count": 21,
   "metadata": {},
   "outputs": [
    {
     "data": {
      "text/plain": [
       "id                0\n",
       "escolas_postos    0\n",
       "bairro            0\n",
       "endereço          0\n",
       "lat               0\n",
       "lon               0\n",
       "dtype: int64"
      ]
     },
     "execution_count": 21,
     "metadata": {},
     "output_type": "execute_result"
    }
   ],
   "source": [
    "df1_escolas.isna().sum()"
   ]
  },
  {
   "cell_type": "markdown",
   "metadata": {},
   "source": [
    "### 1.1.4. Verificar tipos dos dados"
   ]
  },
  {
   "cell_type": "code",
   "execution_count": 22,
   "metadata": {},
   "outputs": [
    {
     "data": {
      "text/plain": [
       "id                 int64\n",
       "escolas_postos    object\n",
       "bairro            object\n",
       "endereço          object\n",
       "lat               object\n",
       "lon               object\n",
       "dtype: object"
      ]
     },
     "execution_count": 22,
     "metadata": {},
     "output_type": "execute_result"
    }
   ],
   "source": [
    "df1_escolas.dtypes"
   ]
  },
  {
   "cell_type": "markdown",
   "metadata": {},
   "source": [
    "### 1.1.5. Verificar dados duplicados"
   ]
  },
  {
   "cell_type": "code",
   "execution_count": 23,
   "metadata": {},
   "outputs": [
    {
     "data": {
      "text/plain": [
       "13"
      ]
     },
     "execution_count": 23,
     "metadata": {},
     "output_type": "execute_result"
    }
   ],
   "source": [
    "df1_escolas.duplicated().sum()"
   ]
  },
  {
   "cell_type": "markdown",
   "metadata": {},
   "source": [
    "### 1.1.6. Tratamento Inicial"
   ]
  },
  {
   "cell_type": "code",
   "execution_count": 24,
   "metadata": {},
   "outputs": [],
   "source": [
    "df1_escolas = df1_escolas.drop_duplicates()"
   ]
  },
  {
   "cell_type": "code",
   "execution_count": 25,
   "metadata": {},
   "outputs": [
    {
     "data": {
      "text/plain": [
       "id                  int64\n",
       "escolas_postos     object\n",
       "bairro             object\n",
       "endereço           object\n",
       "lat               float64\n",
       "lon               float64\n",
       "dtype: object"
      ]
     },
     "execution_count": 25,
     "metadata": {},
     "output_type": "execute_result"
    }
   ],
   "source": [
    "df1_escolas['lat'] = df1_escolas['lat'].str.replace(',', '.')\n",
    "df1_escolas['lat'] = pd.to_numeric(df1_escolas['lat']).round(5)\n",
    "\n",
    "df1_escolas['lon'] = df1_escolas['lon'].str.replace(',', '.')\n",
    "df1_escolas['lon'] = pd.to_numeric(df1_escolas['lon']).round(5)\n",
    "\n",
    "df1_escolas.dtypes"
   ]
  },
  {
   "cell_type": "code",
   "execution_count": 26,
   "metadata": {},
   "outputs": [],
   "source": [
    "df1_escolas = remove_acentos(df1_escolas)"
   ]
  },
  {
   "cell_type": "code",
   "execution_count": 27,
   "metadata": {},
   "outputs": [],
   "source": [
    "df1_escolas = remodelando_id(df1_escolas)"
   ]
  },
  {
   "cell_type": "code",
   "execution_count": 28,
   "metadata": {},
   "outputs": [],
   "source": [
    "df1_escolas = string_maisculo(df1_escolas)"
   ]
  },
  {
   "cell_type": "code",
   "execution_count": 29,
   "metadata": {},
   "outputs": [
    {
     "name": "stdout",
     "output_type": "stream",
     "text": [
      "Colunas: 6\n",
      "Linhas: 139\n"
     ]
    }
   ],
   "source": [
    "tamanho_dos_dados(df1_escolas)"
   ]
  },
  {
   "cell_type": "markdown",
   "metadata": {},
   "source": [
    "### 1.1.6. Salvar dados"
   ]
  },
  {
   "cell_type": "code",
   "execution_count": 30,
   "metadata": {},
   "outputs": [],
   "source": [
    "salvar_dados_csv(df1_escolas, 'df1_escolas_descricao_dados.csv')"
   ]
  },
  {
   "cell_type": "markdown",
   "metadata": {},
   "source": [
    "## 1.2. Material Didatico"
   ]
  },
  {
   "cell_type": "markdown",
   "metadata": {},
   "source": [
    "### 1.2.1. Visão Geral dos Dados"
   ]
  },
  {
   "cell_type": "code",
   "execution_count": 31,
   "metadata": {},
   "outputs": [],
   "source": [
    "df1_material_didatico = df_material_didatico_raw.copy()"
   ]
  },
  {
   "cell_type": "code",
   "execution_count": 32,
   "metadata": {},
   "outputs": [
    {
     "data": {
      "text/html": [
       "<div>\n",
       "<style scoped>\n",
       "    .dataframe tbody tr th:only-of-type {\n",
       "        vertical-align: middle;\n",
       "    }\n",
       "\n",
       "    .dataframe tbody tr th {\n",
       "        vertical-align: top;\n",
       "    }\n",
       "\n",
       "    .dataframe thead th {\n",
       "        text-align: right;\n",
       "    }\n",
       "</style>\n",
       "<table border=\"1\" class=\"dataframe\">\n",
       "  <thead>\n",
       "    <tr style=\"text-align: right;\">\n",
       "      <th></th>\n",
       "      <th>0</th>\n",
       "      <th>1</th>\n",
       "      <th>2</th>\n",
       "      <th>3</th>\n",
       "      <th>4</th>\n",
       "    </tr>\n",
       "  </thead>\n",
       "  <tbody>\n",
       "    <tr>\n",
       "      <th>id</th>\n",
       "      <td>178</td>\n",
       "      <td>634</td>\n",
       "      <td>483</td>\n",
       "      <td>476</td>\n",
       "      <td>132</td>\n",
       "    </tr>\n",
       "    <tr>\n",
       "      <th>Quantidade</th>\n",
       "      <td>20</td>\n",
       "      <td>121</td>\n",
       "      <td>220</td>\n",
       "      <td>190</td>\n",
       "      <td>67</td>\n",
       "    </tr>\n",
       "  </tbody>\n",
       "</table>\n",
       "</div>"
      ],
      "text/plain": [
       "              0    1    2    3    4\n",
       "id          178  634  483  476  132\n",
       "Quantidade   20  121  220  190   67"
      ]
     },
     "execution_count": 32,
     "metadata": {},
     "output_type": "execute_result"
    }
   ],
   "source": [
    "df1_material_didatico.head().T"
   ]
  },
  {
   "cell_type": "code",
   "execution_count": 33,
   "metadata": {},
   "outputs": [],
   "source": [
    "df1_material_didatico.columns = renomeia_colunas(df1_material_didatico)"
   ]
  },
  {
   "cell_type": "markdown",
   "metadata": {},
   "source": [
    "### 1.2.2. Tamanho dos dados"
   ]
  },
  {
   "cell_type": "code",
   "execution_count": 34,
   "metadata": {},
   "outputs": [
    {
     "name": "stdout",
     "output_type": "stream",
     "text": [
      "Colunas: 2\n",
      "Linhas: 151\n"
     ]
    }
   ],
   "source": [
    "tamanho_dos_dados(df1_material_didatico)"
   ]
  },
  {
   "cell_type": "code",
   "execution_count": 35,
   "metadata": {},
   "outputs": [
    {
     "name": "stdout",
     "output_type": "stream",
     "text": [
      "Quantidade de valores unicos em id: 151\n",
      "Quantidade de valores unicos em quantidade: 135\n"
     ]
    }
   ],
   "source": [
    "qtd_total_unicos_por_coluna(df1_material_didatico)"
   ]
  },
  {
   "cell_type": "markdown",
   "metadata": {},
   "source": [
    "### 1.2.3. Verificar Nulos"
   ]
  },
  {
   "cell_type": "code",
   "execution_count": 36,
   "metadata": {},
   "outputs": [
    {
     "data": {
      "text/plain": [
       "id            0\n",
       "quantidade    4\n",
       "dtype: int64"
      ]
     },
     "execution_count": 36,
     "metadata": {},
     "output_type": "execute_result"
    }
   ],
   "source": [
    "df1_material_didatico.isna().sum()"
   ]
  },
  {
   "cell_type": "markdown",
   "metadata": {},
   "source": [
    "### 1.2.4. Verificar tipos dos dados"
   ]
  },
  {
   "cell_type": "code",
   "execution_count": 37,
   "metadata": {},
   "outputs": [
    {
     "data": {
      "text/plain": [
       "id             int64\n",
       "quantidade    object\n",
       "dtype: object"
      ]
     },
     "execution_count": 37,
     "metadata": {},
     "output_type": "execute_result"
    }
   ],
   "source": [
    "df1_material_didatico.dtypes"
   ]
  },
  {
   "cell_type": "markdown",
   "metadata": {},
   "source": [
    "### 1.2.5. Verificar dados duplicados"
   ]
  },
  {
   "cell_type": "code",
   "execution_count": 38,
   "metadata": {},
   "outputs": [
    {
     "data": {
      "text/plain": [
       "0"
      ]
     },
     "execution_count": 38,
     "metadata": {},
     "output_type": "execute_result"
    }
   ],
   "source": [
    "df1_material_didatico.duplicated().sum()"
   ]
  },
  {
   "cell_type": "markdown",
   "metadata": {},
   "source": [
    "### 1.2.6. Tratamento Inicial"
   ]
  },
  {
   "cell_type": "code",
   "execution_count": 39,
   "metadata": {},
   "outputs": [
    {
     "data": {
      "text/plain": [
       "array(['20', '121', '220', '190', '67', '397', '92', '578', '591', '473',\n",
       "       '456', '223', '420', '573', \"''\", '366', '516', '319', '308',\n",
       "       '111', '48', '525', '445', '164', '293', '152', '399', '185',\n",
       "       '576', '63', '491', \"'NaN'\", '336', '159', '342', '262', '440',\n",
       "       '365', nan, '183', '297', '44', '109', '350', '255', '457', '493',\n",
       "       '489', '64', '530', '158', '123', '468', '234', '24', '218', '151',\n",
       "       '564', '504', '61', '426', '167', '509', '292', '210', '153',\n",
       "       \"'397'\", '41', '561', '180', '257', '260', '317', '345', '32',\n",
       "       '513', '338', '416', '352', '393', '425', '136', \"'395'\", '115',\n",
       "       '534', '430', '466', '51', '26', '94', '128', '520', '524', '279',\n",
       "       '161', '179', '194', '599', '315', '435', '400', '294', '148',\n",
       "       '269', '571', '235', '187', '392', '362', '71', '221', '372',\n",
       "       '479', '99', '157', '296', '330', '316', '106', '207', '459',\n",
       "       '537', '162', '579', '517', \"' '\", '135', '118', '341', '329',\n",
       "       '570', '320', '335', '521', '225'], dtype=object)"
      ]
     },
     "execution_count": 39,
     "metadata": {},
     "output_type": "execute_result"
    }
   ],
   "source": [
    "df1_material_didatico['quantidade'].unique()"
   ]
  },
  {
   "cell_type": "code",
   "execution_count": 40,
   "metadata": {},
   "outputs": [
    {
     "name": "stdout",
     "output_type": "stream",
     "text": [
      "[ 20. 121. 220. 190.  67. 397.  92. 578. 591. 473. 456. 223. 420. 573.\n",
      " 342. 366. 516. 319. 308. 111.  48. 525. 445. 164. 293. 152. 399. 185.\n",
      " 576.  63. 491. 336. 159. 262. 440. 365. 183. 297.  44. 109. 350. 255.\n",
      " 457. 493. 489.  64. 530. 158. 123. 468. 234.  24. 218. 151. 564. 504.\n",
      "  61. 426. 167. 509. 292. 210. 153.  41. 561. 180. 257. 260. 317. 345.\n",
      "  32. 513. 338. 416. 352. 393. 425. 136. 395. 115. 534. 430. 466.  51.\n",
      "  26.  94. 128. 520. 524. 279. 161. 179. 194. 599. 315. 435. 400. 294.\n",
      " 148. 269. 571. 235. 187. 392. 362.  71. 221. 372. 479.  99. 157. 296.\n",
      " 330. 316. 106. 207. 459. 537. 162. 579. 517. 135. 118. 341. 329. 570.\n",
      " 320. 335. 521. 225.]\n"
     ]
    }
   ],
   "source": [
    "df1_material_didatico['quantidade'] = df1_material_didatico['quantidade'].str.replace(\"'\", \"\")\n",
    "df1_material_didatico['quantidade'] = df1_material_didatico['quantidade'].replace(\" \", np.nan)\n",
    "df1_material_didatico['quantidade'] = df1_material_didatico['quantidade'].replace('NaN', np.nan)\n",
    "\n",
    "# Converter a coluna 'quantidade' para tipo numérico\n",
    "df1_material_didatico['quantidade'] = pd.to_numeric(df1_material_didatico['quantidade'])\n",
    "\n",
    "moda = df1_material_didatico['quantidade'].value_counts().idxmax()\n",
    "df1_material_didatico['quantidade'] = df1_material_didatico['quantidade'].fillna(moda)\n",
    "\n",
    "\n",
    "# Verificar se as correções foram aplicadas corretamente\n",
    "print(df1_material_didatico['quantidade'].unique())\n"
   ]
  },
  {
   "cell_type": "code",
   "execution_count": 41,
   "metadata": {},
   "outputs": [
    {
     "data": {
      "text/plain": [
       "array(['178', '634', '483', '476', '132', '410', '055', '490', '600',\n",
       "       '089', '387', '331', '450', '558', '413', '698', '540', '309',\n",
       "       '268', '523', '017', '035', '011', '226', '638', '271', '126',\n",
       "       '180', '163', '361', '280', '060', '587', '653', '660', '382',\n",
       "       '217', '378', '429', '025', '367', '373', '624', '157', '020',\n",
       "       '117', '502', '351', '135', '647', '440', '259', '422', '041',\n",
       "       '537', '230', '683', '146', '566', '388', '498', '663', '121',\n",
       "       '161', '263', '118', '140', '260', '236', '090', '274', '676',\n",
       "       '390', '608', '589', '256', '091', '285', '248', '441', '623',\n",
       "       '603', '673', '182', '520', '412', '031', '514', '023', '415',\n",
       "       '016', '570', '528', '414', '690', '202', '550', '211', '526',\n",
       "       '492', '466', '636', '527', '586', '080', '398', '175', '308',\n",
       "       '512', '576', '495', '379', '641', '689', '171', '477', '206',\n",
       "       '687', '568', '399', '255', '262', '633', '616', '320', '144',\n",
       "       '534', '342', '052', '139', '323', '573', '560', '246', '069',\n",
       "       '319', '584', '311', '316', '497', '297', '068', '330', '515',\n",
       "       '289', '210', '474', '301', '215', '606', '590'], dtype=object)"
      ]
     },
     "execution_count": 41,
     "metadata": {},
     "output_type": "execute_result"
    }
   ],
   "source": [
    "df1_material_didatico = remodelando_id(df1_material_didatico)\n",
    "df1_material_didatico['id'].unique()"
   ]
  },
  {
   "cell_type": "markdown",
   "metadata": {},
   "source": [
    "### 1.2.7. Salvar dados"
   ]
  },
  {
   "cell_type": "code",
   "execution_count": 42,
   "metadata": {},
   "outputs": [],
   "source": [
    "salvar_dados_csv(df1_material_didatico, 'df1_material_didatico_descricao_dados.csv')"
   ]
  },
  {
   "cell_type": "markdown",
   "metadata": {},
   "source": [
    "## 1.3. Sub-Prefeituras"
   ]
  },
  {
   "cell_type": "markdown",
   "metadata": {},
   "source": [
    "### 1.3.1. Visão Geral dos Dados"
   ]
  },
  {
   "cell_type": "code",
   "execution_count": 43,
   "metadata": {},
   "outputs": [],
   "source": [
    "df1_subprefeituras = df_subprefeituras_raw.copy()"
   ]
  },
  {
   "cell_type": "code",
   "execution_count": 44,
   "metadata": {},
   "outputs": [
    {
     "data": {
      "text/html": [
       "<div>\n",
       "<style scoped>\n",
       "    .dataframe tbody tr th:only-of-type {\n",
       "        vertical-align: middle;\n",
       "    }\n",
       "\n",
       "    .dataframe tbody tr th {\n",
       "        vertical-align: top;\n",
       "    }\n",
       "\n",
       "    .dataframe thead th {\n",
       "        text-align: right;\n",
       "    }\n",
       "</style>\n",
       "<table border=\"1\" class=\"dataframe\">\n",
       "  <thead>\n",
       "    <tr style=\"text-align: right;\">\n",
       "      <th></th>\n",
       "      <th>0</th>\n",
       "      <th>1</th>\n",
       "      <th>2</th>\n",
       "      <th>3</th>\n",
       "      <th>4</th>\n",
       "    </tr>\n",
       "  </thead>\n",
       "  <tbody>\n",
       "    <tr>\n",
       "      <th>nome</th>\n",
       "      <td>Santo Cristo</td>\n",
       "      <td>Gamboa</td>\n",
       "      <td>Saúde</td>\n",
       "      <td>Caju</td>\n",
       "      <td>Centro</td>\n",
       "    </tr>\n",
       "    <tr>\n",
       "      <th>subprefeitura</th>\n",
       "      <td>Centro</td>\n",
       "      <td>Centro</td>\n",
       "      <td>Centro</td>\n",
       "      <td>Centro</td>\n",
       "      <td>Centro</td>\n",
       "    </tr>\n",
       "  </tbody>\n",
       "</table>\n",
       "</div>"
      ],
      "text/plain": [
       "                          0       1       2       3       4\n",
       "nome           Santo Cristo  Gamboa   Saúde    Caju  Centro\n",
       "subprefeitura        Centro  Centro  Centro  Centro  Centro"
      ]
     },
     "execution_count": 44,
     "metadata": {},
     "output_type": "execute_result"
    }
   ],
   "source": [
    "df1_subprefeituras.head().T"
   ]
  },
  {
   "cell_type": "markdown",
   "metadata": {},
   "source": [
    "### 1.3.2. Tamanho dos dados"
   ]
  },
  {
   "cell_type": "code",
   "execution_count": 45,
   "metadata": {},
   "outputs": [
    {
     "name": "stdout",
     "output_type": "stream",
     "text": [
      "Colunas: 2\n",
      "Linhas: 164\n"
     ]
    }
   ],
   "source": [
    "tamanho_dos_dados(df1_subprefeituras)"
   ]
  },
  {
   "cell_type": "code",
   "execution_count": 46,
   "metadata": {},
   "outputs": [
    {
     "name": "stdout",
     "output_type": "stream",
     "text": [
      "Quantidade de valores unicos em nome: 164\n",
      "Quantidade de valores unicos em subprefeitura: 9\n"
     ]
    }
   ],
   "source": [
    "qtd_total_unicos_por_coluna(df1_subprefeituras)"
   ]
  },
  {
   "cell_type": "markdown",
   "metadata": {},
   "source": [
    "### 1.3.3. Verificar Nulos"
   ]
  },
  {
   "cell_type": "code",
   "execution_count": 47,
   "metadata": {},
   "outputs": [
    {
     "data": {
      "text/plain": [
       "nome             0\n",
       "subprefeitura    0\n",
       "dtype: int64"
      ]
     },
     "execution_count": 47,
     "metadata": {},
     "output_type": "execute_result"
    }
   ],
   "source": [
    "df1_subprefeituras.isna().sum()"
   ]
  },
  {
   "cell_type": "markdown",
   "metadata": {},
   "source": [
    "### 1.3.4. Verificar tipos dos dados"
   ]
  },
  {
   "cell_type": "code",
   "execution_count": 48,
   "metadata": {},
   "outputs": [
    {
     "data": {
      "text/plain": [
       "nome             object\n",
       "subprefeitura    object\n",
       "dtype: object"
      ]
     },
     "execution_count": 48,
     "metadata": {},
     "output_type": "execute_result"
    }
   ],
   "source": [
    "df1_subprefeituras.dtypes"
   ]
  },
  {
   "cell_type": "markdown",
   "metadata": {},
   "source": [
    "### 1.3.5. Verifica dados duplicados"
   ]
  },
  {
   "cell_type": "code",
   "execution_count": 49,
   "metadata": {},
   "outputs": [
    {
     "data": {
      "text/plain": [
       "0"
      ]
     },
     "execution_count": 49,
     "metadata": {},
     "output_type": "execute_result"
    }
   ],
   "source": [
    "df1_subprefeituras.duplicated().sum()"
   ]
  },
  {
   "cell_type": "markdown",
   "metadata": {},
   "source": [
    "### 1.3.5. Tratamento Inicial"
   ]
  },
  {
   "cell_type": "code",
   "execution_count": 50,
   "metadata": {},
   "outputs": [],
   "source": [
    "df1_subprefeituras['subprefeitura'] = df1_subprefeituras['subprefeitura'].str.upper()\n",
    "df1_subprefeituras['nome'] = df1_subprefeituras['nome'].str.upper()"
   ]
  },
  {
   "cell_type": "code",
   "execution_count": 51,
   "metadata": {},
   "outputs": [
    {
     "data": {
      "text/html": [
       "<div>\n",
       "<style scoped>\n",
       "    .dataframe tbody tr th:only-of-type {\n",
       "        vertical-align: middle;\n",
       "    }\n",
       "\n",
       "    .dataframe tbody tr th {\n",
       "        vertical-align: top;\n",
       "    }\n",
       "\n",
       "    .dataframe thead th {\n",
       "        text-align: right;\n",
       "    }\n",
       "</style>\n",
       "<table border=\"1\" class=\"dataframe\">\n",
       "  <thead>\n",
       "    <tr style=\"text-align: right;\">\n",
       "      <th></th>\n",
       "      <th>0</th>\n",
       "      <th>1</th>\n",
       "      <th>2</th>\n",
       "      <th>3</th>\n",
       "      <th>4</th>\n",
       "    </tr>\n",
       "  </thead>\n",
       "  <tbody>\n",
       "    <tr>\n",
       "      <th>nome</th>\n",
       "      <td>SANTO CRISTO</td>\n",
       "      <td>GAMBOA</td>\n",
       "      <td>SAÚDE</td>\n",
       "      <td>CAJU</td>\n",
       "      <td>CENTRO</td>\n",
       "    </tr>\n",
       "    <tr>\n",
       "      <th>subprefeitura</th>\n",
       "      <td>CENTRO</td>\n",
       "      <td>CENTRO</td>\n",
       "      <td>CENTRO</td>\n",
       "      <td>CENTRO</td>\n",
       "      <td>CENTRO</td>\n",
       "    </tr>\n",
       "  </tbody>\n",
       "</table>\n",
       "</div>"
      ],
      "text/plain": [
       "                          0       1       2       3       4\n",
       "nome           SANTO CRISTO  GAMBOA   SAÚDE    CAJU  CENTRO\n",
       "subprefeitura        CENTRO  CENTRO  CENTRO  CENTRO  CENTRO"
      ]
     },
     "execution_count": 51,
     "metadata": {},
     "output_type": "execute_result"
    }
   ],
   "source": [
    "df1_subprefeituras.head().T"
   ]
  },
  {
   "cell_type": "code",
   "execution_count": 52,
   "metadata": {},
   "outputs": [],
   "source": [
    "df1_subprefeituras = remove_acentos(df1_subprefeituras)"
   ]
  },
  {
   "cell_type": "markdown",
   "metadata": {},
   "source": [
    "### 1.3.6. Salvar dados"
   ]
  },
  {
   "cell_type": "code",
   "execution_count": 53,
   "metadata": {},
   "outputs": [],
   "source": [
    "salvar_dados_csv(df1_subprefeituras, 'df1_subprefeitura_descricao_dados.csv')"
   ]
  },
  {
   "cell_type": "markdown",
   "metadata": {},
   "source": [
    "# 2.0. Feature Engineering"
   ]
  },
  {
   "cell_type": "code",
   "execution_count": 54,
   "metadata": {},
   "outputs": [],
   "source": [
    "df2_escolas = df1_escolas.copy()\n",
    "df2_material_didatico = df1_material_didatico.copy()\n",
    "df2_subprefeituras = df1_subprefeituras.copy()"
   ]
  },
  {
   "cell_type": "code",
   "execution_count": 55,
   "metadata": {},
   "outputs": [
    {
     "data": {
      "text/html": [
       "<div>\n",
       "<style scoped>\n",
       "    .dataframe tbody tr th:only-of-type {\n",
       "        vertical-align: middle;\n",
       "    }\n",
       "\n",
       "    .dataframe tbody tr th {\n",
       "        vertical-align: top;\n",
       "    }\n",
       "\n",
       "    .dataframe thead th {\n",
       "        text-align: right;\n",
       "    }\n",
       "</style>\n",
       "<table border=\"1\" class=\"dataframe\">\n",
       "  <thead>\n",
       "    <tr style=\"text-align: right;\">\n",
       "      <th></th>\n",
       "      <th>id</th>\n",
       "      <th>escolas_postos</th>\n",
       "      <th>bairro</th>\n",
       "      <th>endereço</th>\n",
       "      <th>lat</th>\n",
       "      <th>lon</th>\n",
       "    </tr>\n",
       "  </thead>\n",
       "  <tbody>\n",
       "    <tr>\n",
       "      <th>0</th>\n",
       "      <td>178</td>\n",
       "      <td>CENTRO INTEGRADO DE EDUCACAO PUBLICA HENFIL</td>\n",
       "      <td>CAJU</td>\n",
       "      <td>RUA CARLOS SEIDL S/NO</td>\n",
       "      <td>-22.88089</td>\n",
       "      <td>-43.22533</td>\n",
       "    </tr>\n",
       "    <tr>\n",
       "      <th>1</th>\n",
       "      <td>634</td>\n",
       "      <td>EM ALICE DO AMARAL PEIXOTO</td>\n",
       "      <td>BENFICA</td>\n",
       "      <td>RUA EBANO 187</td>\n",
       "      <td>-22.88957</td>\n",
       "      <td>-43.23620</td>\n",
       "    </tr>\n",
       "    <tr>\n",
       "      <th>2</th>\n",
       "      <td>483</td>\n",
       "      <td>EM CELESTINO SILVA</td>\n",
       "      <td>CENTRO</td>\n",
       "      <td>R. DO LAVRADIO, 56</td>\n",
       "      <td>-22.90929</td>\n",
       "      <td>-43.18358</td>\n",
       "    </tr>\n",
       "    <tr>\n",
       "      <th>3</th>\n",
       "      <td>476</td>\n",
       "      <td>ESCOLA MUNICIPAL FLORIANO PEIXOTO</td>\n",
       "      <td>SAO CRISTOVAO</td>\n",
       "      <td>PRACA ARGENTINA 20</td>\n",
       "      <td>-22.89763</td>\n",
       "      <td>-43.22746</td>\n",
       "    </tr>\n",
       "    <tr>\n",
       "      <th>4</th>\n",
       "      <td>132</td>\n",
       "      <td>EM PEREIRA PASSOS</td>\n",
       "      <td>RIO COMPRIDO</td>\n",
       "      <td>PRACA CONDESSA PAULO DE FRONTIN 45</td>\n",
       "      <td>-22.92441</td>\n",
       "      <td>-43.20858</td>\n",
       "    </tr>\n",
       "    <tr>\n",
       "      <th>...</th>\n",
       "      <td>...</td>\n",
       "      <td>...</td>\n",
       "      <td>...</td>\n",
       "      <td>...</td>\n",
       "      <td>...</td>\n",
       "      <td>...</td>\n",
       "    </tr>\n",
       "    <tr>\n",
       "      <th>146</th>\n",
       "      <td>210</td>\n",
       "      <td>EM DEBORA MENDES DE MORAES</td>\n",
       "      <td>PEDRA DE GUARATIBA</td>\n",
       "      <td>RUA BELCHIOR DA FONSECA 643</td>\n",
       "      <td>-23.00142</td>\n",
       "      <td>-43.63876</td>\n",
       "    </tr>\n",
       "    <tr>\n",
       "      <th>147</th>\n",
       "      <td>474</td>\n",
       "      <td>EM ENGENHEIRO GASTAO RANGEL</td>\n",
       "      <td>GUARATIBA</td>\n",
       "      <td>ESTRADA DO MAGARCA 9.183</td>\n",
       "      <td>-22.98046</td>\n",
       "      <td>-43.64354</td>\n",
       "    </tr>\n",
       "    <tr>\n",
       "      <th>148</th>\n",
       "      <td>301</td>\n",
       "      <td>EM JONATAS SERRANO</td>\n",
       "      <td>GUARATIBA</td>\n",
       "      <td>ESTRADA DO MATO ALTO, S/NO</td>\n",
       "      <td>-22.95316</td>\n",
       "      <td>-43.57741</td>\n",
       "    </tr>\n",
       "    <tr>\n",
       "      <th>149</th>\n",
       "      <td>215</td>\n",
       "      <td>E.M. NARCISA AMALIA</td>\n",
       "      <td>ILHA DE GUARATIBA</td>\n",
       "      <td>ESTRADA TEODORETO DE CAMARGO S/N.O</td>\n",
       "      <td>-23.00908</td>\n",
       "      <td>-43.53758</td>\n",
       "    </tr>\n",
       "    <tr>\n",
       "      <th>150</th>\n",
       "      <td>606</td>\n",
       "      <td>EM PROFESSOR CASTILHO</td>\n",
       "      <td>ILHA DE GUARATIBA</td>\n",
       "      <td>CAMINHO DA MATRIZ 4406</td>\n",
       "      <td>-22.99412</td>\n",
       "      <td>-43.59368</td>\n",
       "    </tr>\n",
       "  </tbody>\n",
       "</table>\n",
       "<p>139 rows × 6 columns</p>\n",
       "</div>"
      ],
      "text/plain": [
       "      id                               escolas_postos              bairro  \\\n",
       "0    178  CENTRO INTEGRADO DE EDUCACAO PUBLICA HENFIL                CAJU   \n",
       "1    634                   EM ALICE DO AMARAL PEIXOTO             BENFICA   \n",
       "2    483                           EM CELESTINO SILVA              CENTRO   \n",
       "3    476            ESCOLA MUNICIPAL FLORIANO PEIXOTO       SAO CRISTOVAO   \n",
       "4    132                            EM PEREIRA PASSOS        RIO COMPRIDO   \n",
       "..   ...                                          ...                 ...   \n",
       "146  210                   EM DEBORA MENDES DE MORAES  PEDRA DE GUARATIBA   \n",
       "147  474                  EM ENGENHEIRO GASTAO RANGEL           GUARATIBA   \n",
       "148  301                           EM JONATAS SERRANO           GUARATIBA   \n",
       "149  215                          E.M. NARCISA AMALIA   ILHA DE GUARATIBA   \n",
       "150  606                        EM PROFESSOR CASTILHO   ILHA DE GUARATIBA   \n",
       "\n",
       "                              endereço        lat       lon  \n",
       "0                 RUA CARLOS SEIDL S/NO -22.88089 -43.22533  \n",
       "1                         RUA EBANO 187 -22.88957 -43.23620  \n",
       "2                    R. DO LAVRADIO, 56 -22.90929 -43.18358  \n",
       "3                    PRACA ARGENTINA 20 -22.89763 -43.22746  \n",
       "4    PRACA CONDESSA PAULO DE FRONTIN 45 -22.92441 -43.20858  \n",
       "..                                  ...       ...       ...  \n",
       "146         RUA BELCHIOR DA FONSECA 643 -23.00142 -43.63876  \n",
       "147            ESTRADA DO MAGARCA 9.183 -22.98046 -43.64354  \n",
       "148          ESTRADA DO MATO ALTO, S/NO -22.95316 -43.57741  \n",
       "149  ESTRADA TEODORETO DE CAMARGO S/N.O -23.00908 -43.53758  \n",
       "150              CAMINHO DA MATRIZ 4406 -22.99412 -43.59368  \n",
       "\n",
       "[139 rows x 6 columns]"
      ]
     },
     "execution_count": 55,
     "metadata": {},
     "output_type": "execute_result"
    }
   ],
   "source": [
    "df2_escolas"
   ]
  },
  {
   "cell_type": "code",
   "execution_count": 56,
   "metadata": {},
   "outputs": [
    {
     "data": {
      "text/html": [
       "<div>\n",
       "<style scoped>\n",
       "    .dataframe tbody tr th:only-of-type {\n",
       "        vertical-align: middle;\n",
       "    }\n",
       "\n",
       "    .dataframe tbody tr th {\n",
       "        vertical-align: top;\n",
       "    }\n",
       "\n",
       "    .dataframe thead th {\n",
       "        text-align: right;\n",
       "    }\n",
       "</style>\n",
       "<table border=\"1\" class=\"dataframe\">\n",
       "  <thead>\n",
       "    <tr style=\"text-align: right;\">\n",
       "      <th></th>\n",
       "      <th>id</th>\n",
       "      <th>quantidade</th>\n",
       "    </tr>\n",
       "  </thead>\n",
       "  <tbody>\n",
       "    <tr>\n",
       "      <th>0</th>\n",
       "      <td>178</td>\n",
       "      <td>20.0</td>\n",
       "    </tr>\n",
       "    <tr>\n",
       "      <th>1</th>\n",
       "      <td>634</td>\n",
       "      <td>121.0</td>\n",
       "    </tr>\n",
       "    <tr>\n",
       "      <th>2</th>\n",
       "      <td>483</td>\n",
       "      <td>220.0</td>\n",
       "    </tr>\n",
       "    <tr>\n",
       "      <th>3</th>\n",
       "      <td>476</td>\n",
       "      <td>190.0</td>\n",
       "    </tr>\n",
       "    <tr>\n",
       "      <th>4</th>\n",
       "      <td>132</td>\n",
       "      <td>67.0</td>\n",
       "    </tr>\n",
       "    <tr>\n",
       "      <th>...</th>\n",
       "      <td>...</td>\n",
       "      <td>...</td>\n",
       "    </tr>\n",
       "    <tr>\n",
       "      <th>146</th>\n",
       "      <td>474</td>\n",
       "      <td>320.0</td>\n",
       "    </tr>\n",
       "    <tr>\n",
       "      <th>147</th>\n",
       "      <td>301</td>\n",
       "      <td>335.0</td>\n",
       "    </tr>\n",
       "    <tr>\n",
       "      <th>148</th>\n",
       "      <td>215</td>\n",
       "      <td>342.0</td>\n",
       "    </tr>\n",
       "    <tr>\n",
       "      <th>149</th>\n",
       "      <td>606</td>\n",
       "      <td>521.0</td>\n",
       "    </tr>\n",
       "    <tr>\n",
       "      <th>150</th>\n",
       "      <td>590</td>\n",
       "      <td>225.0</td>\n",
       "    </tr>\n",
       "  </tbody>\n",
       "</table>\n",
       "<p>151 rows × 2 columns</p>\n",
       "</div>"
      ],
      "text/plain": [
       "      id  quantidade\n",
       "0    178        20.0\n",
       "1    634       121.0\n",
       "2    483       220.0\n",
       "3    476       190.0\n",
       "4    132        67.0\n",
       "..   ...         ...\n",
       "146  474       320.0\n",
       "147  301       335.0\n",
       "148  215       342.0\n",
       "149  606       521.0\n",
       "150  590       225.0\n",
       "\n",
       "[151 rows x 2 columns]"
      ]
     },
     "execution_count": 56,
     "metadata": {},
     "output_type": "execute_result"
    }
   ],
   "source": [
    "df2_material_didatico"
   ]
  },
  {
   "cell_type": "code",
   "execution_count": 57,
   "metadata": {},
   "outputs": [
    {
     "data": {
      "text/html": [
       "<div>\n",
       "<style scoped>\n",
       "    .dataframe tbody tr th:only-of-type {\n",
       "        vertical-align: middle;\n",
       "    }\n",
       "\n",
       "    .dataframe tbody tr th {\n",
       "        vertical-align: top;\n",
       "    }\n",
       "\n",
       "    .dataframe thead th {\n",
       "        text-align: right;\n",
       "    }\n",
       "</style>\n",
       "<table border=\"1\" class=\"dataframe\">\n",
       "  <thead>\n",
       "    <tr style=\"text-align: right;\">\n",
       "      <th></th>\n",
       "      <th>nome</th>\n",
       "      <th>subprefeitura</th>\n",
       "    </tr>\n",
       "  </thead>\n",
       "  <tbody>\n",
       "    <tr>\n",
       "      <th>0</th>\n",
       "      <td>SANTO CRISTO</td>\n",
       "      <td>CENTRO</td>\n",
       "    </tr>\n",
       "    <tr>\n",
       "      <th>1</th>\n",
       "      <td>GAMBOA</td>\n",
       "      <td>CENTRO</td>\n",
       "    </tr>\n",
       "    <tr>\n",
       "      <th>2</th>\n",
       "      <td>SAUDE</td>\n",
       "      <td>CENTRO</td>\n",
       "    </tr>\n",
       "    <tr>\n",
       "      <th>3</th>\n",
       "      <td>CAJU</td>\n",
       "      <td>CENTRO</td>\n",
       "    </tr>\n",
       "    <tr>\n",
       "      <th>4</th>\n",
       "      <td>CENTRO</td>\n",
       "      <td>CENTRO</td>\n",
       "    </tr>\n",
       "    <tr>\n",
       "      <th>...</th>\n",
       "      <td>...</td>\n",
       "      <td>...</td>\n",
       "    </tr>\n",
       "    <tr>\n",
       "      <th>159</th>\n",
       "      <td>SANTA CRUZ</td>\n",
       "      <td>ZONA OESTE</td>\n",
       "    </tr>\n",
       "    <tr>\n",
       "      <th>160</th>\n",
       "      <td>GUARATIBA</td>\n",
       "      <td>ZONA OESTE</td>\n",
       "    </tr>\n",
       "    <tr>\n",
       "      <th>161</th>\n",
       "      <td>BARRA DE GUARATIBA</td>\n",
       "      <td>ZONA OESTE</td>\n",
       "    </tr>\n",
       "    <tr>\n",
       "      <th>162</th>\n",
       "      <td>PEDRA DE GUARATIBA</td>\n",
       "      <td>ZONA OESTE</td>\n",
       "    </tr>\n",
       "    <tr>\n",
       "      <th>163</th>\n",
       "      <td>ILHA DE GUARATIBA</td>\n",
       "      <td>ZONA OESTE</td>\n",
       "    </tr>\n",
       "  </tbody>\n",
       "</table>\n",
       "<p>164 rows × 2 columns</p>\n",
       "</div>"
      ],
      "text/plain": [
       "                   nome subprefeitura\n",
       "0          SANTO CRISTO        CENTRO\n",
       "1                GAMBOA        CENTRO\n",
       "2                 SAUDE        CENTRO\n",
       "3                  CAJU        CENTRO\n",
       "4                CENTRO        CENTRO\n",
       "..                  ...           ...\n",
       "159          SANTA CRUZ    ZONA OESTE\n",
       "160           GUARATIBA    ZONA OESTE\n",
       "161  BARRA DE GUARATIBA    ZONA OESTE\n",
       "162  PEDRA DE GUARATIBA    ZONA OESTE\n",
       "163   ILHA DE GUARATIBA    ZONA OESTE\n",
       "\n",
       "[164 rows x 2 columns]"
      ]
     },
     "execution_count": 57,
     "metadata": {},
     "output_type": "execute_result"
    }
   ],
   "source": [
    "df2_subprefeituras"
   ]
  },
  {
   "cell_type": "markdown",
   "metadata": {},
   "source": [
    "## 2.1. Merge dos dados"
   ]
  },
  {
   "cell_type": "code",
   "execution_count": 58,
   "metadata": {},
   "outputs": [],
   "source": [
    "df2_merged = pd.merge(df2_escolas, df2_subprefeituras, left_on='bairro', right_on='nome', how='left')"
   ]
  },
  {
   "cell_type": "code",
   "execution_count": 59,
   "metadata": {},
   "outputs": [
    {
     "data": {
      "text/html": [
       "<div>\n",
       "<style scoped>\n",
       "    .dataframe tbody tr th:only-of-type {\n",
       "        vertical-align: middle;\n",
       "    }\n",
       "\n",
       "    .dataframe tbody tr th {\n",
       "        vertical-align: top;\n",
       "    }\n",
       "\n",
       "    .dataframe thead th {\n",
       "        text-align: right;\n",
       "    }\n",
       "</style>\n",
       "<table border=\"1\" class=\"dataframe\">\n",
       "  <thead>\n",
       "    <tr style=\"text-align: right;\">\n",
       "      <th></th>\n",
       "      <th>136</th>\n",
       "      <th>46</th>\n",
       "      <th>52</th>\n",
       "      <th>72</th>\n",
       "      <th>103</th>\n",
       "    </tr>\n",
       "  </thead>\n",
       "  <tbody>\n",
       "    <tr>\n",
       "      <th>id</th>\n",
       "      <td>301</td>\n",
       "      <td>388</td>\n",
       "      <td>230</td>\n",
       "      <td>091</td>\n",
       "      <td>379</td>\n",
       "    </tr>\n",
       "    <tr>\n",
       "      <th>escolas_postos</th>\n",
       "      <td>EM JONATAS SERRANO</td>\n",
       "      <td>EM CARDEAL CAMARA</td>\n",
       "      <td>EM BERLIM</td>\n",
       "      <td>E.M. PIAUI</td>\n",
       "      <td>CIEP NELSON MANDELA</td>\n",
       "    </tr>\n",
       "    <tr>\n",
       "      <th>bairro</th>\n",
       "      <td>GUARATIBA</td>\n",
       "      <td>PARADA DE LUCAS</td>\n",
       "      <td>OLARIA</td>\n",
       "      <td>GUADALUPE</td>\n",
       "      <td>CAMPO GRANDE</td>\n",
       "    </tr>\n",
       "    <tr>\n",
       "      <th>endereço</th>\n",
       "      <td>ESTRADA DO MATO ALTO, S/NO</td>\n",
       "      <td>R. ANAMA, 98</td>\n",
       "      <td>PCA. RAMOS FIGUEIRA 20</td>\n",
       "      <td>AVENIDA BRASIL 23.364</td>\n",
       "      <td>PRACA DANIEL LAMES, S/NO</td>\n",
       "    </tr>\n",
       "    <tr>\n",
       "      <th>lat</th>\n",
       "      <td>-22.95316</td>\n",
       "      <td>-22.81527</td>\n",
       "      <td>-22.84779</td>\n",
       "      <td>-22.84542</td>\n",
       "      <td>-22.89558</td>\n",
       "    </tr>\n",
       "    <tr>\n",
       "      <th>lon</th>\n",
       "      <td>-43.57741</td>\n",
       "      <td>-43.30357</td>\n",
       "      <td>-43.26144</td>\n",
       "      <td>-43.37852</td>\n",
       "      <td>-43.57051</td>\n",
       "    </tr>\n",
       "    <tr>\n",
       "      <th>nome</th>\n",
       "      <td>GUARATIBA</td>\n",
       "      <td>PARADA DE LUCAS</td>\n",
       "      <td>OLARIA</td>\n",
       "      <td>GUADALUPE</td>\n",
       "      <td>CAMPO GRANDE</td>\n",
       "    </tr>\n",
       "    <tr>\n",
       "      <th>subprefeitura</th>\n",
       "      <td>ZONA OESTE</td>\n",
       "      <td>ZONA NORTE</td>\n",
       "      <td>ZONA NORTE</td>\n",
       "      <td>ZONA NORTE</td>\n",
       "      <td>ZONA OESTE</td>\n",
       "    </tr>\n",
       "  </tbody>\n",
       "</table>\n",
       "</div>"
      ],
      "text/plain": [
       "                                       136                46   \\\n",
       "id                                     301                388   \n",
       "escolas_postos          EM JONATAS SERRANO  EM CARDEAL CAMARA   \n",
       "bairro                           GUARATIBA    PARADA DE LUCAS   \n",
       "endereço        ESTRADA DO MATO ALTO, S/NO       R. ANAMA, 98   \n",
       "lat                              -22.95316          -22.81527   \n",
       "lon                              -43.57741          -43.30357   \n",
       "nome                             GUARATIBA    PARADA DE LUCAS   \n",
       "subprefeitura                   ZONA OESTE         ZONA NORTE   \n",
       "\n",
       "                                   52                     72   \\\n",
       "id                                 230                    091   \n",
       "escolas_postos               EM BERLIM             E.M. PIAUI   \n",
       "bairro                          OLARIA              GUADALUPE   \n",
       "endereço        PCA. RAMOS FIGUEIRA 20  AVENIDA BRASIL 23.364   \n",
       "lat                          -22.84779              -22.84542   \n",
       "lon                          -43.26144              -43.37852   \n",
       "nome                            OLARIA              GUADALUPE   \n",
       "subprefeitura               ZONA NORTE             ZONA NORTE   \n",
       "\n",
       "                                     103  \n",
       "id                                   379  \n",
       "escolas_postos       CIEP NELSON MANDELA  \n",
       "bairro                      CAMPO GRANDE  \n",
       "endereço        PRACA DANIEL LAMES, S/NO  \n",
       "lat                            -22.89558  \n",
       "lon                            -43.57051  \n",
       "nome                        CAMPO GRANDE  \n",
       "subprefeitura                 ZONA OESTE  "
      ]
     },
     "execution_count": 59,
     "metadata": {},
     "output_type": "execute_result"
    }
   ],
   "source": [
    "df2_merged.sample(5).T"
   ]
  },
  {
   "cell_type": "code",
   "execution_count": 60,
   "metadata": {},
   "outputs": [],
   "source": [
    "df2_merged = pd.merge(df2_merged, df2_material_didatico, left_on='id', right_on='id', how='inner')"
   ]
  },
  {
   "cell_type": "code",
   "execution_count": 61,
   "metadata": {},
   "outputs": [
    {
     "data": {
      "text/html": [
       "<div>\n",
       "<style scoped>\n",
       "    .dataframe tbody tr th:only-of-type {\n",
       "        vertical-align: middle;\n",
       "    }\n",
       "\n",
       "    .dataframe tbody tr th {\n",
       "        vertical-align: top;\n",
       "    }\n",
       "\n",
       "    .dataframe thead th {\n",
       "        text-align: right;\n",
       "    }\n",
       "</style>\n",
       "<table border=\"1\" class=\"dataframe\">\n",
       "  <thead>\n",
       "    <tr style=\"text-align: right;\">\n",
       "      <th></th>\n",
       "      <th>9</th>\n",
       "      <th>30</th>\n",
       "      <th>83</th>\n",
       "      <th>106</th>\n",
       "      <th>5</th>\n",
       "    </tr>\n",
       "  </thead>\n",
       "  <tbody>\n",
       "    <tr>\n",
       "      <th>id</th>\n",
       "      <td>089</td>\n",
       "      <td>587</td>\n",
       "      <td>016</td>\n",
       "      <td>171</td>\n",
       "      <td>017</td>\n",
       "    </tr>\n",
       "    <tr>\n",
       "      <th>escolas_postos</th>\n",
       "      <td>EM MARIO CLAUDIO</td>\n",
       "      <td>EM ALMIRANTE TAMANDARE</td>\n",
       "      <td>CIEP JOAO BATISTA DOS SANTOS</td>\n",
       "      <td>ESCOLA MUNICIPAL PADRE LEONEL FRANCA</td>\n",
       "      <td>E.M PRESIDENTE JOSE LINHARES</td>\n",
       "    </tr>\n",
       "    <tr>\n",
       "      <th>bairro</th>\n",
       "      <td>RIO COMPRIDO</td>\n",
       "      <td>VIDIGAL</td>\n",
       "      <td>CIDADE DE DEUS</td>\n",
       "      <td>REALENGO</td>\n",
       "      <td>IPANEMA</td>\n",
       "    </tr>\n",
       "    <tr>\n",
       "      <th>endereço</th>\n",
       "      <td>R. HADDOCK LOBO, 148</td>\n",
       "      <td>AVENIDA PRESIDENTE JOAO GOULART 296</td>\n",
       "      <td>RUA EDGAR WERNECK, 1.565</td>\n",
       "      <td>AVENIDA CANAL S/NDEG</td>\n",
       "      <td>R. BARAO DA TORRE, 90</td>\n",
       "    </tr>\n",
       "    <tr>\n",
       "      <th>lat</th>\n",
       "      <td>-22.91723</td>\n",
       "      <td>-22.9937</td>\n",
       "      <td>-22.94711</td>\n",
       "      <td>-22.88346</td>\n",
       "      <td>-22.98333</td>\n",
       "    </tr>\n",
       "    <tr>\n",
       "      <th>lon</th>\n",
       "      <td>-43.21104</td>\n",
       "      <td>-43.23558</td>\n",
       "      <td>-43.35974</td>\n",
       "      <td>-43.42945</td>\n",
       "      <td>-43.19904</td>\n",
       "    </tr>\n",
       "    <tr>\n",
       "      <th>nome</th>\n",
       "      <td>RIO COMPRIDO</td>\n",
       "      <td>VIDIGAL</td>\n",
       "      <td>CIDADE DE DEUS</td>\n",
       "      <td>REALENGO</td>\n",
       "      <td>IPANEMA</td>\n",
       "    </tr>\n",
       "    <tr>\n",
       "      <th>subprefeitura</th>\n",
       "      <td>CENTRO</td>\n",
       "      <td>ZONA SUL</td>\n",
       "      <td>JACAREPAGUA</td>\n",
       "      <td>GRANDE BANGU</td>\n",
       "      <td>ZONA SUL</td>\n",
       "    </tr>\n",
       "    <tr>\n",
       "      <th>quantidade</th>\n",
       "      <td>473.0</td>\n",
       "      <td>336.0</td>\n",
       "      <td>430.0</td>\n",
       "      <td>235.0</td>\n",
       "      <td>48.0</td>\n",
       "    </tr>\n",
       "  </tbody>\n",
       "</table>\n",
       "</div>"
      ],
      "text/plain": [
       "                                 9                                    30   \\\n",
       "id                               089                                  587   \n",
       "escolas_postos      EM MARIO CLAUDIO               EM ALMIRANTE TAMANDARE   \n",
       "bairro                  RIO COMPRIDO                              VIDIGAL   \n",
       "endereço        R. HADDOCK LOBO, 148  AVENIDA PRESIDENTE JOAO GOULART 296   \n",
       "lat                        -22.91723                             -22.9937   \n",
       "lon                        -43.21104                            -43.23558   \n",
       "nome                    RIO COMPRIDO                              VIDIGAL   \n",
       "subprefeitura                 CENTRO                             ZONA SUL   \n",
       "quantidade                     473.0                                336.0   \n",
       "\n",
       "                                         83   \\\n",
       "id                                       016   \n",
       "escolas_postos  CIEP JOAO BATISTA DOS SANTOS   \n",
       "bairro                        CIDADE DE DEUS   \n",
       "endereço            RUA EDGAR WERNECK, 1.565   \n",
       "lat                                -22.94711   \n",
       "lon                                -43.35974   \n",
       "nome                          CIDADE DE DEUS   \n",
       "subprefeitura                    JACAREPAGUA   \n",
       "quantidade                             430.0   \n",
       "\n",
       "                                                 106  \\\n",
       "id                                               171   \n",
       "escolas_postos  ESCOLA MUNICIPAL PADRE LEONEL FRANCA   \n",
       "bairro                                      REALENGO   \n",
       "endereço                        AVENIDA CANAL S/NDEG   \n",
       "lat                                        -22.88346   \n",
       "lon                                        -43.42945   \n",
       "nome                                        REALENGO   \n",
       "subprefeitura                           GRANDE BANGU   \n",
       "quantidade                                     235.0   \n",
       "\n",
       "                                         5    \n",
       "id                                       017  \n",
       "escolas_postos  E.M PRESIDENTE JOSE LINHARES  \n",
       "bairro                               IPANEMA  \n",
       "endereço               R. BARAO DA TORRE, 90  \n",
       "lat                                -22.98333  \n",
       "lon                                -43.19904  \n",
       "nome                                 IPANEMA  \n",
       "subprefeitura                       ZONA SUL  \n",
       "quantidade                              48.0  "
      ]
     },
     "execution_count": 61,
     "metadata": {},
     "output_type": "execute_result"
    }
   ],
   "source": [
    "df2_merged.sample(5).T"
   ]
  },
  {
   "cell_type": "markdown",
   "metadata": {},
   "source": [
    "## 2.2. Tratamento de Nulos"
   ]
  },
  {
   "cell_type": "code",
   "execution_count": 62,
   "metadata": {},
   "outputs": [
    {
     "data": {
      "text/plain": [
       "id                0\n",
       "escolas_postos    0\n",
       "bairro            0\n",
       "endereço          0\n",
       "lat               0\n",
       "lon               0\n",
       "nome              9\n",
       "subprefeitura     9\n",
       "quantidade        0\n",
       "dtype: int64"
      ]
     },
     "execution_count": 62,
     "metadata": {},
     "output_type": "execute_result"
    }
   ],
   "source": [
    "df2_merged.isna().sum()"
   ]
  },
  {
   "cell_type": "code",
   "execution_count": 63,
   "metadata": {},
   "outputs": [
    {
     "data": {
      "text/html": [
       "<div>\n",
       "<style scoped>\n",
       "    .dataframe tbody tr th:only-of-type {\n",
       "        vertical-align: middle;\n",
       "    }\n",
       "\n",
       "    .dataframe tbody tr th {\n",
       "        vertical-align: top;\n",
       "    }\n",
       "\n",
       "    .dataframe thead th {\n",
       "        text-align: right;\n",
       "    }\n",
       "</style>\n",
       "<table border=\"1\" class=\"dataframe\">\n",
       "  <thead>\n",
       "    <tr style=\"text-align: right;\">\n",
       "      <th></th>\n",
       "      <th>id</th>\n",
       "      <th>escolas_postos</th>\n",
       "      <th>bairro</th>\n",
       "      <th>endereço</th>\n",
       "      <th>lat</th>\n",
       "      <th>lon</th>\n",
       "      <th>nome</th>\n",
       "      <th>subprefeitura</th>\n",
       "      <th>quantidade</th>\n",
       "    </tr>\n",
       "  </thead>\n",
       "  <tbody>\n",
       "    <tr>\n",
       "      <th>113</th>\n",
       "      <td>262</td>\n",
       "      <td>CIEP HERIVELTO MARTINS</td>\n",
       "      <td>AUGUSTO VASCONCELOS</td>\n",
       "      <td>PRACA SANTO ANASTACIO, S/N</td>\n",
       "      <td>-22.88649</td>\n",
       "      <td>-43.52880</td>\n",
       "      <td>NaN</td>\n",
       "      <td>NaN</td>\n",
       "      <td>221.0</td>\n",
       "    </tr>\n",
       "    <tr>\n",
       "      <th>89</th>\n",
       "      <td>550</td>\n",
       "      <td>EM 25 DE ABRIL</td>\n",
       "      <td>FREGUESIA JPA</td>\n",
       "      <td>RUA MAMORE 78</td>\n",
       "      <td>-22.93816</td>\n",
       "      <td>-43.34258</td>\n",
       "      <td>NaN</td>\n",
       "      <td>NaN</td>\n",
       "      <td>128.0</td>\n",
       "    </tr>\n",
       "    <tr>\n",
       "      <th>92</th>\n",
       "      <td>492</td>\n",
       "      <td>EM MENEZES CORTES</td>\n",
       "      <td>FREGUESIA JPA</td>\n",
       "      <td>PRACA JOSE ALVES DE AZEVEDO 43</td>\n",
       "      <td>-22.94266</td>\n",
       "      <td>-43.33897</td>\n",
       "      <td>NaN</td>\n",
       "      <td>NaN</td>\n",
       "      <td>342.0</td>\n",
       "    </tr>\n",
       "    <tr>\n",
       "      <th>29</th>\n",
       "      <td>060</td>\n",
       "      <td>ESCOLA MUNICIPAL BARAO HOMEM DE MELO</td>\n",
       "      <td>MARACANA/ TIJUCA</td>\n",
       "      <td>R. ALM. JOAO CANDIDO BRASIL, 352</td>\n",
       "      <td>-22.91683</td>\n",
       "      <td>-43.23692</td>\n",
       "      <td>NaN</td>\n",
       "      <td>NaN</td>\n",
       "      <td>342.0</td>\n",
       "    </tr>\n",
       "    <tr>\n",
       "      <th>28</th>\n",
       "      <td>280</td>\n",
       "      <td>ESCOLA MUNICIPAL GENERAL HUMBERTO DE SOUZA MELLO</td>\n",
       "      <td>MARACANA/ VILA ISABEL</td>\n",
       "      <td>R. OITO DE DEZEMBRO, 275</td>\n",
       "      <td>-22.90982</td>\n",
       "      <td>-43.23939</td>\n",
       "      <td>NaN</td>\n",
       "      <td>NaN</td>\n",
       "      <td>491.0</td>\n",
       "    </tr>\n",
       "    <tr>\n",
       "      <th>131</th>\n",
       "      <td>068</td>\n",
       "      <td>EM WALQUIR PEREIRA</td>\n",
       "      <td>NOVA SEPETIBA</td>\n",
       "      <td>ESTRADA DE SEPETIBA S/N BLOCO 1</td>\n",
       "      <td>-22.95601</td>\n",
       "      <td>-43.68675</td>\n",
       "      <td>NaN</td>\n",
       "      <td>NaN</td>\n",
       "      <td>135.0</td>\n",
       "    </tr>\n",
       "    <tr>\n",
       "      <th>78</th>\n",
       "      <td>412</td>\n",
       "      <td>EM MOZART LAGO</td>\n",
       "      <td>OSWALDO CRUZ</td>\n",
       "      <td>RUA JOSE CARVALHO SALGADO S/N.O</td>\n",
       "      <td>-22.87221</td>\n",
       "      <td>-43.35033</td>\n",
       "      <td>NaN</td>\n",
       "      <td>NaN</td>\n",
       "      <td>395.0</td>\n",
       "    </tr>\n",
       "    <tr>\n",
       "      <th>85</th>\n",
       "      <td>528</td>\n",
       "      <td>CIEP MARGARET MEE</td>\n",
       "      <td>RECREIO</td>\n",
       "      <td>RUA MINISTRO ALIOMAR BALEEIRO S/NO</td>\n",
       "      <td>-23.01981</td>\n",
       "      <td>-43.48172</td>\n",
       "      <td>NaN</td>\n",
       "      <td>NaN</td>\n",
       "      <td>51.0</td>\n",
       "    </tr>\n",
       "    <tr>\n",
       "      <th>86</th>\n",
       "      <td>414</td>\n",
       "      <td>EM CLAUDIO BESSERMAN VIANNA - BUSSUNDA</td>\n",
       "      <td>RIO DAS PEDRAS</td>\n",
       "      <td>ESTRADA DE JACAREPAGUA 3327</td>\n",
       "      <td>-22.97336</td>\n",
       "      <td>-43.32916</td>\n",
       "      <td>NaN</td>\n",
       "      <td>NaN</td>\n",
       "      <td>26.0</td>\n",
       "    </tr>\n",
       "  </tbody>\n",
       "</table>\n",
       "</div>"
      ],
      "text/plain": [
       "      id                                    escolas_postos  \\\n",
       "113  262                            CIEP HERIVELTO MARTINS   \n",
       "89   550                                    EM 25 DE ABRIL   \n",
       "92   492                                 EM MENEZES CORTES   \n",
       "29   060              ESCOLA MUNICIPAL BARAO HOMEM DE MELO   \n",
       "28   280  ESCOLA MUNICIPAL GENERAL HUMBERTO DE SOUZA MELLO   \n",
       "131  068                                EM WALQUIR PEREIRA   \n",
       "78   412                                    EM MOZART LAGO   \n",
       "85   528                                 CIEP MARGARET MEE   \n",
       "86   414            EM CLAUDIO BESSERMAN VIANNA - BUSSUNDA   \n",
       "\n",
       "                    bairro                           endereço        lat  \\\n",
       "113    AUGUSTO VASCONCELOS          PRACA SANTO ANASTACIO, S/N -22.88649   \n",
       "89           FREGUESIA JPA                       RUA MAMORE 78 -22.93816   \n",
       "92           FREGUESIA JPA      PRACA JOSE ALVES DE AZEVEDO 43 -22.94266   \n",
       "29        MARACANA/ TIJUCA    R. ALM. JOAO CANDIDO BRASIL, 352 -22.91683   \n",
       "28   MARACANA/ VILA ISABEL            R. OITO DE DEZEMBRO, 275 -22.90982   \n",
       "131          NOVA SEPETIBA     ESTRADA DE SEPETIBA S/N BLOCO 1 -22.95601   \n",
       "78            OSWALDO CRUZ     RUA JOSE CARVALHO SALGADO S/N.O -22.87221   \n",
       "85                 RECREIO  RUA MINISTRO ALIOMAR BALEEIRO S/NO -23.01981   \n",
       "86          RIO DAS PEDRAS         ESTRADA DE JACAREPAGUA 3327 -22.97336   \n",
       "\n",
       "          lon nome subprefeitura  quantidade  \n",
       "113 -43.52880  NaN           NaN       221.0  \n",
       "89  -43.34258  NaN           NaN       128.0  \n",
       "92  -43.33897  NaN           NaN       342.0  \n",
       "29  -43.23692  NaN           NaN       342.0  \n",
       "28  -43.23939  NaN           NaN       491.0  \n",
       "131 -43.68675  NaN           NaN       135.0  \n",
       "78  -43.35033  NaN           NaN       395.0  \n",
       "85  -43.48172  NaN           NaN        51.0  \n",
       "86  -43.32916  NaN           NaN        26.0  "
      ]
     },
     "execution_count": 63,
     "metadata": {},
     "output_type": "execute_result"
    }
   ],
   "source": [
    "df2_merged[df2_merged['subprefeitura'].isna()].sort_values(by='bairro')"
   ]
  },
  {
   "cell_type": "code",
   "execution_count": 64,
   "metadata": {},
   "outputs": [],
   "source": [
    "# id = 262 | AUGUSTO VASCONCELOS = NaN\n",
    "\n",
    "# id = 550 | FREGUESIA JPA = FREGUESIA (JACAREPAGUA) | JACAREPAGUA\n",
    "df2_merged.loc[df2_merged['id'] == '550', 'nome'] = 'FREGUESIA (JACAREPAGUA)'\n",
    "df2_merged.loc[df2_merged['id'] == '550', 'subprefeitura'] = 'JACAREPAGUA'\n",
    "\n",
    "# id = 492 | FREGUESIA JPA = FREGUESIA (JACAREPAGUA)\n",
    "df2_merged.loc[df2_merged['id'] == '492', 'nome'] = 'FREGUESIA (JACAREPAGUA)'\n",
    "df2_merged.loc[df2_merged['id'] == '492', 'subprefeitura']  = 'JACAREPAGUA'\n",
    "\n",
    "# id = 060 | MARACANA/ TIJUCA = MARACANA\n",
    "df2_merged.loc[df2_merged['id'] == '060', 'nome'] = 'MARACANA'\n",
    "df2_merged.loc[df2_merged['id'] == '060', 'subprefeitura'] = 'GRANDE TIJUCA'\n",
    "\n",
    "# id = 280 | MARACANA/ VILA ISABEL  MARACANA\n",
    "df2_merged.loc[df2_merged['id'] == '280', 'nome'] = 'MARACANA'\n",
    "df2_merged.loc[df2_merged['id'] == '280', 'subprefeitura'] = 'GRANDE TIJUCA'\n",
    "\n",
    "# id = 068 | NOVA SEPETIBA = NaN\n",
    "\n",
    "# id = 412 | OSWALDO CRUZ = OSVALDO CRUZ\n",
    "df2_merged.loc[df2_merged['id'] == '412', 'nome'] = 'OSVALDO CRUZ'\n",
    "df2_merged.loc[df2_merged['id'] == '412', 'subprefeitura']= 'ZONA NORTE'\n",
    "\n",
    "# id = 528 | RECREIO = RECREIO DOS BANDEIRANTES\n",
    "df2_merged.loc[df2_merged['id'] == '528', 'nome'] = 'RECREIO DOS BANDEIRANTES'\n",
    "df2_merged.loc[df2_merged['id'] == '528', 'subprefeitura'] = 'BARRA DA TIJUCA'\n",
    "\n",
    "# id = 414 | RIO DAS PEDRAS = NaN"
   ]
  },
  {
   "cell_type": "code",
   "execution_count": 65,
   "metadata": {},
   "outputs": [
    {
     "data": {
      "text/html": [
       "<div>\n",
       "<style scoped>\n",
       "    .dataframe tbody tr th:only-of-type {\n",
       "        vertical-align: middle;\n",
       "    }\n",
       "\n",
       "    .dataframe tbody tr th {\n",
       "        vertical-align: top;\n",
       "    }\n",
       "\n",
       "    .dataframe thead th {\n",
       "        text-align: right;\n",
       "    }\n",
       "</style>\n",
       "<table border=\"1\" class=\"dataframe\">\n",
       "  <thead>\n",
       "    <tr style=\"text-align: right;\">\n",
       "      <th></th>\n",
       "      <th>id</th>\n",
       "      <th>escolas_postos</th>\n",
       "      <th>bairro</th>\n",
       "      <th>endereço</th>\n",
       "      <th>lat</th>\n",
       "      <th>lon</th>\n",
       "      <th>nome</th>\n",
       "      <th>subprefeitura</th>\n",
       "      <th>quantidade</th>\n",
       "    </tr>\n",
       "  </thead>\n",
       "  <tbody>\n",
       "    <tr>\n",
       "      <th>113</th>\n",
       "      <td>262</td>\n",
       "      <td>CIEP HERIVELTO MARTINS</td>\n",
       "      <td>AUGUSTO VASCONCELOS</td>\n",
       "      <td>PRACA SANTO ANASTACIO, S/N</td>\n",
       "      <td>-22.88649</td>\n",
       "      <td>-43.52880</td>\n",
       "      <td>NaN</td>\n",
       "      <td>NaN</td>\n",
       "      <td>221.0</td>\n",
       "    </tr>\n",
       "    <tr>\n",
       "      <th>131</th>\n",
       "      <td>068</td>\n",
       "      <td>EM WALQUIR PEREIRA</td>\n",
       "      <td>NOVA SEPETIBA</td>\n",
       "      <td>ESTRADA DE SEPETIBA S/N BLOCO 1</td>\n",
       "      <td>-22.95601</td>\n",
       "      <td>-43.68675</td>\n",
       "      <td>NaN</td>\n",
       "      <td>NaN</td>\n",
       "      <td>135.0</td>\n",
       "    </tr>\n",
       "    <tr>\n",
       "      <th>86</th>\n",
       "      <td>414</td>\n",
       "      <td>EM CLAUDIO BESSERMAN VIANNA - BUSSUNDA</td>\n",
       "      <td>RIO DAS PEDRAS</td>\n",
       "      <td>ESTRADA DE JACAREPAGUA 3327</td>\n",
       "      <td>-22.97336</td>\n",
       "      <td>-43.32916</td>\n",
       "      <td>NaN</td>\n",
       "      <td>NaN</td>\n",
       "      <td>26.0</td>\n",
       "    </tr>\n",
       "  </tbody>\n",
       "</table>\n",
       "</div>"
      ],
      "text/plain": [
       "      id                          escolas_postos               bairro  \\\n",
       "113  262                  CIEP HERIVELTO MARTINS  AUGUSTO VASCONCELOS   \n",
       "131  068                      EM WALQUIR PEREIRA        NOVA SEPETIBA   \n",
       "86   414  EM CLAUDIO BESSERMAN VIANNA - BUSSUNDA       RIO DAS PEDRAS   \n",
       "\n",
       "                           endereço        lat       lon nome subprefeitura  \\\n",
       "113       PRACA SANTO ANASTACIO, S/N -22.88649 -43.52880  NaN           NaN   \n",
       "131  ESTRADA DE SEPETIBA S/N BLOCO 1 -22.95601 -43.68675  NaN           NaN   \n",
       "86       ESTRADA DE JACAREPAGUA 3327 -22.97336 -43.32916  NaN           NaN   \n",
       "\n",
       "     quantidade  \n",
       "113       221.0  \n",
       "131       135.0  \n",
       "86         26.0  "
      ]
     },
     "execution_count": 65,
     "metadata": {},
     "output_type": "execute_result"
    }
   ],
   "source": [
    "df2_merged[df2_merged['subprefeitura'].isna()].sort_values(by='bairro')"
   ]
  },
  {
   "cell_type": "markdown",
   "metadata": {},
   "source": [
    "## 2.3. Salvar dados"
   ]
  },
  {
   "cell_type": "code",
   "execution_count": 66,
   "metadata": {},
   "outputs": [
    {
     "data": {
      "text/html": [
       "<div>\n",
       "<style scoped>\n",
       "    .dataframe tbody tr th:only-of-type {\n",
       "        vertical-align: middle;\n",
       "    }\n",
       "\n",
       "    .dataframe tbody tr th {\n",
       "        vertical-align: top;\n",
       "    }\n",
       "\n",
       "    .dataframe thead th {\n",
       "        text-align: right;\n",
       "    }\n",
       "</style>\n",
       "<table border=\"1\" class=\"dataframe\">\n",
       "  <thead>\n",
       "    <tr style=\"text-align: right;\">\n",
       "      <th></th>\n",
       "      <th>66</th>\n",
       "      <th>24</th>\n",
       "      <th>6</th>\n",
       "      <th>30</th>\n",
       "      <th>90</th>\n",
       "    </tr>\n",
       "  </thead>\n",
       "  <tbody>\n",
       "    <tr>\n",
       "      <th>id</th>\n",
       "      <td>274</td>\n",
       "      <td>126</td>\n",
       "      <td>055</td>\n",
       "      <td>587</td>\n",
       "      <td>211</td>\n",
       "    </tr>\n",
       "    <tr>\n",
       "      <th>escolas_postos</th>\n",
       "      <td>EM ABEILARD FEIJO</td>\n",
       "      <td>EM DUQUE DE CAXIAS</td>\n",
       "      <td>EM SANTA CATARINA</td>\n",
       "      <td>EM ALMIRANTE TAMANDARE</td>\n",
       "      <td>EM FRANCIS HIME</td>\n",
       "    </tr>\n",
       "    <tr>\n",
       "      <th>bairro</th>\n",
       "      <td>CACUIA</td>\n",
       "      <td>GRAJAU</td>\n",
       "      <td>SANTA TERESA</td>\n",
       "      <td>VIDIGAL</td>\n",
       "      <td>TAQUARA</td>\n",
       "    </tr>\n",
       "    <tr>\n",
       "      <th>endereço</th>\n",
       "      <td>ESTRADA DA CACUIA 1386</td>\n",
       "      <td>R. MAL. JOFRE, 74</td>\n",
       "      <td>RUA EDUARDO SANTOS 38</td>\n",
       "      <td>AVENIDA PRESIDENTE JOAO GOULART 296</td>\n",
       "      <td>ESTRADA PAU DA FOME 196</td>\n",
       "    </tr>\n",
       "    <tr>\n",
       "      <th>lat</th>\n",
       "      <td>-22.80769</td>\n",
       "      <td>-22.91854</td>\n",
       "      <td>-22.91554</td>\n",
       "      <td>-22.9937</td>\n",
       "      <td>-22.91883</td>\n",
       "    </tr>\n",
       "    <tr>\n",
       "      <th>lon</th>\n",
       "      <td>-43.18156</td>\n",
       "      <td>-43.26509</td>\n",
       "      <td>-43.19159</td>\n",
       "      <td>-43.23558</td>\n",
       "      <td>-43.41625</td>\n",
       "    </tr>\n",
       "    <tr>\n",
       "      <th>nome</th>\n",
       "      <td>CACUIA</td>\n",
       "      <td>GRAJAU</td>\n",
       "      <td>SANTA TERESA</td>\n",
       "      <td>VIDIGAL</td>\n",
       "      <td>TAQUARA</td>\n",
       "    </tr>\n",
       "    <tr>\n",
       "      <th>subprefeitura</th>\n",
       "      <td>ILHAS</td>\n",
       "      <td>GRANDE TIJUCA</td>\n",
       "      <td>CENTRO</td>\n",
       "      <td>ZONA SUL</td>\n",
       "      <td>JACAREPAGUA</td>\n",
       "    </tr>\n",
       "    <tr>\n",
       "      <th>quantidade</th>\n",
       "      <td>561.0</td>\n",
       "      <td>399.0</td>\n",
       "      <td>92.0</td>\n",
       "      <td>336.0</td>\n",
       "      <td>520.0</td>\n",
       "    </tr>\n",
       "  </tbody>\n",
       "</table>\n",
       "</div>"
      ],
      "text/plain": [
       "                                    66                  24  \\\n",
       "id                                 274                 126   \n",
       "escolas_postos       EM ABEILARD FEIJO  EM DUQUE DE CAXIAS   \n",
       "bairro                          CACUIA              GRAJAU   \n",
       "endereço        ESTRADA DA CACUIA 1386   R. MAL. JOFRE, 74   \n",
       "lat                          -22.80769           -22.91854   \n",
       "lon                          -43.18156           -43.26509   \n",
       "nome                            CACUIA              GRAJAU   \n",
       "subprefeitura                    ILHAS       GRANDE TIJUCA   \n",
       "quantidade                       561.0               399.0   \n",
       "\n",
       "                                   6                                    30  \\\n",
       "id                                055                                  587   \n",
       "escolas_postos      EM SANTA CATARINA               EM ALMIRANTE TAMANDARE   \n",
       "bairro                   SANTA TERESA                              VIDIGAL   \n",
       "endereço        RUA EDUARDO SANTOS 38  AVENIDA PRESIDENTE JOAO GOULART 296   \n",
       "lat                         -22.91554                             -22.9937   \n",
       "lon                         -43.19159                            -43.23558   \n",
       "nome                     SANTA TERESA                              VIDIGAL   \n",
       "subprefeitura                  CENTRO                             ZONA SUL   \n",
       "quantidade                       92.0                                336.0   \n",
       "\n",
       "                                     90  \n",
       "id                                  211  \n",
       "escolas_postos          EM FRANCIS HIME  \n",
       "bairro                          TAQUARA  \n",
       "endereço        ESTRADA PAU DA FOME 196  \n",
       "lat                           -22.91883  \n",
       "lon                           -43.41625  \n",
       "nome                            TAQUARA  \n",
       "subprefeitura               JACAREPAGUA  \n",
       "quantidade                        520.0  "
      ]
     },
     "execution_count": 66,
     "metadata": {},
     "output_type": "execute_result"
    }
   ],
   "source": [
    "df2_merged.sample(5).T"
   ]
  },
  {
   "cell_type": "code",
   "execution_count": 67,
   "metadata": {},
   "outputs": [],
   "source": [
    "salvar_dados_csv(df2_merged, 'df2_feature_engineering.csv')"
   ]
  }
 ],
 "metadata": {
  "kernelspec": {
   "display_name": "ProjectEnv",
   "language": "python",
   "name": "python3"
  },
  "language_info": {
   "codemirror_mode": {
    "name": "ipython",
    "version": 3
   },
   "file_extension": ".py",
   "mimetype": "text/x-python",
   "name": "python",
   "nbconvert_exporter": "python",
   "pygments_lexer": "ipython3",
   "version": "3.10.0"
  }
 },
 "nbformat": 4,
 "nbformat_minor": 2
}
