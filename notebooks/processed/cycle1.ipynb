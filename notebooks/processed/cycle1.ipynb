{
 "cells": [
  {
   "cell_type": "markdown",
   "metadata": {},
   "source": [
    "# 0.0. IMPORTS"
   ]
  },
  {
   "cell_type": "markdown",
   "metadata": {},
   "source": [
    "## 0.1. Bibliotecas"
   ]
  },
  {
   "cell_type": "code",
   "execution_count": 186,
   "metadata": {},
   "outputs": [],
   "source": [
    "import pandas as pd\n",
    "import numpy as np\n",
    "import os\n",
    "import math\n",
    "\n",
    "from unidecode import unidecode\n",
    "\n",
    "import matplotlib.pyplot as plt"
   ]
  },
  {
   "cell_type": "markdown",
   "metadata": {},
   "source": [
    "## 0.2. Carregar Dados"
   ]
  },
  {
   "cell_type": "markdown",
   "metadata": {},
   "source": [
    "### 0.2.1. Escolas"
   ]
  },
  {
   "cell_type": "code",
   "execution_count": 187,
   "metadata": {},
   "outputs": [],
   "source": [
    "diretorio_escolas = os.path.dirname(os.path.abspath('escolas.csv'))\n",
    "caminho_escolas = os.path.join(diretorio_escolas, '../..', 'data', 'raw', 'escolas.csv')\n",
    "df_escolas_raw = pd.read_csv(caminho_escolas)"
   ]
  },
  {
   "cell_type": "markdown",
   "metadata": {},
   "source": [
    "### 0.2.2. Material Didatico"
   ]
  },
  {
   "cell_type": "code",
   "execution_count": 188,
   "metadata": {},
   "outputs": [],
   "source": [
    "diretorio_material_didatico = os.path.dirname(os.path.abspath('material_didatico.csv'))\n",
    "caminho_material_didatico = os.path.join(diretorio_material_didatico, '../..', 'data', 'raw', 'material_didatico.csv')\n",
    "df_material_didatico_raw = pd.read_csv(caminho_material_didatico)"
   ]
  },
  {
   "cell_type": "markdown",
   "metadata": {},
   "source": [
    "### 0.2.3. Sub-Prefeituras"
   ]
  },
  {
   "cell_type": "code",
   "execution_count": 189,
   "metadata": {},
   "outputs": [],
   "source": [
    "diretorio_subprefeituras = os.path.dirname(os.path.abspath('subprefeituras.csv'))\n",
    "caminho_subprefeituras = os.path.join(diretorio_subprefeituras, '../..', 'data', 'raw', 'subprefeituras.csv')\n",
    "df_subprefeituras_raw = pd.read_csv(caminho_subprefeituras)"
   ]
  },
  {
   "cell_type": "markdown",
   "metadata": {},
   "source": [
    "## 0.3. Funções"
   ]
  },
  {
   "cell_type": "markdown",
   "metadata": {},
   "source": [
    "### 0.3.1. renomeia_colunas"
   ]
  },
  {
   "cell_type": "code",
   "execution_count": 190,
   "metadata": {},
   "outputs": [],
   "source": [
    "def renomeia_colunas(data):\n",
    "    return [x.lower().rstrip() for x in data.columns]"
   ]
  },
  {
   "cell_type": "markdown",
   "metadata": {},
   "source": [
    "### 0.3.2. tamanho_dos_dados"
   ]
  },
  {
   "cell_type": "code",
   "execution_count": 191,
   "metadata": {},
   "outputs": [],
   "source": [
    "def tamanho_dos_dados(data):\n",
    "    print(f'Colunas: {data.shape[1]}')\n",
    "    print(f'Linhas: {data.shape[0]}')"
   ]
  },
  {
   "cell_type": "markdown",
   "metadata": {},
   "source": [
    "### 0.3.3. qtd_total_unicos_por_coluna"
   ]
  },
  {
   "cell_type": "code",
   "execution_count": 192,
   "metadata": {},
   "outputs": [],
   "source": [
    "def qtd_total_unicos_por_coluna(data):\n",
    "    for x in data.columns:\n",
    "        print(f'Quantidade de valores unicos em {x}: {len(data[x].unique())}')"
   ]
  },
  {
   "cell_type": "markdown",
   "metadata": {},
   "source": [
    "### 0.3.4. get_numericos"
   ]
  },
  {
   "cell_type": "code",
   "execution_count": 193,
   "metadata": {},
   "outputs": [],
   "source": [
    "def get_numericos(data):\n",
    "    return data.select_dtypes(include=['int32', 'int64', 'float32', 'float64'])"
   ]
  },
  {
   "cell_type": "markdown",
   "metadata": {},
   "source": [
    "### 0.3.5. get_categoricos"
   ]
  },
  {
   "cell_type": "code",
   "execution_count": 194,
   "metadata": {},
   "outputs": [],
   "source": [
    "def get_categoricos(data):\n",
    "    return data.select_dtypes(exclude=['int32', 'int64', 'float32', 'float64', 'datetime64[ns]'])"
   ]
  },
  {
   "cell_type": "markdown",
   "metadata": {},
   "source": [
    "### 0.3.6. get_descriptive_info"
   ]
  },
  {
   "cell_type": "code",
   "execution_count": 195,
   "metadata": {},
   "outputs": [],
   "source": [
    "def get_descriptive_info(data):\n",
    "    dados_numericos = get_numericos(data)\n",
    "    \n",
    "    # medidas de tendencia central - media, mediana\n",
    "    df_media = pd.DataFrame(dados_numericos.apply(np.mean)).T\n",
    "    df_mediana = pd.DataFrame(dados_numericos.apply(np.median)).T   \n",
    "    \n",
    "    # medidas de dispersão - min, max, range, skew, kurtosis, std\n",
    "    df_std = pd.DataFrame(dados_numericos.apply(np.std)).T\n",
    "    df_min = pd.DataFrame(dados_numericos.apply(min)).T\n",
    "    df_max = pd.DataFrame(dados_numericos.apply(max)).T\n",
    "    df_range = pd.DataFrame(dados_numericos.apply(lambda x: x.max() - x.min())).T\n",
    "    df_skew = pd.DataFrame(dados_numericos.apply(lambda x: x.skew())).T\n",
    "    df_kurtosis = pd.DataFrame(dados_numericos.apply(lambda x: x.kurtosis())).T\n",
    "    \n",
    "    #min, max, range, media, mediana, std, skew, kurtosis\n",
    "    df_descriptive_info = pd.concat([df_min, df_max, df_range,\n",
    "                                     df_media, df_mediana, df_std,\n",
    "                                     df_skew, df_kurtosis]).T.reset_index()\n",
    "    \n",
    "    df_descriptive_info.columns = ['attributes', 'min', 'max',\n",
    "                                   'range', 'media', 'mediana',\n",
    "                                   'std', 'skew', 'kurtosis']\n",
    "    \n",
    "    return df_descriptive_info"
   ]
  },
  {
   "cell_type": "markdown",
   "metadata": {},
   "source": [
    "### 0.3.7. salvar_dados_csv"
   ]
  },
  {
   "cell_type": "code",
   "execution_count": 196,
   "metadata": {},
   "outputs": [],
   "source": [
    "def salvar_dados_csv(data, nome=''):\n",
    "    data.to_csv(f'../../data/processed/{nome}', index=False )"
   ]
  },
  {
   "cell_type": "markdown",
   "metadata": {},
   "source": [
    "### 0.3.8. remove_acentos"
   ]
  },
  {
   "cell_type": "code",
   "execution_count": 197,
   "metadata": {},
   "outputs": [],
   "source": [
    "def remove_acentos(data):\n",
    "    categoricos = get_categoricos(data)\n",
    "    for column in categoricos.columns:        \n",
    "        data[column] = data[column].apply(lambda x: unidecode(x))\n",
    "    return data"
   ]
  },
  {
   "cell_type": "markdown",
   "metadata": {},
   "source": [
    "### 0.3.9. string_maisculo"
   ]
  },
  {
   "cell_type": "code",
   "execution_count": 198,
   "metadata": {},
   "outputs": [],
   "source": [
    "def string_maisculo(data):\n",
    "    categoricos = get_categoricos(data)\n",
    "\n",
    "    for column in categoricos:\n",
    "        data[column] = data[column].str.upper()\n",
    "        \n",
    "    return data"
   ]
  },
  {
   "cell_type": "markdown",
   "metadata": {},
   "source": [
    "### 0.3.10. remodelando_id"
   ]
  },
  {
   "cell_type": "code",
   "execution_count": 110,
   "metadata": {},
   "outputs": [],
   "source": [
    "def remodelando_id(data):\n",
    "    data['id'] = data['id'].astype(str).apply(lambda x: f'0{x}' if len(x) < 3 else f'{x}')\n",
    "    return data"
   ]
  },
  {
   "cell_type": "markdown",
   "metadata": {},
   "source": [
    "### 0.3.11. distance"
   ]
  },
  {
   "cell_type": "code",
   "execution_count": 111,
   "metadata": {},
   "outputs": [],
   "source": [
    "def distance(point1, point2):\n",
    "    \"\"\"\n",
    "    Calcula a distância entre dois pontos geográficos, usando a fórmula de Haversine.\n",
    "    \"\"\"\n",
    "    lat1, lon1 = point1\n",
    "    lat2, lon2 = point2\n",
    "    R = 6371  # raio da Terra em quilômetros\n",
    "    phi1 = math.radians(lat1)\n",
    "    phi2 = math.radians(lat2)\n",
    "    delta_phi = math.radians(lat2 - lat1)\n",
    "    delta_lambda = math.radians(lon2 - lon1)\n",
    "\n",
    "    a = (\n",
    "        math.sin(delta_phi / 2) ** 2\n",
    "        + math.cos(phi1) * math.cos(phi2) * math.sin(delta_lambda / 2) ** 2\n",
    "    )\n",
    "    c = 2 * math.atan2(math.sqrt(a), math.sqrt(1 - a))\n",
    "\n",
    "    d = R * c\n",
    "    return d"
   ]
  },
  {
   "cell_type": "markdown",
   "metadata": {},
   "source": [
    "### 0.3.12. nearest_neighbor"
   ]
  },
  {
   "cell_type": "code",
   "execution_count": 112,
   "metadata": {},
   "outputs": [],
   "source": [
    "def nearest_neighbor(points):\n",
    "    unvisited = set(\n",
    "        range(1, len(points))\n",
    "    )  # índices que representam os pontos não visitados\n",
    "    current_point = 0\n",
    "    route = [current_point]\n",
    "\n",
    "    while unvisited:\n",
    "        nearest = min(\n",
    "            unvisited, key=lambda x: distance(points[current_point], points[x])\n",
    "        )\n",
    "        route.append(nearest)\n",
    "        unvisited.remove(nearest)\n",
    "        current_point = nearest\n",
    "\n",
    "    route.append(0)  # Volta ao ponto inicial para fechar o ciclo\n",
    "    return route"
   ]
  },
  {
   "cell_type": "markdown",
   "metadata": {},
   "source": [
    "### 0.3.13. extrair_tipo_escola"
   ]
  },
  {
   "cell_type": "code",
   "execution_count": 113,
   "metadata": {},
   "outputs": [],
   "source": [
    "def extrair_tipo_escola(texto):\n",
    "    partes = texto.split()  \n",
    "    return partes[0]  "
   ]
  },
  {
   "cell_type": "markdown",
   "metadata": {},
   "source": [
    "### 0.3.14. extrair_nome_escola"
   ]
  },
  {
   "cell_type": "code",
   "execution_count": 114,
   "metadata": {},
   "outputs": [],
   "source": [
    "def extrair_nome_escola(texto):\n",
    "    indice_primeiro_espaco = texto.find(' ')  \n",
    "    if indice_primeiro_espaco != -1:\n",
    "        return texto[indice_primeiro_espaco+1:]\n",
    "    else:\n",
    "        return texto"
   ]
  },
  {
   "cell_type": "markdown",
   "metadata": {},
   "source": [
    "### 0.3.15. extrair_numero"
   ]
  },
  {
   "cell_type": "code",
   "execution_count": 115,
   "metadata": {},
   "outputs": [],
   "source": [
    "def extrair_numero(endereco):\n",
    "    palavras = endereco.split()\n",
    "    for palavra in palavras:\n",
    "        if palavra.isdigit():\n",
    "            return palavra\n",
    "    return '9999'"
   ]
  },
  {
   "cell_type": "markdown",
   "metadata": {},
   "source": [
    "# 1.0. DESCRIÇÃO DOS DADOS"
   ]
  },
  {
   "cell_type": "markdown",
   "metadata": {},
   "source": [
    "## 1.1. Escolas"
   ]
  },
  {
   "cell_type": "markdown",
   "metadata": {},
   "source": [
    "### 1.1.1. Visão Geral dos Dados"
   ]
  },
  {
   "cell_type": "code",
   "execution_count": 199,
   "metadata": {},
   "outputs": [],
   "source": [
    "df1_escolas = df_escolas_raw.copy()"
   ]
  },
  {
   "cell_type": "code",
   "execution_count": 200,
   "metadata": {},
   "outputs": [
    {
     "data": {
      "text/html": [
       "<div>\n",
       "<style scoped>\n",
       "    .dataframe tbody tr th:only-of-type {\n",
       "        vertical-align: middle;\n",
       "    }\n",
       "\n",
       "    .dataframe tbody tr th {\n",
       "        vertical-align: top;\n",
       "    }\n",
       "\n",
       "    .dataframe thead th {\n",
       "        text-align: right;\n",
       "    }\n",
       "</style>\n",
       "<table border=\"1\" class=\"dataframe\">\n",
       "  <thead>\n",
       "    <tr style=\"text-align: right;\">\n",
       "      <th></th>\n",
       "      <th>0</th>\n",
       "      <th>1</th>\n",
       "      <th>2</th>\n",
       "      <th>3</th>\n",
       "      <th>4</th>\n",
       "    </tr>\n",
       "  </thead>\n",
       "  <tbody>\n",
       "    <tr>\n",
       "      <th>id</th>\n",
       "      <td>178</td>\n",
       "      <td>634</td>\n",
       "      <td>483</td>\n",
       "      <td>476</td>\n",
       "      <td>132</td>\n",
       "    </tr>\n",
       "    <tr>\n",
       "      <th>Escolas_Postos</th>\n",
       "      <td>CENTRO INTEGRADO DE EDUCAÇÃO PÚBLICA HENFIL</td>\n",
       "      <td>EM ALICE DO AMARAL PEIXOTO</td>\n",
       "      <td>EM CELESTINO SILVA</td>\n",
       "      <td>ESCOLA MUNICIPAL FLORIANO PEIXOTO</td>\n",
       "      <td>EM PEREIRA PASSOS</td>\n",
       "    </tr>\n",
       "    <tr>\n",
       "      <th>BAIRRO</th>\n",
       "      <td>CAJU</td>\n",
       "      <td>BENFICA</td>\n",
       "      <td>CENTRO</td>\n",
       "      <td>SÃO CRISTÓVÃO</td>\n",
       "      <td>RIO COMPRIDO</td>\n",
       "    </tr>\n",
       "    <tr>\n",
       "      <th>ENDEREÇO</th>\n",
       "      <td>Rua Carlos Seidl S/Nº</td>\n",
       "      <td>Rua Ébano 187</td>\n",
       "      <td>R. do Lavradio, 56</td>\n",
       "      <td>Praça Argentina 20</td>\n",
       "      <td>Praça Condessa Paulo de Frontin 45</td>\n",
       "    </tr>\n",
       "    <tr>\n",
       "      <th>lat</th>\n",
       "      <td>-22,880888</td>\n",
       "      <td>-22,889574</td>\n",
       "      <td>-22,909293</td>\n",
       "      <td>-22,897629</td>\n",
       "      <td>-22,924412</td>\n",
       "    </tr>\n",
       "    <tr>\n",
       "      <th>lon</th>\n",
       "      <td>-43,225326</td>\n",
       "      <td>-43,236202</td>\n",
       "      <td>-43,183579</td>\n",
       "      <td>-43,227456</td>\n",
       "      <td>-43,208579</td>\n",
       "    </tr>\n",
       "  </tbody>\n",
       "</table>\n",
       "</div>"
      ],
      "text/plain": [
       "                                                          0  \\\n",
       "id                                                      178   \n",
       "Escolas_Postos  CENTRO INTEGRADO DE EDUCAÇÃO PÚBLICA HENFIL   \n",
       "BAIRRO                                                 CAJU   \n",
       "ENDEREÇO                              Rua Carlos Seidl S/Nº   \n",
       "lat                                              -22,880888   \n",
       "lon                                              -43,225326   \n",
       "\n",
       "                                         1                   2  \\\n",
       "id                                     634                 483   \n",
       "Escolas_Postos  EM ALICE DO AMARAL PEIXOTO  EM CELESTINO SILVA   \n",
       "BAIRRO                             BENFICA              CENTRO   \n",
       "ENDEREÇO                     Rua Ébano 187  R. do Lavradio, 56   \n",
       "lat                             -22,889574          -22,909293   \n",
       "lon                             -43,236202          -43,183579   \n",
       "\n",
       "                                                3  \\\n",
       "id                                            476   \n",
       "Escolas_Postos  ESCOLA MUNICIPAL FLORIANO PEIXOTO   \n",
       "BAIRRO                              SÃO CRISTÓVÃO   \n",
       "ENDEREÇO                       Praça Argentina 20   \n",
       "lat                                    -22,897629   \n",
       "lon                                    -43,227456   \n",
       "\n",
       "                                                 4  \n",
       "id                                             132  \n",
       "Escolas_Postos                   EM PEREIRA PASSOS  \n",
       "BAIRRO                                RIO COMPRIDO  \n",
       "ENDEREÇO        Praça Condessa Paulo de Frontin 45  \n",
       "lat                                     -22,924412  \n",
       "lon                                     -43,208579  "
      ]
     },
     "execution_count": 200,
     "metadata": {},
     "output_type": "execute_result"
    }
   ],
   "source": [
    "df1_escolas.head().T"
   ]
  },
  {
   "cell_type": "code",
   "execution_count": 201,
   "metadata": {},
   "outputs": [],
   "source": [
    "df1_escolas.columns = renomeia_colunas(df1_escolas)"
   ]
  },
  {
   "cell_type": "code",
   "execution_count": 202,
   "metadata": {},
   "outputs": [
    {
     "data": {
      "text/plain": [
       "Index(['id', 'escolas_postos', 'bairro', 'endereço', 'lat', 'lon'], dtype='object')"
      ]
     },
     "execution_count": 202,
     "metadata": {},
     "output_type": "execute_result"
    }
   ],
   "source": [
    "df1_escolas.columns"
   ]
  },
  {
   "cell_type": "markdown",
   "metadata": {},
   "source": [
    "### 1.1.2. Tamanho dos dados"
   ]
  },
  {
   "cell_type": "code",
   "execution_count": 120,
   "metadata": {},
   "outputs": [
    {
     "name": "stdout",
     "output_type": "stream",
     "text": [
      "Colunas: 6\n",
      "Linhas: 152\n"
     ]
    }
   ],
   "source": [
    "tamanho_dos_dados(df1_escolas)"
   ]
  },
  {
   "cell_type": "code",
   "execution_count": 203,
   "metadata": {},
   "outputs": [
    {
     "name": "stdout",
     "output_type": "stream",
     "text": [
      "Quantidade de valores unicos em id: 136\n",
      "Quantidade de valores unicos em escolas_postos: 136\n",
      "Quantidade de valores unicos em bairro: 90\n",
      "Quantidade de valores unicos em endereço: 137\n",
      "Quantidade de valores unicos em lat: 136\n",
      "Quantidade de valores unicos em lon: 135\n"
     ]
    }
   ],
   "source": [
    "qtd_total_unicos_por_coluna(df1_escolas)"
   ]
  },
  {
   "cell_type": "markdown",
   "metadata": {},
   "source": [
    "### 1.1.3. Verificar Nulos"
   ]
  },
  {
   "cell_type": "code",
   "execution_count": 204,
   "metadata": {},
   "outputs": [
    {
     "data": {
      "text/plain": [
       "id                0\n",
       "escolas_postos    0\n",
       "bairro            0\n",
       "endereço          0\n",
       "lat               0\n",
       "lon               0\n",
       "dtype: int64"
      ]
     },
     "execution_count": 204,
     "metadata": {},
     "output_type": "execute_result"
    }
   ],
   "source": [
    "df1_escolas.isna().sum()"
   ]
  },
  {
   "cell_type": "markdown",
   "metadata": {},
   "source": [
    "### 1.1.4. Verificar tipos dos dados"
   ]
  },
  {
   "cell_type": "code",
   "execution_count": 205,
   "metadata": {},
   "outputs": [
    {
     "data": {
      "text/plain": [
       "id                 int64\n",
       "escolas_postos    object\n",
       "bairro            object\n",
       "endereço          object\n",
       "lat               object\n",
       "lon               object\n",
       "dtype: object"
      ]
     },
     "execution_count": 205,
     "metadata": {},
     "output_type": "execute_result"
    }
   ],
   "source": [
    "df1_escolas.dtypes"
   ]
  },
  {
   "cell_type": "markdown",
   "metadata": {},
   "source": [
    "### 1.1.5. Verificar dados duplicados"
   ]
  },
  {
   "cell_type": "code",
   "execution_count": 206,
   "metadata": {},
   "outputs": [
    {
     "data": {
      "text/plain": [
       "13"
      ]
     },
     "execution_count": 206,
     "metadata": {},
     "output_type": "execute_result"
    }
   ],
   "source": [
    "df1_escolas.duplicated().sum()"
   ]
  },
  {
   "cell_type": "markdown",
   "metadata": {},
   "source": [
    "### 1.1.6. Tratamento Inicial"
   ]
  },
  {
   "cell_type": "code",
   "execution_count": 207,
   "metadata": {},
   "outputs": [],
   "source": [
    "df1_escolas = df1_escolas.drop_duplicates()"
   ]
  },
  {
   "cell_type": "code",
   "execution_count": 208,
   "metadata": {},
   "outputs": [
    {
     "data": {
      "text/html": [
       "<div>\n",
       "<style scoped>\n",
       "    .dataframe tbody tr th:only-of-type {\n",
       "        vertical-align: middle;\n",
       "    }\n",
       "\n",
       "    .dataframe tbody tr th {\n",
       "        vertical-align: top;\n",
       "    }\n",
       "\n",
       "    .dataframe thead th {\n",
       "        text-align: right;\n",
       "    }\n",
       "</style>\n",
       "<table border=\"1\" class=\"dataframe\">\n",
       "  <thead>\n",
       "    <tr style=\"text-align: right;\">\n",
       "      <th></th>\n",
       "      <th>id</th>\n",
       "      <th>escolas_postos</th>\n",
       "      <th>bairro</th>\n",
       "      <th>endereço</th>\n",
       "      <th>lat</th>\n",
       "      <th>lon</th>\n",
       "    </tr>\n",
       "  </thead>\n",
       "  <tbody>\n",
       "    <tr>\n",
       "      <th>0</th>\n",
       "      <td>178</td>\n",
       "      <td>CENTRO INTEGRADO DE EDUCAÇÃO PÚBLICA HENFIL</td>\n",
       "      <td>CAJU</td>\n",
       "      <td>Rua Carlos Seidl S/Nº</td>\n",
       "      <td>-22,880888</td>\n",
       "      <td>-43,225326</td>\n",
       "    </tr>\n",
       "    <tr>\n",
       "      <th>1</th>\n",
       "      <td>634</td>\n",
       "      <td>EM ALICE DO AMARAL PEIXOTO</td>\n",
       "      <td>BENFICA</td>\n",
       "      <td>Rua Ébano 187</td>\n",
       "      <td>-22,889574</td>\n",
       "      <td>-43,236202</td>\n",
       "    </tr>\n",
       "    <tr>\n",
       "      <th>2</th>\n",
       "      <td>483</td>\n",
       "      <td>EM CELESTINO SILVA</td>\n",
       "      <td>CENTRO</td>\n",
       "      <td>R. do Lavradio, 56</td>\n",
       "      <td>-22,909293</td>\n",
       "      <td>-43,183579</td>\n",
       "    </tr>\n",
       "    <tr>\n",
       "      <th>3</th>\n",
       "      <td>476</td>\n",
       "      <td>ESCOLA MUNICIPAL FLORIANO PEIXOTO</td>\n",
       "      <td>SÃO CRISTÓVÃO</td>\n",
       "      <td>Praça Argentina 20</td>\n",
       "      <td>-22,897629</td>\n",
       "      <td>-43,227456</td>\n",
       "    </tr>\n",
       "    <tr>\n",
       "      <th>4</th>\n",
       "      <td>132</td>\n",
       "      <td>EM PEREIRA PASSOS</td>\n",
       "      <td>RIO COMPRIDO</td>\n",
       "      <td>Praça Condessa Paulo de Frontin 45</td>\n",
       "      <td>-22,924412</td>\n",
       "      <td>-43,208579</td>\n",
       "    </tr>\n",
       "    <tr>\n",
       "      <th>...</th>\n",
       "      <td>...</td>\n",
       "      <td>...</td>\n",
       "      <td>...</td>\n",
       "      <td>...</td>\n",
       "      <td>...</td>\n",
       "      <td>...</td>\n",
       "    </tr>\n",
       "    <tr>\n",
       "      <th>146</th>\n",
       "      <td>210</td>\n",
       "      <td>EM DEBORA MENDES DE MORAES</td>\n",
       "      <td>PEDRA DE GUARATIBA</td>\n",
       "      <td>Rua Belchior Da Fonseca 643</td>\n",
       "      <td>-23,001416</td>\n",
       "      <td>-43,638757</td>\n",
       "    </tr>\n",
       "    <tr>\n",
       "      <th>147</th>\n",
       "      <td>474</td>\n",
       "      <td>EM ENGENHEIRO GASTÃO RANGEL</td>\n",
       "      <td>GUARATIBA</td>\n",
       "      <td>Estrada Do Magarça 9.183</td>\n",
       "      <td>-22,98046</td>\n",
       "      <td>-43,643545</td>\n",
       "    </tr>\n",
       "    <tr>\n",
       "      <th>148</th>\n",
       "      <td>301</td>\n",
       "      <td>EM JONATAS SERRANO</td>\n",
       "      <td>GUARATIBA</td>\n",
       "      <td>Estrada Do Mato Alto, S/Nº</td>\n",
       "      <td>-22,953163</td>\n",
       "      <td>-43,577409</td>\n",
       "    </tr>\n",
       "    <tr>\n",
       "      <th>149</th>\n",
       "      <td>215</td>\n",
       "      <td>E.M. NARCISA AMALIA</td>\n",
       "      <td>ILHA DE GUARATIBA</td>\n",
       "      <td>Estrada Teodoreto de Camargo S/N.º</td>\n",
       "      <td>-23,009084</td>\n",
       "      <td>-43,537582</td>\n",
       "    </tr>\n",
       "    <tr>\n",
       "      <th>150</th>\n",
       "      <td>606</td>\n",
       "      <td>EM PROFESSOR CASTILHO</td>\n",
       "      <td>ILHA DE GUARATIBA</td>\n",
       "      <td>Caminho da Matriz 4406</td>\n",
       "      <td>-22,994124</td>\n",
       "      <td>-43,593683</td>\n",
       "    </tr>\n",
       "  </tbody>\n",
       "</table>\n",
       "<p>139 rows × 6 columns</p>\n",
       "</div>"
      ],
      "text/plain": [
       "      id                               escolas_postos              bairro  \\\n",
       "0    178  CENTRO INTEGRADO DE EDUCAÇÃO PÚBLICA HENFIL                CAJU   \n",
       "1    634                   EM ALICE DO AMARAL PEIXOTO             BENFICA   \n",
       "2    483                           EM CELESTINO SILVA              CENTRO   \n",
       "3    476            ESCOLA MUNICIPAL FLORIANO PEIXOTO       SÃO CRISTÓVÃO   \n",
       "4    132                            EM PEREIRA PASSOS        RIO COMPRIDO   \n",
       "..   ...                                          ...                 ...   \n",
       "146  210                   EM DEBORA MENDES DE MORAES  PEDRA DE GUARATIBA   \n",
       "147  474                  EM ENGENHEIRO GASTÃO RANGEL           GUARATIBA   \n",
       "148  301                           EM JONATAS SERRANO           GUARATIBA   \n",
       "149  215                          E.M. NARCISA AMALIA   ILHA DE GUARATIBA   \n",
       "150  606                        EM PROFESSOR CASTILHO   ILHA DE GUARATIBA   \n",
       "\n",
       "                               endereço         lat         lon  \n",
       "0                 Rua Carlos Seidl S/Nº  -22,880888  -43,225326  \n",
       "1                         Rua Ébano 187  -22,889574  -43,236202  \n",
       "2                    R. do Lavradio, 56  -22,909293  -43,183579  \n",
       "3                    Praça Argentina 20  -22,897629  -43,227456  \n",
       "4    Praça Condessa Paulo de Frontin 45  -22,924412  -43,208579  \n",
       "..                                  ...         ...         ...  \n",
       "146         Rua Belchior Da Fonseca 643  -23,001416  -43,638757  \n",
       "147            Estrada Do Magarça 9.183   -22,98046  -43,643545  \n",
       "148          Estrada Do Mato Alto, S/Nº  -22,953163  -43,577409  \n",
       "149  Estrada Teodoreto de Camargo S/N.º  -23,009084  -43,537582  \n",
       "150              Caminho da Matriz 4406  -22,994124  -43,593683  \n",
       "\n",
       "[139 rows x 6 columns]"
      ]
     },
     "execution_count": 208,
     "metadata": {},
     "output_type": "execute_result"
    }
   ],
   "source": [
    "df1_escolas"
   ]
  },
  {
   "cell_type": "code",
   "execution_count": 209,
   "metadata": {},
   "outputs": [
    {
     "name": "stderr",
     "output_type": "stream",
     "text": [
      "C:\\Users\\Lavinia\\AppData\\Local\\Temp\\ipykernel_9000\\4095934012.py:1: FutureWarning: The default value of regex will change from True to False in a future version.\n",
      "  df1_escolas['endereço'] = df1_escolas['endereço'].str.replace(\"R.\", \"Rua\")\n"
     ]
    }
   ],
   "source": [
    "df1_escolas['endereço'] = df1_escolas['endereço'].str.replace(\"R.\", \"Rua\")"
   ]
  },
  {
   "cell_type": "code",
   "execution_count": 210,
   "metadata": {},
   "outputs": [
    {
     "data": {
      "text/plain": [
       "id                  int64\n",
       "escolas_postos     object\n",
       "bairro             object\n",
       "endereço           object\n",
       "lat               float64\n",
       "lon               float64\n",
       "dtype: object"
      ]
     },
     "execution_count": 210,
     "metadata": {},
     "output_type": "execute_result"
    }
   ],
   "source": [
    "df1_escolas['lat'] = df1_escolas['lat'].str.replace(',', '.')\n",
    "df1_escolas['lat'] = pd.to_numeric(df1_escolas['lat']).round(5)\n",
    "\n",
    "df1_escolas['lon'] = df1_escolas['lon'].str.replace(',', '.')\n",
    "df1_escolas['lon'] = pd.to_numeric(df1_escolas['lon']).round(5)\n",
    "\n",
    "df1_escolas.dtypes"
   ]
  },
  {
   "cell_type": "code",
   "execution_count": 211,
   "metadata": {},
   "outputs": [],
   "source": [
    "df1_escolas = remove_acentos(df1_escolas)"
   ]
  },
  {
   "cell_type": "code",
   "execution_count": 212,
   "metadata": {},
   "outputs": [],
   "source": [
    "df1_escolas = remodelando_id(df1_escolas)"
   ]
  },
  {
   "cell_type": "code",
   "execution_count": 131,
   "metadata": {},
   "outputs": [],
   "source": [
    "df1_escolas = string_maisculo(df1_escolas)"
   ]
  },
  {
   "cell_type": "code",
   "execution_count": 213,
   "metadata": {},
   "outputs": [
    {
     "name": "stdout",
     "output_type": "stream",
     "text": [
      "Colunas: 6\n",
      "Linhas: 139\n"
     ]
    }
   ],
   "source": [
    "tamanho_dos_dados(df1_escolas)"
   ]
  },
  {
   "cell_type": "markdown",
   "metadata": {},
   "source": [
    "### 1.1.6. Salvar dados"
   ]
  },
  {
   "cell_type": "code",
   "execution_count": 214,
   "metadata": {},
   "outputs": [],
   "source": [
    "salvar_dados_csv(df1_escolas, 'df1_escolas_descricao_dados.csv')"
   ]
  },
  {
   "cell_type": "markdown",
   "metadata": {},
   "source": [
    "## 1.2. Material Didatico"
   ]
  },
  {
   "cell_type": "markdown",
   "metadata": {},
   "source": [
    "### 1.2.1. Visão Geral dos Dados"
   ]
  },
  {
   "cell_type": "code",
   "execution_count": 134,
   "metadata": {},
   "outputs": [],
   "source": [
    "df1_material_didatico = df_material_didatico_raw.copy()"
   ]
  },
  {
   "cell_type": "code",
   "execution_count": 135,
   "metadata": {},
   "outputs": [
    {
     "data": {
      "text/html": [
       "<div>\n",
       "<style scoped>\n",
       "    .dataframe tbody tr th:only-of-type {\n",
       "        vertical-align: middle;\n",
       "    }\n",
       "\n",
       "    .dataframe tbody tr th {\n",
       "        vertical-align: top;\n",
       "    }\n",
       "\n",
       "    .dataframe thead th {\n",
       "        text-align: right;\n",
       "    }\n",
       "</style>\n",
       "<table border=\"1\" class=\"dataframe\">\n",
       "  <thead>\n",
       "    <tr style=\"text-align: right;\">\n",
       "      <th></th>\n",
       "      <th>0</th>\n",
       "      <th>1</th>\n",
       "      <th>2</th>\n",
       "      <th>3</th>\n",
       "      <th>4</th>\n",
       "    </tr>\n",
       "  </thead>\n",
       "  <tbody>\n",
       "    <tr>\n",
       "      <th>id</th>\n",
       "      <td>178</td>\n",
       "      <td>634</td>\n",
       "      <td>483</td>\n",
       "      <td>476</td>\n",
       "      <td>132</td>\n",
       "    </tr>\n",
       "    <tr>\n",
       "      <th>Quantidade</th>\n",
       "      <td>20</td>\n",
       "      <td>121</td>\n",
       "      <td>220</td>\n",
       "      <td>190</td>\n",
       "      <td>67</td>\n",
       "    </tr>\n",
       "  </tbody>\n",
       "</table>\n",
       "</div>"
      ],
      "text/plain": [
       "              0    1    2    3    4\n",
       "id          178  634  483  476  132\n",
       "Quantidade   20  121  220  190   67"
      ]
     },
     "execution_count": 135,
     "metadata": {},
     "output_type": "execute_result"
    }
   ],
   "source": [
    "df1_material_didatico.head().T"
   ]
  },
  {
   "cell_type": "code",
   "execution_count": 136,
   "metadata": {},
   "outputs": [],
   "source": [
    "df1_material_didatico.columns = renomeia_colunas(df1_material_didatico)"
   ]
  },
  {
   "cell_type": "markdown",
   "metadata": {},
   "source": [
    "### 1.2.2. Tamanho dos dados"
   ]
  },
  {
   "cell_type": "code",
   "execution_count": 137,
   "metadata": {},
   "outputs": [
    {
     "name": "stdout",
     "output_type": "stream",
     "text": [
      "Colunas: 2\n",
      "Linhas: 151\n"
     ]
    }
   ],
   "source": [
    "tamanho_dos_dados(df1_material_didatico)"
   ]
  },
  {
   "cell_type": "code",
   "execution_count": 138,
   "metadata": {},
   "outputs": [
    {
     "name": "stdout",
     "output_type": "stream",
     "text": [
      "Quantidade de valores unicos em id: 151\n",
      "Quantidade de valores unicos em quantidade: 135\n"
     ]
    }
   ],
   "source": [
    "qtd_total_unicos_por_coluna(df1_material_didatico)"
   ]
  },
  {
   "cell_type": "markdown",
   "metadata": {},
   "source": [
    "### 1.2.3. Verificar Nulos"
   ]
  },
  {
   "cell_type": "code",
   "execution_count": 139,
   "metadata": {},
   "outputs": [
    {
     "data": {
      "text/plain": [
       "id            0\n",
       "quantidade    4\n",
       "dtype: int64"
      ]
     },
     "execution_count": 139,
     "metadata": {},
     "output_type": "execute_result"
    }
   ],
   "source": [
    "df1_material_didatico.isna().sum()"
   ]
  },
  {
   "cell_type": "markdown",
   "metadata": {},
   "source": [
    "### 1.2.4. Verificar tipos dos dados"
   ]
  },
  {
   "cell_type": "code",
   "execution_count": 140,
   "metadata": {},
   "outputs": [
    {
     "data": {
      "text/plain": [
       "id             int64\n",
       "quantidade    object\n",
       "dtype: object"
      ]
     },
     "execution_count": 140,
     "metadata": {},
     "output_type": "execute_result"
    }
   ],
   "source": [
    "df1_material_didatico.dtypes"
   ]
  },
  {
   "cell_type": "markdown",
   "metadata": {},
   "source": [
    "### 1.2.5. Verificar dados duplicados"
   ]
  },
  {
   "cell_type": "code",
   "execution_count": 141,
   "metadata": {},
   "outputs": [
    {
     "data": {
      "text/plain": [
       "0"
      ]
     },
     "execution_count": 141,
     "metadata": {},
     "output_type": "execute_result"
    }
   ],
   "source": [
    "df1_material_didatico.duplicated().sum()"
   ]
  },
  {
   "cell_type": "markdown",
   "metadata": {},
   "source": [
    "### 1.2.6. Tratamento Inicial"
   ]
  },
  {
   "cell_type": "code",
   "execution_count": 142,
   "metadata": {},
   "outputs": [
    {
     "data": {
      "text/plain": [
       "array(['20', '121', '220', '190', '67', '397', '92', '578', '591', '473',\n",
       "       '456', '223', '420', '573', \"''\", '366', '516', '319', '308',\n",
       "       '111', '48', '525', '445', '164', '293', '152', '399', '185',\n",
       "       '576', '63', '491', \"'NaN'\", '336', '159', '342', '262', '440',\n",
       "       '365', nan, '183', '297', '44', '109', '350', '255', '457', '493',\n",
       "       '489', '64', '530', '158', '123', '468', '234', '24', '218', '151',\n",
       "       '564', '504', '61', '426', '167', '509', '292', '210', '153',\n",
       "       \"'397'\", '41', '561', '180', '257', '260', '317', '345', '32',\n",
       "       '513', '338', '416', '352', '393', '425', '136', \"'395'\", '115',\n",
       "       '534', '430', '466', '51', '26', '94', '128', '520', '524', '279',\n",
       "       '161', '179', '194', '599', '315', '435', '400', '294', '148',\n",
       "       '269', '571', '235', '187', '392', '362', '71', '221', '372',\n",
       "       '479', '99', '157', '296', '330', '316', '106', '207', '459',\n",
       "       '537', '162', '579', '517', \"' '\", '135', '118', '341', '329',\n",
       "       '570', '320', '335', '521', '225'], dtype=object)"
      ]
     },
     "execution_count": 142,
     "metadata": {},
     "output_type": "execute_result"
    }
   ],
   "source": [
    "df1_material_didatico['quantidade'].unique()"
   ]
  },
  {
   "cell_type": "code",
   "execution_count": 143,
   "metadata": {},
   "outputs": [
    {
     "name": "stdout",
     "output_type": "stream",
     "text": [
      "[ 20. 121. 220. 190.  67. 397.  92. 578. 591. 473. 456. 223. 420. 573.\n",
      " 342. 366. 516. 319. 308. 111.  48. 525. 445. 164. 293. 152. 399. 185.\n",
      " 576.  63. 491. 336. 159. 262. 440. 365. 183. 297.  44. 109. 350. 255.\n",
      " 457. 493. 489.  64. 530. 158. 123. 468. 234.  24. 218. 151. 564. 504.\n",
      "  61. 426. 167. 509. 292. 210. 153.  41. 561. 180. 257. 260. 317. 345.\n",
      "  32. 513. 338. 416. 352. 393. 425. 136. 395. 115. 534. 430. 466.  51.\n",
      "  26.  94. 128. 520. 524. 279. 161. 179. 194. 599. 315. 435. 400. 294.\n",
      " 148. 269. 571. 235. 187. 392. 362.  71. 221. 372. 479.  99. 157. 296.\n",
      " 330. 316. 106. 207. 459. 537. 162. 579. 517. 135. 118. 341. 329. 570.\n",
      " 320. 335. 521. 225.]\n"
     ]
    }
   ],
   "source": [
    "df1_material_didatico['quantidade'] = df1_material_didatico['quantidade'].str.replace(\"'\", \"\")\n",
    "df1_material_didatico['quantidade'] = df1_material_didatico['quantidade'].replace(\" \", np.nan)\n",
    "df1_material_didatico['quantidade'] = df1_material_didatico['quantidade'].replace('NaN', np.nan)\n",
    "\n",
    "# Converter a coluna 'quantidade' para tipo numérico\n",
    "df1_material_didatico['quantidade'] = pd.to_numeric(df1_material_didatico['quantidade'])\n",
    "\n",
    "moda = df1_material_didatico['quantidade'].value_counts().idxmax()\n",
    "df1_material_didatico['quantidade'] = df1_material_didatico['quantidade'].fillna(moda)\n",
    "\n",
    "\n",
    "# Verificar se as correções foram aplicadas corretamente\n",
    "print(df1_material_didatico['quantidade'].unique())\n"
   ]
  },
  {
   "cell_type": "code",
   "execution_count": 144,
   "metadata": {},
   "outputs": [
    {
     "data": {
      "text/plain": [
       "array(['178', '634', '483', '476', '132', '410', '055', '490', '600',\n",
       "       '089', '387', '331', '450', '558', '413', '698', '540', '309',\n",
       "       '268', '523', '017', '035', '011', '226', '638', '271', '126',\n",
       "       '180', '163', '361', '280', '060', '587', '653', '660', '382',\n",
       "       '217', '378', '429', '025', '367', '373', '624', '157', '020',\n",
       "       '117', '502', '351', '135', '647', '440', '259', '422', '041',\n",
       "       '537', '230', '683', '146', '566', '388', '498', '663', '121',\n",
       "       '161', '263', '118', '140', '260', '236', '090', '274', '676',\n",
       "       '390', '608', '589', '256', '091', '285', '248', '441', '623',\n",
       "       '603', '673', '182', '520', '412', '031', '514', '023', '415',\n",
       "       '016', '570', '528', '414', '690', '202', '550', '211', '526',\n",
       "       '492', '466', '636', '527', '586', '080', '398', '175', '308',\n",
       "       '512', '576', '495', '379', '641', '689', '171', '477', '206',\n",
       "       '687', '568', '399', '255', '262', '633', '616', '320', '144',\n",
       "       '534', '342', '052', '139', '323', '573', '560', '246', '069',\n",
       "       '319', '584', '311', '316', '497', '297', '068', '330', '515',\n",
       "       '289', '210', '474', '301', '215', '606', '590'], dtype=object)"
      ]
     },
     "execution_count": 144,
     "metadata": {},
     "output_type": "execute_result"
    }
   ],
   "source": [
    "df1_material_didatico = remodelando_id(df1_material_didatico)\n",
    "df1_material_didatico['id'].unique()"
   ]
  },
  {
   "cell_type": "markdown",
   "metadata": {},
   "source": [
    "### 1.2.7. Salvar dados"
   ]
  },
  {
   "cell_type": "code",
   "execution_count": 145,
   "metadata": {},
   "outputs": [],
   "source": [
    "salvar_dados_csv(df1_material_didatico, 'df1_material_didatico_descricao_dados.csv')"
   ]
  },
  {
   "cell_type": "markdown",
   "metadata": {},
   "source": [
    "## 1.3. Sub-Prefeituras"
   ]
  },
  {
   "cell_type": "markdown",
   "metadata": {},
   "source": [
    "### 1.3.1. Visão Geral dos Dados"
   ]
  },
  {
   "cell_type": "code",
   "execution_count": 146,
   "metadata": {},
   "outputs": [],
   "source": [
    "df1_subprefeituras = df_subprefeituras_raw.copy()"
   ]
  },
  {
   "cell_type": "code",
   "execution_count": 147,
   "metadata": {},
   "outputs": [
    {
     "data": {
      "text/html": [
       "<div>\n",
       "<style scoped>\n",
       "    .dataframe tbody tr th:only-of-type {\n",
       "        vertical-align: middle;\n",
       "    }\n",
       "\n",
       "    .dataframe tbody tr th {\n",
       "        vertical-align: top;\n",
       "    }\n",
       "\n",
       "    .dataframe thead th {\n",
       "        text-align: right;\n",
       "    }\n",
       "</style>\n",
       "<table border=\"1\" class=\"dataframe\">\n",
       "  <thead>\n",
       "    <tr style=\"text-align: right;\">\n",
       "      <th></th>\n",
       "      <th>0</th>\n",
       "      <th>1</th>\n",
       "      <th>2</th>\n",
       "      <th>3</th>\n",
       "      <th>4</th>\n",
       "    </tr>\n",
       "  </thead>\n",
       "  <tbody>\n",
       "    <tr>\n",
       "      <th>nome</th>\n",
       "      <td>Santo Cristo</td>\n",
       "      <td>Gamboa</td>\n",
       "      <td>Saúde</td>\n",
       "      <td>Caju</td>\n",
       "      <td>Centro</td>\n",
       "    </tr>\n",
       "    <tr>\n",
       "      <th>subprefeitura</th>\n",
       "      <td>Centro</td>\n",
       "      <td>Centro</td>\n",
       "      <td>Centro</td>\n",
       "      <td>Centro</td>\n",
       "      <td>Centro</td>\n",
       "    </tr>\n",
       "  </tbody>\n",
       "</table>\n",
       "</div>"
      ],
      "text/plain": [
       "                          0       1       2       3       4\n",
       "nome           Santo Cristo  Gamboa   Saúde    Caju  Centro\n",
       "subprefeitura        Centro  Centro  Centro  Centro  Centro"
      ]
     },
     "execution_count": 147,
     "metadata": {},
     "output_type": "execute_result"
    }
   ],
   "source": [
    "df1_subprefeituras.head().T"
   ]
  },
  {
   "cell_type": "markdown",
   "metadata": {},
   "source": [
    "### 1.3.2. Tamanho dos dados"
   ]
  },
  {
   "cell_type": "code",
   "execution_count": 148,
   "metadata": {},
   "outputs": [
    {
     "name": "stdout",
     "output_type": "stream",
     "text": [
      "Colunas: 2\n",
      "Linhas: 164\n"
     ]
    }
   ],
   "source": [
    "tamanho_dos_dados(df1_subprefeituras)"
   ]
  },
  {
   "cell_type": "code",
   "execution_count": 149,
   "metadata": {},
   "outputs": [
    {
     "name": "stdout",
     "output_type": "stream",
     "text": [
      "Quantidade de valores unicos em nome: 164\n",
      "Quantidade de valores unicos em subprefeitura: 9\n"
     ]
    }
   ],
   "source": [
    "qtd_total_unicos_por_coluna(df1_subprefeituras)"
   ]
  },
  {
   "cell_type": "markdown",
   "metadata": {},
   "source": [
    "### 1.3.3. Verificar Nulos"
   ]
  },
  {
   "cell_type": "code",
   "execution_count": 150,
   "metadata": {},
   "outputs": [
    {
     "data": {
      "text/plain": [
       "nome             0\n",
       "subprefeitura    0\n",
       "dtype: int64"
      ]
     },
     "execution_count": 150,
     "metadata": {},
     "output_type": "execute_result"
    }
   ],
   "source": [
    "df1_subprefeituras.isna().sum()"
   ]
  },
  {
   "cell_type": "markdown",
   "metadata": {},
   "source": [
    "### 1.3.4. Verificar tipos dos dados"
   ]
  },
  {
   "cell_type": "code",
   "execution_count": 151,
   "metadata": {},
   "outputs": [
    {
     "data": {
      "text/plain": [
       "nome             object\n",
       "subprefeitura    object\n",
       "dtype: object"
      ]
     },
     "execution_count": 151,
     "metadata": {},
     "output_type": "execute_result"
    }
   ],
   "source": [
    "df1_subprefeituras.dtypes"
   ]
  },
  {
   "cell_type": "markdown",
   "metadata": {},
   "source": [
    "### 1.3.5. Verifica dados duplicados"
   ]
  },
  {
   "cell_type": "code",
   "execution_count": 152,
   "metadata": {},
   "outputs": [
    {
     "data": {
      "text/plain": [
       "0"
      ]
     },
     "execution_count": 152,
     "metadata": {},
     "output_type": "execute_result"
    }
   ],
   "source": [
    "df1_subprefeituras.duplicated().sum()"
   ]
  },
  {
   "cell_type": "markdown",
   "metadata": {},
   "source": [
    "### 1.3.6. Tratamento Inicial"
   ]
  },
  {
   "cell_type": "code",
   "execution_count": 153,
   "metadata": {},
   "outputs": [],
   "source": [
    "df1_subprefeituras['subprefeitura'] = df1_subprefeituras['subprefeitura'].str.upper()\n",
    "df1_subprefeituras['nome'] = df1_subprefeituras['nome'].str.upper()"
   ]
  },
  {
   "cell_type": "code",
   "execution_count": 154,
   "metadata": {},
   "outputs": [
    {
     "data": {
      "text/html": [
       "<div>\n",
       "<style scoped>\n",
       "    .dataframe tbody tr th:only-of-type {\n",
       "        vertical-align: middle;\n",
       "    }\n",
       "\n",
       "    .dataframe tbody tr th {\n",
       "        vertical-align: top;\n",
       "    }\n",
       "\n",
       "    .dataframe thead th {\n",
       "        text-align: right;\n",
       "    }\n",
       "</style>\n",
       "<table border=\"1\" class=\"dataframe\">\n",
       "  <thead>\n",
       "    <tr style=\"text-align: right;\">\n",
       "      <th></th>\n",
       "      <th>0</th>\n",
       "      <th>1</th>\n",
       "      <th>2</th>\n",
       "      <th>3</th>\n",
       "      <th>4</th>\n",
       "    </tr>\n",
       "  </thead>\n",
       "  <tbody>\n",
       "    <tr>\n",
       "      <th>nome</th>\n",
       "      <td>SANTO CRISTO</td>\n",
       "      <td>GAMBOA</td>\n",
       "      <td>SAÚDE</td>\n",
       "      <td>CAJU</td>\n",
       "      <td>CENTRO</td>\n",
       "    </tr>\n",
       "    <tr>\n",
       "      <th>subprefeitura</th>\n",
       "      <td>CENTRO</td>\n",
       "      <td>CENTRO</td>\n",
       "      <td>CENTRO</td>\n",
       "      <td>CENTRO</td>\n",
       "      <td>CENTRO</td>\n",
       "    </tr>\n",
       "  </tbody>\n",
       "</table>\n",
       "</div>"
      ],
      "text/plain": [
       "                          0       1       2       3       4\n",
       "nome           SANTO CRISTO  GAMBOA   SAÚDE    CAJU  CENTRO\n",
       "subprefeitura        CENTRO  CENTRO  CENTRO  CENTRO  CENTRO"
      ]
     },
     "execution_count": 154,
     "metadata": {},
     "output_type": "execute_result"
    }
   ],
   "source": [
    "df1_subprefeituras.head().T"
   ]
  },
  {
   "cell_type": "code",
   "execution_count": 155,
   "metadata": {},
   "outputs": [],
   "source": [
    "df1_subprefeituras = remove_acentos(df1_subprefeituras)"
   ]
  },
  {
   "cell_type": "markdown",
   "metadata": {},
   "source": [
    "### 1.3.7. Salvar dados"
   ]
  },
  {
   "cell_type": "code",
   "execution_count": 156,
   "metadata": {},
   "outputs": [],
   "source": [
    "salvar_dados_csv(df1_subprefeituras, 'df1_subprefeitura_descricao_dados.csv')"
   ]
  },
  {
   "cell_type": "markdown",
   "metadata": {},
   "source": [
    "# 2.0. Feature Engineering"
   ]
  },
  {
   "cell_type": "code",
   "execution_count": 157,
   "metadata": {},
   "outputs": [],
   "source": [
    "df2_escolas = df1_escolas.copy()\n",
    "df2_material_didatico = df1_material_didatico.copy()\n",
    "df2_subprefeituras = df1_subprefeituras.copy()"
   ]
  },
  {
   "cell_type": "code",
   "execution_count": 158,
   "metadata": {},
   "outputs": [
    {
     "data": {
      "text/html": [
       "<div>\n",
       "<style scoped>\n",
       "    .dataframe tbody tr th:only-of-type {\n",
       "        vertical-align: middle;\n",
       "    }\n",
       "\n",
       "    .dataframe tbody tr th {\n",
       "        vertical-align: top;\n",
       "    }\n",
       "\n",
       "    .dataframe thead th {\n",
       "        text-align: right;\n",
       "    }\n",
       "</style>\n",
       "<table border=\"1\" class=\"dataframe\">\n",
       "  <thead>\n",
       "    <tr style=\"text-align: right;\">\n",
       "      <th></th>\n",
       "      <th>id</th>\n",
       "      <th>escolas_postos</th>\n",
       "      <th>bairro</th>\n",
       "      <th>endereço</th>\n",
       "      <th>lat</th>\n",
       "      <th>lon</th>\n",
       "    </tr>\n",
       "  </thead>\n",
       "  <tbody>\n",
       "    <tr>\n",
       "      <th>0</th>\n",
       "      <td>178</td>\n",
       "      <td>CENTRO INTEGRADO DE EDUCACAO PUBLICA HENFIL</td>\n",
       "      <td>CAJU</td>\n",
       "      <td>RUAA CARLOS SEIDL S/NO</td>\n",
       "      <td>-22.88089</td>\n",
       "      <td>-43.22533</td>\n",
       "    </tr>\n",
       "    <tr>\n",
       "      <th>1</th>\n",
       "      <td>634</td>\n",
       "      <td>EM ALICE DO AMARAL PEIXOTO</td>\n",
       "      <td>BENFICA</td>\n",
       "      <td>RUAA EBANO 187</td>\n",
       "      <td>-22.88957</td>\n",
       "      <td>-43.23620</td>\n",
       "    </tr>\n",
       "    <tr>\n",
       "      <th>2</th>\n",
       "      <td>483</td>\n",
       "      <td>EM CELESTINO SILVA</td>\n",
       "      <td>CENTRO</td>\n",
       "      <td>RUA DO LAVRADIO, 56</td>\n",
       "      <td>-22.90929</td>\n",
       "      <td>-43.18358</td>\n",
       "    </tr>\n",
       "    <tr>\n",
       "      <th>3</th>\n",
       "      <td>476</td>\n",
       "      <td>ESCOLA MUNICIPAL FLORIANO PEIXOTO</td>\n",
       "      <td>SAO CRISTOVAO</td>\n",
       "      <td>PRACA ARGENTINA 20</td>\n",
       "      <td>-22.89763</td>\n",
       "      <td>-43.22746</td>\n",
       "    </tr>\n",
       "    <tr>\n",
       "      <th>4</th>\n",
       "      <td>132</td>\n",
       "      <td>EM PEREIRA PASSOS</td>\n",
       "      <td>RIO COMPRIDO</td>\n",
       "      <td>PRACA CONDESSA PAULO DE FRONTIN 45</td>\n",
       "      <td>-22.92441</td>\n",
       "      <td>-43.20858</td>\n",
       "    </tr>\n",
       "    <tr>\n",
       "      <th>...</th>\n",
       "      <td>...</td>\n",
       "      <td>...</td>\n",
       "      <td>...</td>\n",
       "      <td>...</td>\n",
       "      <td>...</td>\n",
       "      <td>...</td>\n",
       "    </tr>\n",
       "    <tr>\n",
       "      <th>146</th>\n",
       "      <td>210</td>\n",
       "      <td>EM DEBORA MENDES DE MORAES</td>\n",
       "      <td>PEDRA DE GUARATIBA</td>\n",
       "      <td>RUAA BELCHIOR DA FONSECA 643</td>\n",
       "      <td>-23.00142</td>\n",
       "      <td>-43.63876</td>\n",
       "    </tr>\n",
       "    <tr>\n",
       "      <th>147</th>\n",
       "      <td>474</td>\n",
       "      <td>EM ENGENHEIRO GASTAO RANGEL</td>\n",
       "      <td>GUARATIBA</td>\n",
       "      <td>ESTRADA DO MAGARCA 9.183</td>\n",
       "      <td>-22.98046</td>\n",
       "      <td>-43.64354</td>\n",
       "    </tr>\n",
       "    <tr>\n",
       "      <th>148</th>\n",
       "      <td>301</td>\n",
       "      <td>EM JONATAS SERRANO</td>\n",
       "      <td>GUARATIBA</td>\n",
       "      <td>ESTRADA DO MATO ALTO, S/NO</td>\n",
       "      <td>-22.95316</td>\n",
       "      <td>-43.57741</td>\n",
       "    </tr>\n",
       "    <tr>\n",
       "      <th>149</th>\n",
       "      <td>215</td>\n",
       "      <td>E.M. NARCISA AMALIA</td>\n",
       "      <td>ILHA DE GUARATIBA</td>\n",
       "      <td>ESTRADA TEODORETO DE CAMARGO S/N.O</td>\n",
       "      <td>-23.00908</td>\n",
       "      <td>-43.53758</td>\n",
       "    </tr>\n",
       "    <tr>\n",
       "      <th>150</th>\n",
       "      <td>606</td>\n",
       "      <td>EM PROFESSOR CASTILHO</td>\n",
       "      <td>ILHA DE GUARATIBA</td>\n",
       "      <td>CAMINHO DA MATRIZ 4406</td>\n",
       "      <td>-22.99412</td>\n",
       "      <td>-43.59368</td>\n",
       "    </tr>\n",
       "  </tbody>\n",
       "</table>\n",
       "<p>139 rows × 6 columns</p>\n",
       "</div>"
      ],
      "text/plain": [
       "      id                               escolas_postos              bairro  \\\n",
       "0    178  CENTRO INTEGRADO DE EDUCACAO PUBLICA HENFIL                CAJU   \n",
       "1    634                   EM ALICE DO AMARAL PEIXOTO             BENFICA   \n",
       "2    483                           EM CELESTINO SILVA              CENTRO   \n",
       "3    476            ESCOLA MUNICIPAL FLORIANO PEIXOTO       SAO CRISTOVAO   \n",
       "4    132                            EM PEREIRA PASSOS        RIO COMPRIDO   \n",
       "..   ...                                          ...                 ...   \n",
       "146  210                   EM DEBORA MENDES DE MORAES  PEDRA DE GUARATIBA   \n",
       "147  474                  EM ENGENHEIRO GASTAO RANGEL           GUARATIBA   \n",
       "148  301                           EM JONATAS SERRANO           GUARATIBA   \n",
       "149  215                          E.M. NARCISA AMALIA   ILHA DE GUARATIBA   \n",
       "150  606                        EM PROFESSOR CASTILHO   ILHA DE GUARATIBA   \n",
       "\n",
       "                               endereço       lat       lon  \n",
       "0                RUAA CARLOS SEIDL S/NO -22.88089 -43.22533  \n",
       "1                        RUAA EBANO 187 -22.88957 -43.23620  \n",
       "2                   RUA DO LAVRADIO, 56 -22.90929 -43.18358  \n",
       "3                    PRACA ARGENTINA 20 -22.89763 -43.22746  \n",
       "4    PRACA CONDESSA PAULO DE FRONTIN 45 -22.92441 -43.20858  \n",
       "..                                  ...       ...       ...  \n",
       "146        RUAA BELCHIOR DA FONSECA 643 -23.00142 -43.63876  \n",
       "147            ESTRADA DO MAGARCA 9.183 -22.98046 -43.64354  \n",
       "148          ESTRADA DO MATO ALTO, S/NO -22.95316 -43.57741  \n",
       "149  ESTRADA TEODORETO DE CAMARGO S/N.O -23.00908 -43.53758  \n",
       "150              CAMINHO DA MATRIZ 4406 -22.99412 -43.59368  \n",
       "\n",
       "[139 rows x 6 columns]"
      ]
     },
     "execution_count": 158,
     "metadata": {},
     "output_type": "execute_result"
    }
   ],
   "source": [
    "df2_escolas"
   ]
  },
  {
   "cell_type": "code",
   "execution_count": 159,
   "metadata": {},
   "outputs": [
    {
     "data": {
      "text/html": [
       "<div>\n",
       "<style scoped>\n",
       "    .dataframe tbody tr th:only-of-type {\n",
       "        vertical-align: middle;\n",
       "    }\n",
       "\n",
       "    .dataframe tbody tr th {\n",
       "        vertical-align: top;\n",
       "    }\n",
       "\n",
       "    .dataframe thead th {\n",
       "        text-align: right;\n",
       "    }\n",
       "</style>\n",
       "<table border=\"1\" class=\"dataframe\">\n",
       "  <thead>\n",
       "    <tr style=\"text-align: right;\">\n",
       "      <th></th>\n",
       "      <th>id</th>\n",
       "      <th>quantidade</th>\n",
       "    </tr>\n",
       "  </thead>\n",
       "  <tbody>\n",
       "    <tr>\n",
       "      <th>0</th>\n",
       "      <td>178</td>\n",
       "      <td>20.0</td>\n",
       "    </tr>\n",
       "    <tr>\n",
       "      <th>1</th>\n",
       "      <td>634</td>\n",
       "      <td>121.0</td>\n",
       "    </tr>\n",
       "    <tr>\n",
       "      <th>2</th>\n",
       "      <td>483</td>\n",
       "      <td>220.0</td>\n",
       "    </tr>\n",
       "    <tr>\n",
       "      <th>3</th>\n",
       "      <td>476</td>\n",
       "      <td>190.0</td>\n",
       "    </tr>\n",
       "    <tr>\n",
       "      <th>4</th>\n",
       "      <td>132</td>\n",
       "      <td>67.0</td>\n",
       "    </tr>\n",
       "    <tr>\n",
       "      <th>...</th>\n",
       "      <td>...</td>\n",
       "      <td>...</td>\n",
       "    </tr>\n",
       "    <tr>\n",
       "      <th>146</th>\n",
       "      <td>474</td>\n",
       "      <td>320.0</td>\n",
       "    </tr>\n",
       "    <tr>\n",
       "      <th>147</th>\n",
       "      <td>301</td>\n",
       "      <td>335.0</td>\n",
       "    </tr>\n",
       "    <tr>\n",
       "      <th>148</th>\n",
       "      <td>215</td>\n",
       "      <td>342.0</td>\n",
       "    </tr>\n",
       "    <tr>\n",
       "      <th>149</th>\n",
       "      <td>606</td>\n",
       "      <td>521.0</td>\n",
       "    </tr>\n",
       "    <tr>\n",
       "      <th>150</th>\n",
       "      <td>590</td>\n",
       "      <td>225.0</td>\n",
       "    </tr>\n",
       "  </tbody>\n",
       "</table>\n",
       "<p>151 rows × 2 columns</p>\n",
       "</div>"
      ],
      "text/plain": [
       "      id  quantidade\n",
       "0    178        20.0\n",
       "1    634       121.0\n",
       "2    483       220.0\n",
       "3    476       190.0\n",
       "4    132        67.0\n",
       "..   ...         ...\n",
       "146  474       320.0\n",
       "147  301       335.0\n",
       "148  215       342.0\n",
       "149  606       521.0\n",
       "150  590       225.0\n",
       "\n",
       "[151 rows x 2 columns]"
      ]
     },
     "execution_count": 159,
     "metadata": {},
     "output_type": "execute_result"
    }
   ],
   "source": [
    "df2_material_didatico"
   ]
  },
  {
   "cell_type": "code",
   "execution_count": 160,
   "metadata": {},
   "outputs": [
    {
     "data": {
      "text/html": [
       "<div>\n",
       "<style scoped>\n",
       "    .dataframe tbody tr th:only-of-type {\n",
       "        vertical-align: middle;\n",
       "    }\n",
       "\n",
       "    .dataframe tbody tr th {\n",
       "        vertical-align: top;\n",
       "    }\n",
       "\n",
       "    .dataframe thead th {\n",
       "        text-align: right;\n",
       "    }\n",
       "</style>\n",
       "<table border=\"1\" class=\"dataframe\">\n",
       "  <thead>\n",
       "    <tr style=\"text-align: right;\">\n",
       "      <th></th>\n",
       "      <th>nome</th>\n",
       "      <th>subprefeitura</th>\n",
       "    </tr>\n",
       "  </thead>\n",
       "  <tbody>\n",
       "    <tr>\n",
       "      <th>0</th>\n",
       "      <td>SANTO CRISTO</td>\n",
       "      <td>CENTRO</td>\n",
       "    </tr>\n",
       "    <tr>\n",
       "      <th>1</th>\n",
       "      <td>GAMBOA</td>\n",
       "      <td>CENTRO</td>\n",
       "    </tr>\n",
       "    <tr>\n",
       "      <th>2</th>\n",
       "      <td>SAUDE</td>\n",
       "      <td>CENTRO</td>\n",
       "    </tr>\n",
       "    <tr>\n",
       "      <th>3</th>\n",
       "      <td>CAJU</td>\n",
       "      <td>CENTRO</td>\n",
       "    </tr>\n",
       "    <tr>\n",
       "      <th>4</th>\n",
       "      <td>CENTRO</td>\n",
       "      <td>CENTRO</td>\n",
       "    </tr>\n",
       "    <tr>\n",
       "      <th>...</th>\n",
       "      <td>...</td>\n",
       "      <td>...</td>\n",
       "    </tr>\n",
       "    <tr>\n",
       "      <th>159</th>\n",
       "      <td>SANTA CRUZ</td>\n",
       "      <td>ZONA OESTE</td>\n",
       "    </tr>\n",
       "    <tr>\n",
       "      <th>160</th>\n",
       "      <td>GUARATIBA</td>\n",
       "      <td>ZONA OESTE</td>\n",
       "    </tr>\n",
       "    <tr>\n",
       "      <th>161</th>\n",
       "      <td>BARRA DE GUARATIBA</td>\n",
       "      <td>ZONA OESTE</td>\n",
       "    </tr>\n",
       "    <tr>\n",
       "      <th>162</th>\n",
       "      <td>PEDRA DE GUARATIBA</td>\n",
       "      <td>ZONA OESTE</td>\n",
       "    </tr>\n",
       "    <tr>\n",
       "      <th>163</th>\n",
       "      <td>ILHA DE GUARATIBA</td>\n",
       "      <td>ZONA OESTE</td>\n",
       "    </tr>\n",
       "  </tbody>\n",
       "</table>\n",
       "<p>164 rows × 2 columns</p>\n",
       "</div>"
      ],
      "text/plain": [
       "                   nome subprefeitura\n",
       "0          SANTO CRISTO        CENTRO\n",
       "1                GAMBOA        CENTRO\n",
       "2                 SAUDE        CENTRO\n",
       "3                  CAJU        CENTRO\n",
       "4                CENTRO        CENTRO\n",
       "..                  ...           ...\n",
       "159          SANTA CRUZ    ZONA OESTE\n",
       "160           GUARATIBA    ZONA OESTE\n",
       "161  BARRA DE GUARATIBA    ZONA OESTE\n",
       "162  PEDRA DE GUARATIBA    ZONA OESTE\n",
       "163   ILHA DE GUARATIBA    ZONA OESTE\n",
       "\n",
       "[164 rows x 2 columns]"
      ]
     },
     "execution_count": 160,
     "metadata": {},
     "output_type": "execute_result"
    }
   ],
   "source": [
    "df2_subprefeituras"
   ]
  },
  {
   "cell_type": "markdown",
   "metadata": {},
   "source": [
    "## 2.1. Merge dos dados"
   ]
  },
  {
   "cell_type": "code",
   "execution_count": 161,
   "metadata": {},
   "outputs": [],
   "source": [
    "df2_merged = pd.merge(df2_escolas, df2_subprefeituras, left_on='bairro', right_on='nome', how='left')"
   ]
  },
  {
   "cell_type": "code",
   "execution_count": 162,
   "metadata": {},
   "outputs": [
    {
     "data": {
      "text/html": [
       "<div>\n",
       "<style scoped>\n",
       "    .dataframe tbody tr th:only-of-type {\n",
       "        vertical-align: middle;\n",
       "    }\n",
       "\n",
       "    .dataframe tbody tr th {\n",
       "        vertical-align: top;\n",
       "    }\n",
       "\n",
       "    .dataframe thead th {\n",
       "        text-align: right;\n",
       "    }\n",
       "</style>\n",
       "<table border=\"1\" class=\"dataframe\">\n",
       "  <thead>\n",
       "    <tr style=\"text-align: right;\">\n",
       "      <th></th>\n",
       "      <th>91</th>\n",
       "      <th>51</th>\n",
       "      <th>130</th>\n",
       "      <th>95</th>\n",
       "      <th>76</th>\n",
       "    </tr>\n",
       "  </thead>\n",
       "  <tbody>\n",
       "    <tr>\n",
       "      <th>id</th>\n",
       "      <td>206</td>\n",
       "      <td>537</td>\n",
       "      <td>297</td>\n",
       "      <td>527</td>\n",
       "      <td>673</td>\n",
       "    </tr>\n",
       "    <tr>\n",
       "      <th>escolas_postos</th>\n",
       "      <td>EM HONDURAS</td>\n",
       "      <td>EM ARY QUINTELLA</td>\n",
       "      <td>EM PROFESSORA SILVIA DE ARAUJO TOLEDO</td>\n",
       "      <td>EM VIRGILIO VARZEA</td>\n",
       "      <td>ESCOLA MUNICIPAL GRECIA</td>\n",
       "    </tr>\n",
       "    <tr>\n",
       "      <th>bairro</th>\n",
       "      <td>PRACA SECA</td>\n",
       "      <td>PENHA CIRCULAR</td>\n",
       "      <td>SANTA CRUZ</td>\n",
       "      <td>PECHINCHA</td>\n",
       "      <td>VILA DA PENHA</td>\n",
       "    </tr>\n",
       "    <tr>\n",
       "      <th>endereço</th>\n",
       "      <td>PRACA BARAO DA TAQUARA 12</td>\n",
       "      <td>RUAA ENG. MOREIRA LIMA 54</td>\n",
       "      <td>AVENIDA CANAL 3 S/N.O CONJ. CESARAO</td>\n",
       "      <td>RUAA JOSE SILVA 155</td>\n",
       "      <td>AV. BRAZ DE PINA, 1614</td>\n",
       "    </tr>\n",
       "    <tr>\n",
       "      <th>lat</th>\n",
       "      <td>-22.89693</td>\n",
       "      <td>-22.83941</td>\n",
       "      <td>-22.93011</td>\n",
       "      <td>-22.93253</td>\n",
       "      <td>-22.83783</td>\n",
       "    </tr>\n",
       "    <tr>\n",
       "      <th>lon</th>\n",
       "      <td>-43.35267</td>\n",
       "      <td>-43.30007</td>\n",
       "      <td>-43.6529</td>\n",
       "      <td>-43.35113</td>\n",
       "      <td>-43.31254</td>\n",
       "    </tr>\n",
       "    <tr>\n",
       "      <th>nome</th>\n",
       "      <td>PRACA SECA</td>\n",
       "      <td>PENHA CIRCULAR</td>\n",
       "      <td>SANTA CRUZ</td>\n",
       "      <td>PECHINCHA</td>\n",
       "      <td>VILA DA PENHA</td>\n",
       "    </tr>\n",
       "    <tr>\n",
       "      <th>subprefeitura</th>\n",
       "      <td>JACAREPAGUA</td>\n",
       "      <td>ZONA NORTE</td>\n",
       "      <td>ZONA OESTE</td>\n",
       "      <td>JACAREPAGUA</td>\n",
       "      <td>ZONA NORTE</td>\n",
       "    </tr>\n",
       "  </tbody>\n",
       "</table>\n",
       "</div>"
      ],
      "text/plain": [
       "                                      91                         51   \\\n",
       "id                                    206                        537   \n",
       "escolas_postos                EM HONDURAS           EM ARY QUINTELLA   \n",
       "bairro                         PRACA SECA             PENHA CIRCULAR   \n",
       "endereço        PRACA BARAO DA TAQUARA 12  RUAA ENG. MOREIRA LIMA 54   \n",
       "lat                             -22.89693                  -22.83941   \n",
       "lon                             -43.35267                  -43.30007   \n",
       "nome                           PRACA SECA             PENHA CIRCULAR   \n",
       "subprefeitura                 JACAREPAGUA                 ZONA NORTE   \n",
       "\n",
       "                                                  130                  95   \\\n",
       "id                                                297                  527   \n",
       "escolas_postos  EM PROFESSORA SILVIA DE ARAUJO TOLEDO   EM VIRGILIO VARZEA   \n",
       "bairro                                     SANTA CRUZ            PECHINCHA   \n",
       "endereço          AVENIDA CANAL 3 S/N.O CONJ. CESARAO  RUAA JOSE SILVA 155   \n",
       "lat                                         -22.93011            -22.93253   \n",
       "lon                                          -43.6529            -43.35113   \n",
       "nome                                       SANTA CRUZ            PECHINCHA   \n",
       "subprefeitura                              ZONA OESTE          JACAREPAGUA   \n",
       "\n",
       "                                    76   \n",
       "id                                  673  \n",
       "escolas_postos  ESCOLA MUNICIPAL GRECIA  \n",
       "bairro                    VILA DA PENHA  \n",
       "endereço         AV. BRAZ DE PINA, 1614  \n",
       "lat                           -22.83783  \n",
       "lon                           -43.31254  \n",
       "nome                      VILA DA PENHA  \n",
       "subprefeitura                ZONA NORTE  "
      ]
     },
     "execution_count": 162,
     "metadata": {},
     "output_type": "execute_result"
    }
   ],
   "source": [
    "df2_merged.sample(5).T"
   ]
  },
  {
   "cell_type": "code",
   "execution_count": 163,
   "metadata": {},
   "outputs": [],
   "source": [
    "df2_merged = pd.merge(df2_merged, df2_material_didatico, left_on='id', right_on='id', how='inner')"
   ]
  },
  {
   "cell_type": "code",
   "execution_count": 164,
   "metadata": {},
   "outputs": [
    {
     "data": {
      "text/html": [
       "<div>\n",
       "<style scoped>\n",
       "    .dataframe tbody tr th:only-of-type {\n",
       "        vertical-align: middle;\n",
       "    }\n",
       "\n",
       "    .dataframe tbody tr th {\n",
       "        vertical-align: top;\n",
       "    }\n",
       "\n",
       "    .dataframe thead th {\n",
       "        text-align: right;\n",
       "    }\n",
       "</style>\n",
       "<table border=\"1\" class=\"dataframe\">\n",
       "  <thead>\n",
       "    <tr style=\"text-align: right;\">\n",
       "      <th></th>\n",
       "      <th>56</th>\n",
       "      <th>3</th>\n",
       "      <th>11</th>\n",
       "      <th>71</th>\n",
       "      <th>57</th>\n",
       "    </tr>\n",
       "  </thead>\n",
       "  <tbody>\n",
       "    <tr>\n",
       "      <th>id</th>\n",
       "      <td>566</td>\n",
       "      <td>476</td>\n",
       "      <td>331</td>\n",
       "      <td>589</td>\n",
       "      <td>498</td>\n",
       "    </tr>\n",
       "    <tr>\n",
       "      <th>escolas_postos</th>\n",
       "      <td>EM BRANT HORTA</td>\n",
       "      <td>ESCOLA MUNICIPAL FLORIANO PEIXOTO</td>\n",
       "      <td>CIEP TANCREDO NEVES</td>\n",
       "      <td>EM MARIO PIRAGIBE</td>\n",
       "      <td>EM CHILE</td>\n",
       "    </tr>\n",
       "    <tr>\n",
       "      <th>bairro</th>\n",
       "      <td>PENHA CIRCULAR</td>\n",
       "      <td>SAO CRISTOVAO</td>\n",
       "      <td>CATETE</td>\n",
       "      <td>ANCHIETA</td>\n",
       "      <td>OLARIA</td>\n",
       "    </tr>\n",
       "    <tr>\n",
       "      <th>endereço</th>\n",
       "      <td>RUAA BENTO CARDOSO, 130</td>\n",
       "      <td>PRACA ARGENTINA 20</td>\n",
       "      <td>RUAA DO CATETE 77</td>\n",
       "      <td>PRACA NOSSA SENHORA DAS DORES, S/NO</td>\n",
       "      <td>PCA. BELMONTE 15</td>\n",
       "    </tr>\n",
       "    <tr>\n",
       "      <th>lat</th>\n",
       "      <td>-22.83567</td>\n",
       "      <td>-22.89763</td>\n",
       "      <td>-22.92278</td>\n",
       "      <td>-22.82558</td>\n",
       "      <td>-22.84858</td>\n",
       "    </tr>\n",
       "    <tr>\n",
       "      <th>lon</th>\n",
       "      <td>-43.28816</td>\n",
       "      <td>-43.22746</td>\n",
       "      <td>-43.17668</td>\n",
       "      <td>-43.39208</td>\n",
       "      <td>-43.26859</td>\n",
       "    </tr>\n",
       "    <tr>\n",
       "      <th>nome</th>\n",
       "      <td>PENHA CIRCULAR</td>\n",
       "      <td>SAO CRISTOVAO</td>\n",
       "      <td>CATETE</td>\n",
       "      <td>ANCHIETA</td>\n",
       "      <td>OLARIA</td>\n",
       "    </tr>\n",
       "    <tr>\n",
       "      <th>subprefeitura</th>\n",
       "      <td>ZONA NORTE</td>\n",
       "      <td>CENTRO</td>\n",
       "      <td>ZONA SUL</td>\n",
       "      <td>ZONA NORTE</td>\n",
       "      <td>ZONA NORTE</td>\n",
       "    </tr>\n",
       "    <tr>\n",
       "      <th>quantidade</th>\n",
       "      <td>564.0</td>\n",
       "      <td>190.0</td>\n",
       "      <td>223.0</td>\n",
       "      <td>317.0</td>\n",
       "      <td>61.0</td>\n",
       "    </tr>\n",
       "  </tbody>\n",
       "</table>\n",
       "</div>"
      ],
      "text/plain": [
       "                                     56                                 3   \\\n",
       "id                                  566                                476   \n",
       "escolas_postos           EM BRANT HORTA  ESCOLA MUNICIPAL FLORIANO PEIXOTO   \n",
       "bairro                   PENHA CIRCULAR                      SAO CRISTOVAO   \n",
       "endereço        RUAA BENTO CARDOSO, 130                 PRACA ARGENTINA 20   \n",
       "lat                           -22.83567                          -22.89763   \n",
       "lon                           -43.28816                          -43.22746   \n",
       "nome                     PENHA CIRCULAR                      SAO CRISTOVAO   \n",
       "subprefeitura                ZONA NORTE                             CENTRO   \n",
       "quantidade                        564.0                              190.0   \n",
       "\n",
       "                                 11                                   71  \\\n",
       "id                              331                                  589   \n",
       "escolas_postos  CIEP TANCREDO NEVES                    EM MARIO PIRAGIBE   \n",
       "bairro                       CATETE                             ANCHIETA   \n",
       "endereço          RUAA DO CATETE 77  PRACA NOSSA SENHORA DAS DORES, S/NO   \n",
       "lat                       -22.92278                            -22.82558   \n",
       "lon                       -43.17668                            -43.39208   \n",
       "nome                         CATETE                             ANCHIETA   \n",
       "subprefeitura              ZONA SUL                           ZONA NORTE   \n",
       "quantidade                    223.0                                317.0   \n",
       "\n",
       "                              57  \n",
       "id                           498  \n",
       "escolas_postos          EM CHILE  \n",
       "bairro                    OLARIA  \n",
       "endereço        PCA. BELMONTE 15  \n",
       "lat                    -22.84858  \n",
       "lon                    -43.26859  \n",
       "nome                      OLARIA  \n",
       "subprefeitura         ZONA NORTE  \n",
       "quantidade                  61.0  "
      ]
     },
     "execution_count": 164,
     "metadata": {},
     "output_type": "execute_result"
    }
   ],
   "source": [
    "df2_merged.sample(5).T"
   ]
  },
  {
   "cell_type": "markdown",
   "metadata": {},
   "source": [
    "## 2.2. Tratamento de Nulos"
   ]
  },
  {
   "cell_type": "code",
   "execution_count": 165,
   "metadata": {},
   "outputs": [
    {
     "data": {
      "text/plain": [
       "id                0\n",
       "escolas_postos    0\n",
       "bairro            0\n",
       "endereço          0\n",
       "lat               0\n",
       "lon               0\n",
       "nome              9\n",
       "subprefeitura     9\n",
       "quantidade        0\n",
       "dtype: int64"
      ]
     },
     "execution_count": 165,
     "metadata": {},
     "output_type": "execute_result"
    }
   ],
   "source": [
    "df2_merged.isna().sum()"
   ]
  },
  {
   "cell_type": "code",
   "execution_count": 166,
   "metadata": {},
   "outputs": [
    {
     "data": {
      "text/html": [
       "<div>\n",
       "<style scoped>\n",
       "    .dataframe tbody tr th:only-of-type {\n",
       "        vertical-align: middle;\n",
       "    }\n",
       "\n",
       "    .dataframe tbody tr th {\n",
       "        vertical-align: top;\n",
       "    }\n",
       "\n",
       "    .dataframe thead th {\n",
       "        text-align: right;\n",
       "    }\n",
       "</style>\n",
       "<table border=\"1\" class=\"dataframe\">\n",
       "  <thead>\n",
       "    <tr style=\"text-align: right;\">\n",
       "      <th></th>\n",
       "      <th>id</th>\n",
       "      <th>escolas_postos</th>\n",
       "      <th>bairro</th>\n",
       "      <th>endereço</th>\n",
       "      <th>lat</th>\n",
       "      <th>lon</th>\n",
       "      <th>nome</th>\n",
       "      <th>subprefeitura</th>\n",
       "      <th>quantidade</th>\n",
       "    </tr>\n",
       "  </thead>\n",
       "  <tbody>\n",
       "    <tr>\n",
       "      <th>113</th>\n",
       "      <td>262</td>\n",
       "      <td>CIEP HERIVELTO MARTINS</td>\n",
       "      <td>AUGUSTO VASCONCELOS</td>\n",
       "      <td>PRACA SANTO ANASTACIO, S/N</td>\n",
       "      <td>-22.88649</td>\n",
       "      <td>-43.52880</td>\n",
       "      <td>NaN</td>\n",
       "      <td>NaN</td>\n",
       "      <td>221.0</td>\n",
       "    </tr>\n",
       "    <tr>\n",
       "      <th>90</th>\n",
       "      <td>550</td>\n",
       "      <td>EM 25 DE ABRIL</td>\n",
       "      <td>FREGUESIA JPA</td>\n",
       "      <td>RUAA MAMORE 78</td>\n",
       "      <td>-22.93816</td>\n",
       "      <td>-43.34258</td>\n",
       "      <td>NaN</td>\n",
       "      <td>NaN</td>\n",
       "      <td>128.0</td>\n",
       "    </tr>\n",
       "    <tr>\n",
       "      <th>94</th>\n",
       "      <td>492</td>\n",
       "      <td>EM MENEZES CORTES</td>\n",
       "      <td>FREGUESIA JPA</td>\n",
       "      <td>PRACA JOSE ALVES DE AZEVEDO 43</td>\n",
       "      <td>-22.94266</td>\n",
       "      <td>-43.33897</td>\n",
       "      <td>NaN</td>\n",
       "      <td>NaN</td>\n",
       "      <td>342.0</td>\n",
       "    </tr>\n",
       "    <tr>\n",
       "      <th>29</th>\n",
       "      <td>060</td>\n",
       "      <td>ESCOLA MUNICIPAL BARAO HOMEM DE MELO</td>\n",
       "      <td>MARACANA/ TIJUCA</td>\n",
       "      <td>RUA ALM. JOAO CANDIDO BRASIL, 352</td>\n",
       "      <td>-22.91683</td>\n",
       "      <td>-43.23692</td>\n",
       "      <td>NaN</td>\n",
       "      <td>NaN</td>\n",
       "      <td>342.0</td>\n",
       "    </tr>\n",
       "    <tr>\n",
       "      <th>28</th>\n",
       "      <td>280</td>\n",
       "      <td>ESCOLA MUNICIPAL GENERAL HUMBERTO DE SOUZA MELLO</td>\n",
       "      <td>MARACANA/ VILA ISABEL</td>\n",
       "      <td>RUA OITO DE DEZEMBRO, 275</td>\n",
       "      <td>-22.90982</td>\n",
       "      <td>-43.23939</td>\n",
       "      <td>NaN</td>\n",
       "      <td>NaN</td>\n",
       "      <td>491.0</td>\n",
       "    </tr>\n",
       "    <tr>\n",
       "      <th>131</th>\n",
       "      <td>068</td>\n",
       "      <td>EM WALQUIR PEREIRA</td>\n",
       "      <td>NOVA SEPETIBA</td>\n",
       "      <td>ESTRADA DE SEPETIBA S/N BLOCO 1</td>\n",
       "      <td>-22.95601</td>\n",
       "      <td>-43.68675</td>\n",
       "      <td>NaN</td>\n",
       "      <td>NaN</td>\n",
       "      <td>135.0</td>\n",
       "    </tr>\n",
       "    <tr>\n",
       "      <th>79</th>\n",
       "      <td>412</td>\n",
       "      <td>EM MOZART LAGO</td>\n",
       "      <td>OSWALDO CRUZ</td>\n",
       "      <td>RUAA JOSE CARVALHO SALGADO S/N.O</td>\n",
       "      <td>-22.87221</td>\n",
       "      <td>-43.35033</td>\n",
       "      <td>NaN</td>\n",
       "      <td>NaN</td>\n",
       "      <td>395.0</td>\n",
       "    </tr>\n",
       "    <tr>\n",
       "      <th>86</th>\n",
       "      <td>528</td>\n",
       "      <td>CIEP MARGARET MEE</td>\n",
       "      <td>RECREIO</td>\n",
       "      <td>RUAA MINISTRO ALIOMAR BALEEIRO S/NO</td>\n",
       "      <td>-23.01981</td>\n",
       "      <td>-43.48172</td>\n",
       "      <td>NaN</td>\n",
       "      <td>NaN</td>\n",
       "      <td>51.0</td>\n",
       "    </tr>\n",
       "    <tr>\n",
       "      <th>87</th>\n",
       "      <td>414</td>\n",
       "      <td>EM CLAUDIO BESSERMAN VIANNA - BUSSUNDA</td>\n",
       "      <td>RIO DAS PEDRAS</td>\n",
       "      <td>ESTRADA DE JACAREPAGUA 3327</td>\n",
       "      <td>-22.97336</td>\n",
       "      <td>-43.32916</td>\n",
       "      <td>NaN</td>\n",
       "      <td>NaN</td>\n",
       "      <td>26.0</td>\n",
       "    </tr>\n",
       "  </tbody>\n",
       "</table>\n",
       "</div>"
      ],
      "text/plain": [
       "      id                                    escolas_postos  \\\n",
       "113  262                            CIEP HERIVELTO MARTINS   \n",
       "90   550                                    EM 25 DE ABRIL   \n",
       "94   492                                 EM MENEZES CORTES   \n",
       "29   060              ESCOLA MUNICIPAL BARAO HOMEM DE MELO   \n",
       "28   280  ESCOLA MUNICIPAL GENERAL HUMBERTO DE SOUZA MELLO   \n",
       "131  068                                EM WALQUIR PEREIRA   \n",
       "79   412                                    EM MOZART LAGO   \n",
       "86   528                                 CIEP MARGARET MEE   \n",
       "87   414            EM CLAUDIO BESSERMAN VIANNA - BUSSUNDA   \n",
       "\n",
       "                    bairro                             endereço       lat  \\\n",
       "113    AUGUSTO VASCONCELOS           PRACA SANTO ANASTACIO, S/N -22.88649   \n",
       "90           FREGUESIA JPA                       RUAA MAMORE 78 -22.93816   \n",
       "94           FREGUESIA JPA       PRACA JOSE ALVES DE AZEVEDO 43 -22.94266   \n",
       "29        MARACANA/ TIJUCA    RUA ALM. JOAO CANDIDO BRASIL, 352 -22.91683   \n",
       "28   MARACANA/ VILA ISABEL            RUA OITO DE DEZEMBRO, 275 -22.90982   \n",
       "131          NOVA SEPETIBA      ESTRADA DE SEPETIBA S/N BLOCO 1 -22.95601   \n",
       "79            OSWALDO CRUZ     RUAA JOSE CARVALHO SALGADO S/N.O -22.87221   \n",
       "86                 RECREIO  RUAA MINISTRO ALIOMAR BALEEIRO S/NO -23.01981   \n",
       "87          RIO DAS PEDRAS          ESTRADA DE JACAREPAGUA 3327 -22.97336   \n",
       "\n",
       "          lon nome subprefeitura  quantidade  \n",
       "113 -43.52880  NaN           NaN       221.0  \n",
       "90  -43.34258  NaN           NaN       128.0  \n",
       "94  -43.33897  NaN           NaN       342.0  \n",
       "29  -43.23692  NaN           NaN       342.0  \n",
       "28  -43.23939  NaN           NaN       491.0  \n",
       "131 -43.68675  NaN           NaN       135.0  \n",
       "79  -43.35033  NaN           NaN       395.0  \n",
       "86  -43.48172  NaN           NaN        51.0  \n",
       "87  -43.32916  NaN           NaN        26.0  "
      ]
     },
     "execution_count": 166,
     "metadata": {},
     "output_type": "execute_result"
    }
   ],
   "source": [
    "df2_merged[df2_merged['subprefeitura'].isna()].sort_values(by='bairro')"
   ]
  },
  {
   "cell_type": "code",
   "execution_count": 167,
   "metadata": {},
   "outputs": [],
   "source": [
    "# id = 262 | AUGUSTO VASCONCELOS = NaN\n",
    "\n",
    "# id = 550 | FREGUESIA JPA = FREGUESIA (JACAREPAGUA) | JACAREPAGUA\n",
    "df2_merged.loc[df2_merged['id'] == '550', 'nome'] = 'FREGUESIA (JACAREPAGUA)'\n",
    "df2_merged.loc[df2_merged['id'] == '550', 'subprefeitura'] = 'JACAREPAGUA'\n",
    "\n",
    "# id = 492 | FREGUESIA JPA = FREGUESIA (JACAREPAGUA)\n",
    "df2_merged.loc[df2_merged['id'] == '492', 'nome'] = 'FREGUESIA (JACAREPAGUA)'\n",
    "df2_merged.loc[df2_merged['id'] == '492', 'subprefeitura']  = 'JACAREPAGUA'\n",
    "\n",
    "# id = 060 | MARACANA/ TIJUCA = MARACANA\n",
    "df2_merged.loc[df2_merged['id'] == '060', 'nome'] = 'MARACANA'\n",
    "df2_merged.loc[df2_merged['id'] == '060', 'subprefeitura'] = 'GRANDE TIJUCA'\n",
    "\n",
    "# id = 280 | MARACANA/ VILA ISABEL  MARACANA\n",
    "df2_merged.loc[df2_merged['id'] == '280', 'nome'] = 'MARACANA'\n",
    "df2_merged.loc[df2_merged['id'] == '280', 'subprefeitura'] = 'GRANDE TIJUCA'\n",
    "\n",
    "# id = 068 | NOVA SEPETIBA = NaN\n",
    "\n",
    "# id = 412 | OSWALDO CRUZ = OSVALDO CRUZ\n",
    "df2_merged.loc[df2_merged['id'] == '412', 'nome'] = 'OSVALDO CRUZ'\n",
    "df2_merged.loc[df2_merged['id'] == '412', 'subprefeitura']= 'ZONA NORTE'\n",
    "\n",
    "# id = 528 | RECREIO = RECREIO DOS BANDEIRANTES\n",
    "df2_merged.loc[df2_merged['id'] == '528', 'nome'] = 'RECREIO DOS BANDEIRANTES'\n",
    "df2_merged.loc[df2_merged['id'] == '528', 'subprefeitura'] = 'BARRA DA TIJUCA'\n",
    "\n",
    "# id = 414 | RIO DAS PEDRAS = NaN"
   ]
  },
  {
   "cell_type": "code",
   "execution_count": 168,
   "metadata": {},
   "outputs": [
    {
     "data": {
      "text/html": [
       "<div>\n",
       "<style scoped>\n",
       "    .dataframe tbody tr th:only-of-type {\n",
       "        vertical-align: middle;\n",
       "    }\n",
       "\n",
       "    .dataframe tbody tr th {\n",
       "        vertical-align: top;\n",
       "    }\n",
       "\n",
       "    .dataframe thead th {\n",
       "        text-align: right;\n",
       "    }\n",
       "</style>\n",
       "<table border=\"1\" class=\"dataframe\">\n",
       "  <thead>\n",
       "    <tr style=\"text-align: right;\">\n",
       "      <th></th>\n",
       "      <th>id</th>\n",
       "      <th>escolas_postos</th>\n",
       "      <th>bairro</th>\n",
       "      <th>endereço</th>\n",
       "      <th>lat</th>\n",
       "      <th>lon</th>\n",
       "      <th>nome</th>\n",
       "      <th>subprefeitura</th>\n",
       "      <th>quantidade</th>\n",
       "    </tr>\n",
       "  </thead>\n",
       "  <tbody>\n",
       "    <tr>\n",
       "      <th>113</th>\n",
       "      <td>262</td>\n",
       "      <td>CIEP HERIVELTO MARTINS</td>\n",
       "      <td>AUGUSTO VASCONCELOS</td>\n",
       "      <td>PRACA SANTO ANASTACIO, S/N</td>\n",
       "      <td>-22.88649</td>\n",
       "      <td>-43.52880</td>\n",
       "      <td>NaN</td>\n",
       "      <td>NaN</td>\n",
       "      <td>221.0</td>\n",
       "    </tr>\n",
       "    <tr>\n",
       "      <th>131</th>\n",
       "      <td>068</td>\n",
       "      <td>EM WALQUIR PEREIRA</td>\n",
       "      <td>NOVA SEPETIBA</td>\n",
       "      <td>ESTRADA DE SEPETIBA S/N BLOCO 1</td>\n",
       "      <td>-22.95601</td>\n",
       "      <td>-43.68675</td>\n",
       "      <td>NaN</td>\n",
       "      <td>NaN</td>\n",
       "      <td>135.0</td>\n",
       "    </tr>\n",
       "    <tr>\n",
       "      <th>87</th>\n",
       "      <td>414</td>\n",
       "      <td>EM CLAUDIO BESSERMAN VIANNA - BUSSUNDA</td>\n",
       "      <td>RIO DAS PEDRAS</td>\n",
       "      <td>ESTRADA DE JACAREPAGUA 3327</td>\n",
       "      <td>-22.97336</td>\n",
       "      <td>-43.32916</td>\n",
       "      <td>NaN</td>\n",
       "      <td>NaN</td>\n",
       "      <td>26.0</td>\n",
       "    </tr>\n",
       "  </tbody>\n",
       "</table>\n",
       "</div>"
      ],
      "text/plain": [
       "      id                          escolas_postos               bairro  \\\n",
       "113  262                  CIEP HERIVELTO MARTINS  AUGUSTO VASCONCELOS   \n",
       "131  068                      EM WALQUIR PEREIRA        NOVA SEPETIBA   \n",
       "87   414  EM CLAUDIO BESSERMAN VIANNA - BUSSUNDA       RIO DAS PEDRAS   \n",
       "\n",
       "                            endereço       lat       lon nome subprefeitura  \\\n",
       "113       PRACA SANTO ANASTACIO, S/N -22.88649 -43.52880  NaN           NaN   \n",
       "131  ESTRADA DE SEPETIBA S/N BLOCO 1 -22.95601 -43.68675  NaN           NaN   \n",
       "87       ESTRADA DE JACAREPAGUA 3327 -22.97336 -43.32916  NaN           NaN   \n",
       "\n",
       "     quantidade  \n",
       "113       221.0  \n",
       "131       135.0  \n",
       "87         26.0  "
      ]
     },
     "execution_count": 168,
     "metadata": {},
     "output_type": "execute_result"
    }
   ],
   "source": [
    "df2_merged[df2_merged['subprefeitura'].isna()].sort_values(by='bairro')"
   ]
  },
  {
   "cell_type": "markdown",
   "metadata": {},
   "source": [
    "## 2.3. Tratamendo de Duplicados"
   ]
  },
  {
   "cell_type": "code",
   "execution_count": 169,
   "metadata": {},
   "outputs": [],
   "source": [
    "df2_merged = df2_merged.drop_duplicates(subset='id')"
   ]
  },
  {
   "cell_type": "markdown",
   "metadata": {},
   "source": [
    "## 2.4. Salvar dados"
   ]
  },
  {
   "cell_type": "code",
   "execution_count": 170,
   "metadata": {},
   "outputs": [
    {
     "data": {
      "text/html": [
       "<div>\n",
       "<style scoped>\n",
       "    .dataframe tbody tr th:only-of-type {\n",
       "        vertical-align: middle;\n",
       "    }\n",
       "\n",
       "    .dataframe tbody tr th {\n",
       "        vertical-align: top;\n",
       "    }\n",
       "\n",
       "    .dataframe thead th {\n",
       "        text-align: right;\n",
       "    }\n",
       "</style>\n",
       "<table border=\"1\" class=\"dataframe\">\n",
       "  <thead>\n",
       "    <tr style=\"text-align: right;\">\n",
       "      <th></th>\n",
       "      <th>4</th>\n",
       "      <th>88</th>\n",
       "      <th>26</th>\n",
       "      <th>17</th>\n",
       "      <th>135</th>\n",
       "    </tr>\n",
       "  </thead>\n",
       "  <tbody>\n",
       "    <tr>\n",
       "      <th>id</th>\n",
       "      <td>132</td>\n",
       "      <td>690</td>\n",
       "      <td>163</td>\n",
       "      <td>309</td>\n",
       "      <td>474</td>\n",
       "    </tr>\n",
       "    <tr>\n",
       "      <th>escolas_postos</th>\n",
       "      <td>EM PEREIRA PASSOS</td>\n",
       "      <td>ESCOLA MUNICIPAL FINLANDIA</td>\n",
       "      <td>EM LAUDIMIA TROTTA</td>\n",
       "      <td>EM MEXICO</td>\n",
       "      <td>EM ENGENHEIRO GASTAO RANGEL</td>\n",
       "    </tr>\n",
       "    <tr>\n",
       "      <th>bairro</th>\n",
       "      <td>RIO COMPRIDO</td>\n",
       "      <td>CAMORIM</td>\n",
       "      <td>TIJUCA</td>\n",
       "      <td>BOTAFOGO</td>\n",
       "      <td>GUARATIBA</td>\n",
       "    </tr>\n",
       "    <tr>\n",
       "      <th>endereço</th>\n",
       "      <td>PRACA CONDESSA PAULO DE FRONTIN 45</td>\n",
       "      <td>RUA IGARAPE-ACU</td>\n",
       "      <td>RUA ANTONIO BASILIO, 370</td>\n",
       "      <td>RUAA DA MATRIZ 67</td>\n",
       "      <td>ESTRADA DO MAGARCA 9.183</td>\n",
       "    </tr>\n",
       "    <tr>\n",
       "      <th>lat</th>\n",
       "      <td>-22.92441</td>\n",
       "      <td>-22.97199</td>\n",
       "      <td>-22.92684</td>\n",
       "      <td>-22.95271</td>\n",
       "      <td>-22.98046</td>\n",
       "    </tr>\n",
       "    <tr>\n",
       "      <th>lon</th>\n",
       "      <td>-43.20858</td>\n",
       "      <td>-43.41011</td>\n",
       "      <td>-43.23789</td>\n",
       "      <td>-43.19176</td>\n",
       "      <td>-43.64354</td>\n",
       "    </tr>\n",
       "    <tr>\n",
       "      <th>nome</th>\n",
       "      <td>RIO COMPRIDO</td>\n",
       "      <td>CAMORIM</td>\n",
       "      <td>TIJUCA</td>\n",
       "      <td>BOTAFOGO</td>\n",
       "      <td>GUARATIBA</td>\n",
       "    </tr>\n",
       "    <tr>\n",
       "      <th>subprefeitura</th>\n",
       "      <td>CENTRO</td>\n",
       "      <td>BARRA DA TIJUCA</td>\n",
       "      <td>GRANDE TIJUCA</td>\n",
       "      <td>ZONA SUL</td>\n",
       "      <td>ZONA OESTE</td>\n",
       "    </tr>\n",
       "    <tr>\n",
       "      <th>quantidade</th>\n",
       "      <td>67.0</td>\n",
       "      <td>94.0</td>\n",
       "      <td>576.0</td>\n",
       "      <td>319.0</td>\n",
       "      <td>320.0</td>\n",
       "    </tr>\n",
       "  </tbody>\n",
       "</table>\n",
       "</div>"
      ],
      "text/plain": [
       "                                               4    \\\n",
       "id                                             132   \n",
       "escolas_postos                   EM PEREIRA PASSOS   \n",
       "bairro                                RIO COMPRIDO   \n",
       "endereço        PRACA CONDESSA PAULO DE FRONTIN 45   \n",
       "lat                                      -22.92441   \n",
       "lon                                      -43.20858   \n",
       "nome                                  RIO COMPRIDO   \n",
       "subprefeitura                               CENTRO   \n",
       "quantidade                                    67.0   \n",
       "\n",
       "                                       88                        26   \\\n",
       "id                                     690                       163   \n",
       "escolas_postos  ESCOLA MUNICIPAL FINLANDIA        EM LAUDIMIA TROTTA   \n",
       "bairro                             CAMORIM                    TIJUCA   \n",
       "endereço                   RUA IGARAPE-ACU  RUA ANTONIO BASILIO, 370   \n",
       "lat                              -22.97199                 -22.92684   \n",
       "lon                              -43.41011                 -43.23789   \n",
       "nome                               CAMORIM                    TIJUCA   \n",
       "subprefeitura              BARRA DA TIJUCA             GRANDE TIJUCA   \n",
       "quantidade                            94.0                     576.0   \n",
       "\n",
       "                              17                           135  \n",
       "id                            309                          474  \n",
       "escolas_postos          EM MEXICO  EM ENGENHEIRO GASTAO RANGEL  \n",
       "bairro                   BOTAFOGO                    GUARATIBA  \n",
       "endereço        RUAA DA MATRIZ 67     ESTRADA DO MAGARCA 9.183  \n",
       "lat                     -22.95271                    -22.98046  \n",
       "lon                     -43.19176                    -43.64354  \n",
       "nome                     BOTAFOGO                    GUARATIBA  \n",
       "subprefeitura            ZONA SUL                   ZONA OESTE  \n",
       "quantidade                  319.0                        320.0  "
      ]
     },
     "execution_count": 170,
     "metadata": {},
     "output_type": "execute_result"
    }
   ],
   "source": [
    "df2_merged.sample(5).T"
   ]
  },
  {
   "cell_type": "code",
   "execution_count": 171,
   "metadata": {},
   "outputs": [],
   "source": [
    "salvar_dados_csv(df2_merged, 'df2_feature_engineering.csv')"
   ]
  },
  {
   "cell_type": "markdown",
   "metadata": {},
   "source": [
    "# 3.0. Construção de Entrega"
   ]
  },
  {
   "cell_type": "markdown",
   "metadata": {},
   "source": [
    "## 3.1. Entrega Quantidade de Material por Subprefeitura"
   ]
  },
  {
   "cell_type": "code",
   "execution_count": 184,
   "metadata": {},
   "outputs": [
    {
     "data": {
      "text/html": [
       "<div>\n",
       "<style scoped>\n",
       "    .dataframe tbody tr th:only-of-type {\n",
       "        vertical-align: middle;\n",
       "    }\n",
       "\n",
       "    .dataframe tbody tr th {\n",
       "        vertical-align: top;\n",
       "    }\n",
       "\n",
       "    .dataframe thead th {\n",
       "        text-align: right;\n",
       "    }\n",
       "</style>\n",
       "<table border=\"1\" class=\"dataframe\">\n",
       "  <thead>\n",
       "    <tr style=\"text-align: right;\">\n",
       "      <th></th>\n",
       "      <th>subprefeitura</th>\n",
       "      <th>sum_quantidade</th>\n",
       "    </tr>\n",
       "  </thead>\n",
       "  <tbody>\n",
       "    <tr>\n",
       "      <th>0</th>\n",
       "      <td>BARRA DA TIJUCA</td>\n",
       "      <td>266.0</td>\n",
       "    </tr>\n",
       "    <tr>\n",
       "      <th>1</th>\n",
       "      <td>CENTRO</td>\n",
       "      <td>2352.0</td>\n",
       "    </tr>\n",
       "    <tr>\n",
       "      <th>2</th>\n",
       "      <td>GRANDE BANGU</td>\n",
       "      <td>4321.0</td>\n",
       "    </tr>\n",
       "    <tr>\n",
       "      <th>3</th>\n",
       "      <td>GRANDE TIJUCA</td>\n",
       "      <td>2958.0</td>\n",
       "    </tr>\n",
       "    <tr>\n",
       "      <th>4</th>\n",
       "      <td>ILHAS</td>\n",
       "      <td>741.0</td>\n",
       "    </tr>\n",
       "    <tr>\n",
       "      <th>5</th>\n",
       "      <td>JACAREPAGUA</td>\n",
       "      <td>2897.0</td>\n",
       "    </tr>\n",
       "    <tr>\n",
       "      <th>6</th>\n",
       "      <td>ZONA NORTE</td>\n",
       "      <td>14564.0</td>\n",
       "    </tr>\n",
       "    <tr>\n",
       "      <th>7</th>\n",
       "      <td>ZONA OESTE</td>\n",
       "      <td>9137.0</td>\n",
       "    </tr>\n",
       "    <tr>\n",
       "      <th>8</th>\n",
       "      <td>ZONA SUL</td>\n",
       "      <td>4598.0</td>\n",
       "    </tr>\n",
       "  </tbody>\n",
       "</table>\n",
       "</div>"
      ],
      "text/plain": [
       "     subprefeitura  sum_quantidade\n",
       "0  BARRA DA TIJUCA           266.0\n",
       "1           CENTRO          2352.0\n",
       "2     GRANDE BANGU          4321.0\n",
       "3    GRANDE TIJUCA          2958.0\n",
       "4            ILHAS           741.0\n",
       "5      JACAREPAGUA          2897.0\n",
       "6       ZONA NORTE         14564.0\n",
       "7       ZONA OESTE          9137.0\n",
       "8         ZONA SUL          4598.0"
      ]
     },
     "execution_count": 184,
     "metadata": {},
     "output_type": "execute_result"
    }
   ],
   "source": [
    "# Quantidade de material escolar por subprefeitura\n",
    "Qt_mat_subpre = df2_merged.groupby('subprefeitura').agg(sum_quantidade=(\"quantidade\", \"sum\"))\n",
    "Qt_mat_subpre = Qt_mat_subpre.reset_index()\n",
    "Qt_mat_subpre"
   ]
  },
  {
   "cell_type": "code",
   "execution_count": 173,
   "metadata": {},
   "outputs": [],
   "source": [
    "salvar_dados_csv(Qt_mat_subpre, 'Qt_mat_subpre.csv')"
   ]
  },
  {
   "cell_type": "markdown",
   "metadata": {},
   "source": [
    "## 3.2. Entrega de dados Estruturados e Ordenados"
   ]
  },
  {
   "cell_type": "markdown",
   "metadata": {},
   "source": [
    "### 3.2.1. Preparação"
   ]
  },
  {
   "cell_type": "code",
   "execution_count": 174,
   "metadata": {},
   "outputs": [],
   "source": [
    "df2_merged = pd.merge(df2_merged, Qt_mat_subpre, on='subprefeitura', how='left')"
   ]
  },
  {
   "cell_type": "code",
   "execution_count": 242,
   "metadata": {},
   "outputs": [
    {
     "data": {
      "text/html": [
       "<div>\n",
       "<style scoped>\n",
       "    .dataframe tbody tr th:only-of-type {\n",
       "        vertical-align: middle;\n",
       "    }\n",
       "\n",
       "    .dataframe tbody tr th {\n",
       "        vertical-align: top;\n",
       "    }\n",
       "\n",
       "    .dataframe thead th {\n",
       "        text-align: right;\n",
       "    }\n",
       "</style>\n",
       "<table border=\"1\" class=\"dataframe\">\n",
       "  <thead>\n",
       "    <tr style=\"text-align: right;\">\n",
       "      <th></th>\n",
       "      <th>id</th>\n",
       "      <th>tipo_escola</th>\n",
       "      <th>nome_escola</th>\n",
       "      <th>endereço</th>\n",
       "      <th>numero</th>\n",
       "      <th>bairro</th>\n",
       "      <th>subprefeitura</th>\n",
       "      <th>lat</th>\n",
       "      <th>lon</th>\n",
       "      <th>qtd_material_didatico</th>\n",
       "    </tr>\n",
       "  </thead>\n",
       "  <tbody>\n",
       "    <tr>\n",
       "      <th>0</th>\n",
       "      <td>178</td>\n",
       "      <td>CENTRO</td>\n",
       "      <td>INTEGRADO DE EDUCACAO PUBLICA HENFIL</td>\n",
       "      <td>RUAA CARLOS SEIDL S/NO</td>\n",
       "      <td>9999</td>\n",
       "      <td>CAJU</td>\n",
       "      <td>CENTRO</td>\n",
       "      <td>-22.88089</td>\n",
       "      <td>-43.22533</td>\n",
       "      <td>20.0</td>\n",
       "    </tr>\n",
       "    <tr>\n",
       "      <th>1</th>\n",
       "      <td>634</td>\n",
       "      <td>EM</td>\n",
       "      <td>ALICE DO AMARAL PEIXOTO</td>\n",
       "      <td>RUAA EBANO 187</td>\n",
       "      <td>187</td>\n",
       "      <td>BENFICA</td>\n",
       "      <td>CENTRO</td>\n",
       "      <td>-22.88957</td>\n",
       "      <td>-43.23620</td>\n",
       "      <td>121.0</td>\n",
       "    </tr>\n",
       "    <tr>\n",
       "      <th>2</th>\n",
       "      <td>483</td>\n",
       "      <td>EM</td>\n",
       "      <td>CELESTINO SILVA</td>\n",
       "      <td>RUA DO LAVRADIO, 56</td>\n",
       "      <td>56</td>\n",
       "      <td>CENTRO</td>\n",
       "      <td>CENTRO</td>\n",
       "      <td>-22.90929</td>\n",
       "      <td>-43.18358</td>\n",
       "      <td>220.0</td>\n",
       "    </tr>\n",
       "    <tr>\n",
       "      <th>3</th>\n",
       "      <td>476</td>\n",
       "      <td>ESCOLA</td>\n",
       "      <td>MUNICIPAL FLORIANO PEIXOTO</td>\n",
       "      <td>PRACA ARGENTINA 20</td>\n",
       "      <td>20</td>\n",
       "      <td>SAO CRISTOVAO</td>\n",
       "      <td>CENTRO</td>\n",
       "      <td>-22.89763</td>\n",
       "      <td>-43.22746</td>\n",
       "      <td>190.0</td>\n",
       "    </tr>\n",
       "    <tr>\n",
       "      <th>4</th>\n",
       "      <td>132</td>\n",
       "      <td>EM</td>\n",
       "      <td>PEREIRA PASSOS</td>\n",
       "      <td>PRACA CONDESSA PAULO DE FRONTIN 45</td>\n",
       "      <td>45</td>\n",
       "      <td>RIO COMPRIDO</td>\n",
       "      <td>CENTRO</td>\n",
       "      <td>-22.92441</td>\n",
       "      <td>-43.20858</td>\n",
       "      <td>67.0</td>\n",
       "    </tr>\n",
       "    <tr>\n",
       "      <th>...</th>\n",
       "      <td>...</td>\n",
       "      <td>...</td>\n",
       "      <td>...</td>\n",
       "      <td>...</td>\n",
       "      <td>...</td>\n",
       "      <td>...</td>\n",
       "      <td>...</td>\n",
       "      <td>...</td>\n",
       "      <td>...</td>\n",
       "      <td>...</td>\n",
       "    </tr>\n",
       "    <tr>\n",
       "      <th>131</th>\n",
       "      <td>210</td>\n",
       "      <td>EM</td>\n",
       "      <td>DEBORA MENDES DE MORAES</td>\n",
       "      <td>RUAA BELCHIOR DA FONSECA 643</td>\n",
       "      <td>643</td>\n",
       "      <td>PEDRA DE GUARATIBA</td>\n",
       "      <td>ZONA OESTE</td>\n",
       "      <td>-23.00142</td>\n",
       "      <td>-43.63876</td>\n",
       "      <td>570.0</td>\n",
       "    </tr>\n",
       "    <tr>\n",
       "      <th>132</th>\n",
       "      <td>474</td>\n",
       "      <td>EM</td>\n",
       "      <td>ENGENHEIRO GASTAO RANGEL</td>\n",
       "      <td>ESTRADA DO MAGARCA 9.183</td>\n",
       "      <td>9999</td>\n",
       "      <td>GUARATIBA</td>\n",
       "      <td>ZONA OESTE</td>\n",
       "      <td>-22.98046</td>\n",
       "      <td>-43.64354</td>\n",
       "      <td>320.0</td>\n",
       "    </tr>\n",
       "    <tr>\n",
       "      <th>133</th>\n",
       "      <td>301</td>\n",
       "      <td>EM</td>\n",
       "      <td>JONATAS SERRANO</td>\n",
       "      <td>ESTRADA DO MATO ALTO, S/NO</td>\n",
       "      <td>9999</td>\n",
       "      <td>GUARATIBA</td>\n",
       "      <td>ZONA OESTE</td>\n",
       "      <td>-22.95316</td>\n",
       "      <td>-43.57741</td>\n",
       "      <td>335.0</td>\n",
       "    </tr>\n",
       "    <tr>\n",
       "      <th>134</th>\n",
       "      <td>215</td>\n",
       "      <td>E.M.</td>\n",
       "      <td>NARCISA AMALIA</td>\n",
       "      <td>ESTRADA TEODORETO DE CAMARGO S/N.O</td>\n",
       "      <td>9999</td>\n",
       "      <td>ILHA DE GUARATIBA</td>\n",
       "      <td>ZONA OESTE</td>\n",
       "      <td>-23.00908</td>\n",
       "      <td>-43.53758</td>\n",
       "      <td>342.0</td>\n",
       "    </tr>\n",
       "    <tr>\n",
       "      <th>135</th>\n",
       "      <td>606</td>\n",
       "      <td>EM</td>\n",
       "      <td>PROFESSOR CASTILHO</td>\n",
       "      <td>CAMINHO DA MATRIZ 4406</td>\n",
       "      <td>4406</td>\n",
       "      <td>ILHA DE GUARATIBA</td>\n",
       "      <td>ZONA OESTE</td>\n",
       "      <td>-22.99412</td>\n",
       "      <td>-43.59368</td>\n",
       "      <td>521.0</td>\n",
       "    </tr>\n",
       "  </tbody>\n",
       "</table>\n",
       "<p>136 rows × 10 columns</p>\n",
       "</div>"
      ],
      "text/plain": [
       "      id tipo_escola                           nome_escola  \\\n",
       "0    178      CENTRO  INTEGRADO DE EDUCACAO PUBLICA HENFIL   \n",
       "1    634          EM               ALICE DO AMARAL PEIXOTO   \n",
       "2    483          EM                       CELESTINO SILVA   \n",
       "3    476      ESCOLA            MUNICIPAL FLORIANO PEIXOTO   \n",
       "4    132          EM                        PEREIRA PASSOS   \n",
       "..   ...         ...                                   ...   \n",
       "131  210          EM               DEBORA MENDES DE MORAES   \n",
       "132  474          EM              ENGENHEIRO GASTAO RANGEL   \n",
       "133  301          EM                       JONATAS SERRANO   \n",
       "134  215        E.M.                        NARCISA AMALIA   \n",
       "135  606          EM                    PROFESSOR CASTILHO   \n",
       "\n",
       "                               endereço numero              bairro  \\\n",
       "0                RUAA CARLOS SEIDL S/NO   9999                CAJU   \n",
       "1                        RUAA EBANO 187    187             BENFICA   \n",
       "2                   RUA DO LAVRADIO, 56     56              CENTRO   \n",
       "3                    PRACA ARGENTINA 20     20       SAO CRISTOVAO   \n",
       "4    PRACA CONDESSA PAULO DE FRONTIN 45     45        RIO COMPRIDO   \n",
       "..                                  ...    ...                 ...   \n",
       "131        RUAA BELCHIOR DA FONSECA 643    643  PEDRA DE GUARATIBA   \n",
       "132            ESTRADA DO MAGARCA 9.183   9999           GUARATIBA   \n",
       "133          ESTRADA DO MATO ALTO, S/NO   9999           GUARATIBA   \n",
       "134  ESTRADA TEODORETO DE CAMARGO S/N.O   9999   ILHA DE GUARATIBA   \n",
       "135              CAMINHO DA MATRIZ 4406   4406   ILHA DE GUARATIBA   \n",
       "\n",
       "    subprefeitura       lat       lon  qtd_material_didatico  \n",
       "0          CENTRO -22.88089 -43.22533                   20.0  \n",
       "1          CENTRO -22.88957 -43.23620                  121.0  \n",
       "2          CENTRO -22.90929 -43.18358                  220.0  \n",
       "3          CENTRO -22.89763 -43.22746                  190.0  \n",
       "4          CENTRO -22.92441 -43.20858                   67.0  \n",
       "..            ...       ...       ...                    ...  \n",
       "131    ZONA OESTE -23.00142 -43.63876                  570.0  \n",
       "132    ZONA OESTE -22.98046 -43.64354                  320.0  \n",
       "133    ZONA OESTE -22.95316 -43.57741                  335.0  \n",
       "134    ZONA OESTE -23.00908 -43.53758                  342.0  \n",
       "135    ZONA OESTE -22.99412 -43.59368                  521.0  \n",
       "\n",
       "[136 rows x 10 columns]"
      ]
     },
     "execution_count": 242,
     "metadata": {},
     "output_type": "execute_result"
    }
   ],
   "source": [
    "# Crie cada DataFrame separadamente\n",
    "df_id = pd.DataFrame(df2_merged['id'])\n",
    "df_tipo_escolas = pd.DataFrame(df2_merged['escolas_postos'].apply(extrair_tipo_escola))\n",
    "df_nome_escolas = pd.DataFrame(df2_merged['escolas_postos'].apply(extrair_nome_escola))\n",
    "df_endereco = pd.DataFrame(df2_merged['endereço'])\n",
    "df_numero = pd.DataFrame(df2_merged['endereço'].apply(extrair_numero))\n",
    "df_bairro = pd.DataFrame(df2_merged['bairro'])\n",
    "df_subprefeitura = pd.DataFrame(df2_merged['subprefeitura'])\n",
    "df_lat = pd.DataFrame(df2_merged['lat'])\n",
    "df_lon = pd.DataFrame(df2_merged['lon'])\n",
    "df_qtd_material_didatico = pd.DataFrame(df2_merged['quantidade'])\n",
    "\n",
    "# Agrupe todos os dataframes em apenas um\n",
    "df_final = pd.concat([df_id, df_tipo_escolas, df_nome_escolas, df_endereco, df_numero, df_bairro, df_subprefeitura, df_lat, df_lon, df_qtd_material_didatico], axis=1)\n",
    "\n",
    "\n",
    "df_final.columns = ['id', 'tipo_escola', 'nome_escola', 'endereço', 'numero', 'bairro', 'subprefeitura', 'lat', 'lon', 'qtd_material_didatico']\n",
    "# Exiba o DataFrame final\n",
    "df_final"
   ]
  },
  {
   "cell_type": "code",
   "execution_count": 243,
   "metadata": {},
   "outputs": [
    {
     "data": {
      "text/plain": [
       "id                       0\n",
       "tipo_escola              0\n",
       "nome_escola              0\n",
       "endereço                 0\n",
       "numero                   0\n",
       "bairro                   0\n",
       "subprefeitura            3\n",
       "lat                      0\n",
       "lon                      0\n",
       "qtd_material_didatico    0\n",
       "dtype: int64"
      ]
     },
     "execution_count": 243,
     "metadata": {},
     "output_type": "execute_result"
    }
   ],
   "source": [
    "df_final.isna().sum()"
   ]
  },
  {
   "cell_type": "code",
   "execution_count": 244,
   "metadata": {},
   "outputs": [
    {
     "data": {
      "text/html": [
       "<div>\n",
       "<style scoped>\n",
       "    .dataframe tbody tr th:only-of-type {\n",
       "        vertical-align: middle;\n",
       "    }\n",
       "\n",
       "    .dataframe tbody tr th {\n",
       "        vertical-align: top;\n",
       "    }\n",
       "\n",
       "    .dataframe thead th {\n",
       "        text-align: right;\n",
       "    }\n",
       "</style>\n",
       "<table border=\"1\" class=\"dataframe\">\n",
       "  <thead>\n",
       "    <tr style=\"text-align: right;\">\n",
       "      <th></th>\n",
       "      <th>id</th>\n",
       "      <th>tipo_escola</th>\n",
       "      <th>nome_escola</th>\n",
       "      <th>endereço</th>\n",
       "      <th>numero</th>\n",
       "      <th>bairro</th>\n",
       "      <th>subprefeitura</th>\n",
       "      <th>lat</th>\n",
       "      <th>lon</th>\n",
       "      <th>qtd_material_didatico</th>\n",
       "    </tr>\n",
       "  </thead>\n",
       "  <tbody>\n",
       "    <tr>\n",
       "      <th>110</th>\n",
       "      <td>262</td>\n",
       "      <td>CIEP</td>\n",
       "      <td>HERIVELTO MARTINS</td>\n",
       "      <td>PRACA SANTO ANASTACIO, S/N</td>\n",
       "      <td>9999</td>\n",
       "      <td>AUGUSTO VASCONCELOS</td>\n",
       "      <td>NaN</td>\n",
       "      <td>-22.88649</td>\n",
       "      <td>-43.52880</td>\n",
       "      <td>221.0</td>\n",
       "    </tr>\n",
       "    <tr>\n",
       "      <th>128</th>\n",
       "      <td>068</td>\n",
       "      <td>EM</td>\n",
       "      <td>WALQUIR PEREIRA</td>\n",
       "      <td>ESTRADA DE SEPETIBA S/N BLOCO 1</td>\n",
       "      <td>1</td>\n",
       "      <td>NOVA SEPETIBA</td>\n",
       "      <td>NaN</td>\n",
       "      <td>-22.95601</td>\n",
       "      <td>-43.68675</td>\n",
       "      <td>135.0</td>\n",
       "    </tr>\n",
       "    <tr>\n",
       "      <th>85</th>\n",
       "      <td>414</td>\n",
       "      <td>EM</td>\n",
       "      <td>CLAUDIO BESSERMAN VIANNA - BUSSUNDA</td>\n",
       "      <td>ESTRADA DE JACAREPAGUA 3327</td>\n",
       "      <td>3327</td>\n",
       "      <td>RIO DAS PEDRAS</td>\n",
       "      <td>NaN</td>\n",
       "      <td>-22.97336</td>\n",
       "      <td>-43.32916</td>\n",
       "      <td>26.0</td>\n",
       "    </tr>\n",
       "  </tbody>\n",
       "</table>\n",
       "</div>"
      ],
      "text/plain": [
       "      id tipo_escola                          nome_escola  \\\n",
       "110  262        CIEP                    HERIVELTO MARTINS   \n",
       "128  068          EM                      WALQUIR PEREIRA   \n",
       "85   414          EM  CLAUDIO BESSERMAN VIANNA - BUSSUNDA   \n",
       "\n",
       "                            endereço numero               bairro  \\\n",
       "110       PRACA SANTO ANASTACIO, S/N   9999  AUGUSTO VASCONCELOS   \n",
       "128  ESTRADA DE SEPETIBA S/N BLOCO 1      1        NOVA SEPETIBA   \n",
       "85       ESTRADA DE JACAREPAGUA 3327   3327       RIO DAS PEDRAS   \n",
       "\n",
       "    subprefeitura       lat       lon  qtd_material_didatico  \n",
       "110           NaN -22.88649 -43.52880                  221.0  \n",
       "128           NaN -22.95601 -43.68675                  135.0  \n",
       "85            NaN -22.97336 -43.32916                   26.0  "
      ]
     },
     "execution_count": 244,
     "metadata": {},
     "output_type": "execute_result"
    }
   ],
   "source": [
    "df_final[df_final['subprefeitura'].isna()].sort_values(by='bairro')"
   ]
  },
  {
   "cell_type": "markdown",
   "metadata": {},
   "source": [
    "### 3.2.2 Ordenação"
   ]
  },
  {
   "cell_type": "code",
   "execution_count": 245,
   "metadata": {},
   "outputs": [],
   "source": [
    "pontos_entrega = list(df_final[['lat', 'lon']].itertuples(index=False, name=None))"
   ]
  },
  {
   "cell_type": "code",
   "execution_count": 246,
   "metadata": {},
   "outputs": [
    {
     "name": "stdout",
     "output_type": "stream",
     "text": [
      "Melhor rota: [0, 1, 8, 3, 27, 28, 20, 26, 25, 24, 21, 23, 39, 41, 47, 43, 48, 62, 60, 57, 61, 59, 55, 51, 56, 53, 54, 58, 50, 73, 75, 45, 49, 64, 67, 81, 78, 72, 77, 63, 79, 90, 80, 101, 71, 69, 70, 68, 99, 76, 104, 106, 107, 89, 93, 92, 82, 83, 91, 88, 94, 85, 30, 29, 32, 15, 5, 14, 13, 17, 12, 19, 11, 2, 6, 7, 22, 9, 4, 18, 16, 10, 36, 37, 31, 42, 44, 46, 33, 40, 35, 34, 38, 74, 66, 65, 100, 103, 102, 105, 97, 98, 95, 96, 114, 110, 117, 108, 109, 116, 52, 111, 115, 112, 122, 127, 118, 120, 124, 121, 128, 123, 130, 129, 132, 131, 135, 133, 113, 87, 84, 134, 86, 126, 119, 125, 0]\n"
     ]
    }
   ],
   "source": [
    "best_route = nearest_neighbor(pontos_entrega)\n",
    "print(\"Melhor rota:\", best_route)"
   ]
  },
  {
   "cell_type": "code",
   "execution_count": 247,
   "metadata": {},
   "outputs": [],
   "source": [
    "df_ordered = df_final.reindex(best_route)"
   ]
  },
  {
   "cell_type": "code",
   "execution_count": 248,
   "metadata": {},
   "outputs": [
    {
     "data": {
      "text/html": [
       "<div>\n",
       "<style scoped>\n",
       "    .dataframe tbody tr th:only-of-type {\n",
       "        vertical-align: middle;\n",
       "    }\n",
       "\n",
       "    .dataframe tbody tr th {\n",
       "        vertical-align: top;\n",
       "    }\n",
       "\n",
       "    .dataframe thead th {\n",
       "        text-align: right;\n",
       "    }\n",
       "</style>\n",
       "<table border=\"1\" class=\"dataframe\">\n",
       "  <thead>\n",
       "    <tr style=\"text-align: right;\">\n",
       "      <th></th>\n",
       "      <th>id</th>\n",
       "      <th>tipo_escola</th>\n",
       "      <th>nome_escola</th>\n",
       "      <th>endereço</th>\n",
       "      <th>numero</th>\n",
       "      <th>bairro</th>\n",
       "      <th>subprefeitura</th>\n",
       "      <th>lat</th>\n",
       "      <th>lon</th>\n",
       "      <th>qtd_material_didatico</th>\n",
       "    </tr>\n",
       "  </thead>\n",
       "  <tbody>\n",
       "    <tr>\n",
       "      <th>0</th>\n",
       "      <td>178</td>\n",
       "      <td>CENTRO</td>\n",
       "      <td>INTEGRADO DE EDUCACAO PUBLICA HENFIL</td>\n",
       "      <td>RUAA CARLOS SEIDL S/NO</td>\n",
       "      <td>9999</td>\n",
       "      <td>CAJU</td>\n",
       "      <td>CENTRO</td>\n",
       "      <td>-22.88089</td>\n",
       "      <td>-43.22533</td>\n",
       "      <td>20.0</td>\n",
       "    </tr>\n",
       "    <tr>\n",
       "      <th>1</th>\n",
       "      <td>634</td>\n",
       "      <td>EM</td>\n",
       "      <td>ALICE DO AMARAL PEIXOTO</td>\n",
       "      <td>RUAA EBANO 187</td>\n",
       "      <td>187</td>\n",
       "      <td>BENFICA</td>\n",
       "      <td>CENTRO</td>\n",
       "      <td>-22.88957</td>\n",
       "      <td>-43.23620</td>\n",
       "      <td>121.0</td>\n",
       "    </tr>\n",
       "    <tr>\n",
       "      <th>8</th>\n",
       "      <td>600</td>\n",
       "      <td>EM</td>\n",
       "      <td>URUGUAI</td>\n",
       "      <td>RUAA ANA NERI 192</td>\n",
       "      <td>192</td>\n",
       "      <td>BENFICA</td>\n",
       "      <td>CENTRO</td>\n",
       "      <td>-22.89849</td>\n",
       "      <td>-43.23776</td>\n",
       "      <td>591.0</td>\n",
       "    </tr>\n",
       "    <tr>\n",
       "      <th>3</th>\n",
       "      <td>476</td>\n",
       "      <td>ESCOLA</td>\n",
       "      <td>MUNICIPAL FLORIANO PEIXOTO</td>\n",
       "      <td>PRACA ARGENTINA 20</td>\n",
       "      <td>20</td>\n",
       "      <td>SAO CRISTOVAO</td>\n",
       "      <td>CENTRO</td>\n",
       "      <td>-22.89763</td>\n",
       "      <td>-43.22746</td>\n",
       "      <td>190.0</td>\n",
       "    </tr>\n",
       "    <tr>\n",
       "      <th>27</th>\n",
       "      <td>280</td>\n",
       "      <td>ESCOLA</td>\n",
       "      <td>MUNICIPAL GENERAL HUMBERTO DE SOUZA MELLO</td>\n",
       "      <td>RUA OITO DE DEZEMBRO, 275</td>\n",
       "      <td>275</td>\n",
       "      <td>MARACANA/ VILA ISABEL</td>\n",
       "      <td>GRANDE TIJUCA</td>\n",
       "      <td>-22.90982</td>\n",
       "      <td>-43.23939</td>\n",
       "      <td>491.0</td>\n",
       "    </tr>\n",
       "    <tr>\n",
       "      <th>...</th>\n",
       "      <td>...</td>\n",
       "      <td>...</td>\n",
       "      <td>...</td>\n",
       "      <td>...</td>\n",
       "      <td>...</td>\n",
       "      <td>...</td>\n",
       "      <td>...</td>\n",
       "      <td>...</td>\n",
       "      <td>...</td>\n",
       "      <td>...</td>\n",
       "    </tr>\n",
       "    <tr>\n",
       "      <th>86</th>\n",
       "      <td>690</td>\n",
       "      <td>ESCOLA</td>\n",
       "      <td>MUNICIPAL FINLANDIA</td>\n",
       "      <td>RUA IGARAPE-ACU</td>\n",
       "      <td>9999</td>\n",
       "      <td>CAMORIM</td>\n",
       "      <td>BARRA DA TIJUCA</td>\n",
       "      <td>-22.97199</td>\n",
       "      <td>-43.41011</td>\n",
       "      <td>94.0</td>\n",
       "    </tr>\n",
       "    <tr>\n",
       "      <th>126</th>\n",
       "      <td>497</td>\n",
       "      <td>E.M</td>\n",
       "      <td>PROFESSORA LEILA MEHL MENEZES DE MATTOS</td>\n",
       "      <td>AVENIDA MARIO PEREIRA DOS SANTOS S/N.O</td>\n",
       "      <td>9999</td>\n",
       "      <td>PACIENCIA</td>\n",
       "      <td>ZONA OESTE</td>\n",
       "      <td>-22.87319</td>\n",
       "      <td>-43.62773</td>\n",
       "      <td>517.0</td>\n",
       "    </tr>\n",
       "    <tr>\n",
       "      <th>119</th>\n",
       "      <td>573</td>\n",
       "      <td>CENTRO</td>\n",
       "      <td>INTEGRADO DE EDUCACAO PUBLICA MAJOR MANUEL GOM...</td>\n",
       "      <td>RUAA CABO SAULO DE VASCONCELOS S/N.O</td>\n",
       "      <td>9999</td>\n",
       "      <td>PACIENCIA</td>\n",
       "      <td>ZONA OESTE</td>\n",
       "      <td>-22.88855</td>\n",
       "      <td>-43.63805</td>\n",
       "      <td>207.0</td>\n",
       "    </tr>\n",
       "    <tr>\n",
       "      <th>125</th>\n",
       "      <td>316</td>\n",
       "      <td>EM</td>\n",
       "      <td>PROFESSORA FLAVIA DOS SANTOS SOARES</td>\n",
       "      <td>RUAA EUDALDO GOMES DA SILVA S/N.O CONJ URUCANIA</td>\n",
       "      <td>9999</td>\n",
       "      <td>PACIENCIA</td>\n",
       "      <td>ZONA OESTE</td>\n",
       "      <td>-22.91403</td>\n",
       "      <td>-43.65344</td>\n",
       "      <td>579.0</td>\n",
       "    </tr>\n",
       "    <tr>\n",
       "      <th>0</th>\n",
       "      <td>178</td>\n",
       "      <td>CENTRO</td>\n",
       "      <td>INTEGRADO DE EDUCACAO PUBLICA HENFIL</td>\n",
       "      <td>RUAA CARLOS SEIDL S/NO</td>\n",
       "      <td>9999</td>\n",
       "      <td>CAJU</td>\n",
       "      <td>CENTRO</td>\n",
       "      <td>-22.88089</td>\n",
       "      <td>-43.22533</td>\n",
       "      <td>20.0</td>\n",
       "    </tr>\n",
       "  </tbody>\n",
       "</table>\n",
       "<p>137 rows × 10 columns</p>\n",
       "</div>"
      ],
      "text/plain": [
       "      id tipo_escola                                        nome_escola  \\\n",
       "0    178      CENTRO               INTEGRADO DE EDUCACAO PUBLICA HENFIL   \n",
       "1    634          EM                            ALICE DO AMARAL PEIXOTO   \n",
       "8    600          EM                                            URUGUAI   \n",
       "3    476      ESCOLA                         MUNICIPAL FLORIANO PEIXOTO   \n",
       "27   280      ESCOLA          MUNICIPAL GENERAL HUMBERTO DE SOUZA MELLO   \n",
       "..   ...         ...                                                ...   \n",
       "86   690      ESCOLA                                MUNICIPAL FINLANDIA   \n",
       "126  497         E.M            PROFESSORA LEILA MEHL MENEZES DE MATTOS   \n",
       "119  573      CENTRO  INTEGRADO DE EDUCACAO PUBLICA MAJOR MANUEL GOM...   \n",
       "125  316          EM                PROFESSORA FLAVIA DOS SANTOS SOARES   \n",
       "0    178      CENTRO               INTEGRADO DE EDUCACAO PUBLICA HENFIL   \n",
       "\n",
       "                                            endereço numero  \\\n",
       "0                             RUAA CARLOS SEIDL S/NO   9999   \n",
       "1                                     RUAA EBANO 187    187   \n",
       "8                                  RUAA ANA NERI 192    192   \n",
       "3                                 PRACA ARGENTINA 20     20   \n",
       "27                         RUA OITO DE DEZEMBRO, 275    275   \n",
       "..                                               ...    ...   \n",
       "86                                   RUA IGARAPE-ACU   9999   \n",
       "126           AVENIDA MARIO PEREIRA DOS SANTOS S/N.O   9999   \n",
       "119             RUAA CABO SAULO DE VASCONCELOS S/N.O   9999   \n",
       "125  RUAA EUDALDO GOMES DA SILVA S/N.O CONJ URUCANIA   9999   \n",
       "0                             RUAA CARLOS SEIDL S/NO   9999   \n",
       "\n",
       "                    bairro    subprefeitura       lat       lon  \\\n",
       "0                     CAJU           CENTRO -22.88089 -43.22533   \n",
       "1                  BENFICA           CENTRO -22.88957 -43.23620   \n",
       "8                  BENFICA           CENTRO -22.89849 -43.23776   \n",
       "3            SAO CRISTOVAO           CENTRO -22.89763 -43.22746   \n",
       "27   MARACANA/ VILA ISABEL    GRANDE TIJUCA -22.90982 -43.23939   \n",
       "..                     ...              ...       ...       ...   \n",
       "86                 CAMORIM  BARRA DA TIJUCA -22.97199 -43.41011   \n",
       "126              PACIENCIA       ZONA OESTE -22.87319 -43.62773   \n",
       "119              PACIENCIA       ZONA OESTE -22.88855 -43.63805   \n",
       "125              PACIENCIA       ZONA OESTE -22.91403 -43.65344   \n",
       "0                     CAJU           CENTRO -22.88089 -43.22533   \n",
       "\n",
       "     qtd_material_didatico  \n",
       "0                     20.0  \n",
       "1                    121.0  \n",
       "8                    591.0  \n",
       "3                    190.0  \n",
       "27                   491.0  \n",
       "..                     ...  \n",
       "86                    94.0  \n",
       "126                  517.0  \n",
       "119                  207.0  \n",
       "125                  579.0  \n",
       "0                     20.0  \n",
       "\n",
       "[137 rows x 10 columns]"
      ]
     },
     "execution_count": 248,
     "metadata": {},
     "output_type": "execute_result"
    }
   ],
   "source": [
    "df_ordered"
   ]
  },
  {
   "cell_type": "markdown",
   "metadata": {},
   "source": [
    "### 3.2.3 Salvar Dados"
   ]
  },
  {
   "cell_type": "code",
   "execution_count": 182,
   "metadata": {},
   "outputs": [],
   "source": [
    "salvar_dados_csv(df_ordered, 'df_ordenado.csv')"
   ]
  },
  {
   "cell_type": "markdown",
   "metadata": {},
   "source": [
    "## 4. Desafio "
   ]
  },
  {
   "cell_type": "code",
   "execution_count": 215,
   "metadata": {},
   "outputs": [
    {
     "data": {
      "text/html": [
       "<div>\n",
       "<style scoped>\n",
       "    .dataframe tbody tr th:only-of-type {\n",
       "        vertical-align: middle;\n",
       "    }\n",
       "\n",
       "    .dataframe tbody tr th {\n",
       "        vertical-align: top;\n",
       "    }\n",
       "\n",
       "    .dataframe thead th {\n",
       "        text-align: right;\n",
       "    }\n",
       "</style>\n",
       "<table border=\"1\" class=\"dataframe\">\n",
       "  <thead>\n",
       "    <tr style=\"text-align: right;\">\n",
       "      <th></th>\n",
       "      <th>id</th>\n",
       "      <th>tipo_escola</th>\n",
       "      <th>nome_escola</th>\n",
       "      <th>endereço</th>\n",
       "      <th>numero</th>\n",
       "      <th>bairro</th>\n",
       "      <th>subprefeitura</th>\n",
       "      <th>lat</th>\n",
       "      <th>lon</th>\n",
       "      <th>qtd_material_didatico</th>\n",
       "    </tr>\n",
       "  </thead>\n",
       "  <tbody>\n",
       "    <tr>\n",
       "      <th>0</th>\n",
       "      <td>178</td>\n",
       "      <td>CENTRO</td>\n",
       "      <td>INTEGRADO DE EDUCACAO PUBLICA HENFIL</td>\n",
       "      <td>RUA CARLOS SEIDL S/NO</td>\n",
       "      <td>9999</td>\n",
       "      <td>CAJU</td>\n",
       "      <td>CENTRO</td>\n",
       "      <td>-22.88089</td>\n",
       "      <td>-43.22533</td>\n",
       "      <td>2352.0</td>\n",
       "    </tr>\n",
       "    <tr>\n",
       "      <th>1</th>\n",
       "      <td>634</td>\n",
       "      <td>EM</td>\n",
       "      <td>ALICE DO AMARAL PEIXOTO</td>\n",
       "      <td>RUA EBANO 187</td>\n",
       "      <td>187</td>\n",
       "      <td>BENFICA</td>\n",
       "      <td>CENTRO</td>\n",
       "      <td>-22.88957</td>\n",
       "      <td>-43.23620</td>\n",
       "      <td>2352.0</td>\n",
       "    </tr>\n",
       "    <tr>\n",
       "      <th>2</th>\n",
       "      <td>600</td>\n",
       "      <td>EM</td>\n",
       "      <td>URUGUAI</td>\n",
       "      <td>RUA ANA NERI 192</td>\n",
       "      <td>192</td>\n",
       "      <td>BENFICA</td>\n",
       "      <td>CENTRO</td>\n",
       "      <td>-22.89849</td>\n",
       "      <td>-43.23776</td>\n",
       "      <td>2352.0</td>\n",
       "    </tr>\n",
       "    <tr>\n",
       "      <th>3</th>\n",
       "      <td>476</td>\n",
       "      <td>ESCOLA</td>\n",
       "      <td>MUNICIPAL FLORIANO PEIXOTO</td>\n",
       "      <td>PRACA ARGENTINA 20</td>\n",
       "      <td>20</td>\n",
       "      <td>SAO CRISTOVAO</td>\n",
       "      <td>CENTRO</td>\n",
       "      <td>-22.89763</td>\n",
       "      <td>-43.22746</td>\n",
       "      <td>2352.0</td>\n",
       "    </tr>\n",
       "    <tr>\n",
       "      <th>4</th>\n",
       "      <td>280</td>\n",
       "      <td>ESCOLA</td>\n",
       "      <td>MUNICIPAL GENERAL HUMBERTO DE SOUZA MELLO</td>\n",
       "      <td>RUA OITO DE DEZEMBRO, 275</td>\n",
       "      <td>275</td>\n",
       "      <td>MARACANA/ VILA ISABEL</td>\n",
       "      <td>GRANDE TIJUCA</td>\n",
       "      <td>-22.90982</td>\n",
       "      <td>-43.23939</td>\n",
       "      <td>2958.0</td>\n",
       "    </tr>\n",
       "    <tr>\n",
       "      <th>...</th>\n",
       "      <td>...</td>\n",
       "      <td>...</td>\n",
       "      <td>...</td>\n",
       "      <td>...</td>\n",
       "      <td>...</td>\n",
       "      <td>...</td>\n",
       "      <td>...</td>\n",
       "      <td>...</td>\n",
       "      <td>...</td>\n",
       "      <td>...</td>\n",
       "    </tr>\n",
       "    <tr>\n",
       "      <th>132</th>\n",
       "      <td>690</td>\n",
       "      <td>ESCOLA</td>\n",
       "      <td>MUNICIPAL FINLANDIA</td>\n",
       "      <td>RUA IGARAPE-ACU</td>\n",
       "      <td>9999</td>\n",
       "      <td>CAMORIM</td>\n",
       "      <td>BARRA DA TIJUCA</td>\n",
       "      <td>-22.97199</td>\n",
       "      <td>-43.41011</td>\n",
       "      <td>266.0</td>\n",
       "    </tr>\n",
       "    <tr>\n",
       "      <th>133</th>\n",
       "      <td>497</td>\n",
       "      <td>E.M</td>\n",
       "      <td>PROFESSORA LEILA MEHL MENEZES DE MATTOS</td>\n",
       "      <td>AVENIDA MARIO PEREIRA DOS SANTOS S/N.O</td>\n",
       "      <td>9999</td>\n",
       "      <td>PACIENCIA</td>\n",
       "      <td>ZONA OESTE</td>\n",
       "      <td>-22.87319</td>\n",
       "      <td>-43.62773</td>\n",
       "      <td>9137.0</td>\n",
       "    </tr>\n",
       "    <tr>\n",
       "      <th>134</th>\n",
       "      <td>573</td>\n",
       "      <td>CENTRO</td>\n",
       "      <td>INTEGRADO DE EDUCACAO PUBLICA MAJOR MANUEL GOM...</td>\n",
       "      <td>RUA CABO SAULO DE VASCONCELOS S/N.O</td>\n",
       "      <td>9999</td>\n",
       "      <td>PACIENCIA</td>\n",
       "      <td>ZONA OESTE</td>\n",
       "      <td>-22.88855</td>\n",
       "      <td>-43.63805</td>\n",
       "      <td>9137.0</td>\n",
       "    </tr>\n",
       "    <tr>\n",
       "      <th>135</th>\n",
       "      <td>316</td>\n",
       "      <td>EM</td>\n",
       "      <td>PROFESSORA FLAVIA DOS SANTOS SOARES</td>\n",
       "      <td>RUA EUDALDO GOMES DA SILVA S/N.O CONJ URUCANIA</td>\n",
       "      <td>9999</td>\n",
       "      <td>PACIENCIA</td>\n",
       "      <td>ZONA OESTE</td>\n",
       "      <td>-22.91403</td>\n",
       "      <td>-43.65344</td>\n",
       "      <td>9137.0</td>\n",
       "    </tr>\n",
       "    <tr>\n",
       "      <th>136</th>\n",
       "      <td>178</td>\n",
       "      <td>CENTRO</td>\n",
       "      <td>INTEGRADO DE EDUCACAO PUBLICA HENFIL</td>\n",
       "      <td>RUA CARLOS SEIDL S/NO</td>\n",
       "      <td>9999</td>\n",
       "      <td>CAJU</td>\n",
       "      <td>CENTRO</td>\n",
       "      <td>-22.88089</td>\n",
       "      <td>-43.22533</td>\n",
       "      <td>2352.0</td>\n",
       "    </tr>\n",
       "  </tbody>\n",
       "</table>\n",
       "<p>137 rows × 10 columns</p>\n",
       "</div>"
      ],
      "text/plain": [
       "      id tipo_escola                                        nome_escola  \\\n",
       "0    178      CENTRO               INTEGRADO DE EDUCACAO PUBLICA HENFIL   \n",
       "1    634          EM                            ALICE DO AMARAL PEIXOTO   \n",
       "2    600          EM                                            URUGUAI   \n",
       "3    476      ESCOLA                         MUNICIPAL FLORIANO PEIXOTO   \n",
       "4    280      ESCOLA          MUNICIPAL GENERAL HUMBERTO DE SOUZA MELLO   \n",
       "..   ...         ...                                                ...   \n",
       "132  690      ESCOLA                                MUNICIPAL FINLANDIA   \n",
       "133  497         E.M            PROFESSORA LEILA MEHL MENEZES DE MATTOS   \n",
       "134  573      CENTRO  INTEGRADO DE EDUCACAO PUBLICA MAJOR MANUEL GOM...   \n",
       "135  316          EM                PROFESSORA FLAVIA DOS SANTOS SOARES   \n",
       "136  178      CENTRO               INTEGRADO DE EDUCACAO PUBLICA HENFIL   \n",
       "\n",
       "                                           endereço  numero  \\\n",
       "0                             RUA CARLOS SEIDL S/NO    9999   \n",
       "1                                     RUA EBANO 187     187   \n",
       "2                                  RUA ANA NERI 192     192   \n",
       "3                                PRACA ARGENTINA 20      20   \n",
       "4                         RUA OITO DE DEZEMBRO, 275     275   \n",
       "..                                              ...     ...   \n",
       "132                                 RUA IGARAPE-ACU    9999   \n",
       "133          AVENIDA MARIO PEREIRA DOS SANTOS S/N.O    9999   \n",
       "134             RUA CABO SAULO DE VASCONCELOS S/N.O    9999   \n",
       "135  RUA EUDALDO GOMES DA SILVA S/N.O CONJ URUCANIA    9999   \n",
       "136                           RUA CARLOS SEIDL S/NO    9999   \n",
       "\n",
       "                    bairro    subprefeitura       lat       lon  \\\n",
       "0                     CAJU           CENTRO -22.88089 -43.22533   \n",
       "1                  BENFICA           CENTRO -22.88957 -43.23620   \n",
       "2                  BENFICA           CENTRO -22.89849 -43.23776   \n",
       "3            SAO CRISTOVAO           CENTRO -22.89763 -43.22746   \n",
       "4    MARACANA/ VILA ISABEL    GRANDE TIJUCA -22.90982 -43.23939   \n",
       "..                     ...              ...       ...       ...   \n",
       "132                CAMORIM  BARRA DA TIJUCA -22.97199 -43.41011   \n",
       "133              PACIENCIA       ZONA OESTE -22.87319 -43.62773   \n",
       "134              PACIENCIA       ZONA OESTE -22.88855 -43.63805   \n",
       "135              PACIENCIA       ZONA OESTE -22.91403 -43.65344   \n",
       "136                   CAJU           CENTRO -22.88089 -43.22533   \n",
       "\n",
       "     qtd_material_didatico  \n",
       "0                   2352.0  \n",
       "1                   2352.0  \n",
       "2                   2352.0  \n",
       "3                   2352.0  \n",
       "4                   2958.0  \n",
       "..                     ...  \n",
       "132                  266.0  \n",
       "133                 9137.0  \n",
       "134                 9137.0  \n",
       "135                 9137.0  \n",
       "136                 2352.0  \n",
       "\n",
       "[137 rows x 10 columns]"
      ]
     },
     "execution_count": 215,
     "metadata": {},
     "output_type": "execute_result"
    }
   ],
   "source": [
    "diretorio = os.path.dirname(os.path.abspath('df_ordenado.csv'))\n",
    "caminho = os.path.join(diretorio, '../..', 'data', 'processed', 'df_ordenado.csv')\n",
    "df_desafio = pd.read_csv(caminho)"
   ]
  },
  {
   "cell_type": "code",
   "execution_count": 257,
   "metadata": {},
   "outputs": [
    {
     "data": {
      "image/png": "[encoded data removed]",
      "text/plain": [
       "<Figure size 640x480 with 2 Axes>"
      ]
     },
     "metadata": {},
     "output_type": "display_data"
    }
   ],
   "source": [
    "import matplotlib.pyplot as plt\n",
    "lat = list(df_ordered['lat'])\n",
    "lon = list(df_ordered['lon'])\n",
    "qtd = list(df_ordered['qtd_material_didatico'])\n",
    "plt.plot(lon, lat, '-', linewidth = 1)\n",
    "plt.legend(['Rota','','',''])\n",
    "plt.scatter(lon, lat, c = qtd, cmap = 'magma')\n",
    "plt.colorbar(label = \"Quantidade de Material Escolar\")\n",
    "plt.grid()\n",
    "plt.title('Rota Otimizada de Entrega')\n",
    "plt.xlabel('Longitude')\n",
    "plt.ylabel('Latidude')\n",
    "plt.show()"
   ]
  },
  {
   "cell_type": "code",
   "execution_count": 255,
   "metadata": {},
   "outputs": [
    {
     "data": {
      "text/plain": [
       "[20.0,\n",
       " 121.0,\n",
       " 591.0,\n",
       " 190.0,\n",
       " 491.0,\n",
       " 342.0,\n",
       " 445.0,\n",
       " 63.0,\n",
       " 576.0,\n",
       " 185.0,\n",
       " 164.0,\n",
       " 399.0,\n",
       " 350.0,\n",
       " 457.0,\n",
       " 158.0,\n",
       " 489.0,\n",
       " 123.0,\n",
       " 397.0,\n",
       " 210.0,\n",
       " 167.0,\n",
       " 153.0,\n",
       " 292.0,\n",
       " 61.0,\n",
       " 24.0,\n",
       " 426.0,\n",
       " 151.0,\n",
       " 564.0,\n",
       " 509.0,\n",
       " 234.0,\n",
       " 416.0,\n",
       " 393.0,\n",
       " 504.0,\n",
       " 468.0,\n",
       " 67.0,\n",
       " 257.0,\n",
       " 152.0,\n",
       " 115.0,\n",
       " 513.0,\n",
       " 395.0,\n",
       " 468.0,\n",
       " 534.0,\n",
       " 392.0,\n",
       " 342.0,\n",
       " 128.0,\n",
       " 342.0,\n",
       " 317.0,\n",
       " 345.0,\n",
       " 260.0,\n",
       " 400.0,\n",
       " 136.0,\n",
       " 235.0,\n",
       " 342.0,\n",
       " 362.0,\n",
       " 520.0,\n",
       " 161.0,\n",
       " 279.0,\n",
       " 430.0,\n",
       " 466.0,\n",
       " 342.0,\n",
       " 128.0,\n",
       " 179.0,\n",
       " 26.0,\n",
       " 159.0,\n",
       " 336.0,\n",
       " 262.0,\n",
       " 516.0,\n",
       " 48.0,\n",
       " 342.0,\n",
       " 573.0,\n",
       " 308.0,\n",
       " 420.0,\n",
       " 525.0,\n",
       " 223.0,\n",
       " 220.0,\n",
       " 92.0,\n",
       " 578.0,\n",
       " 293.0,\n",
       " 473.0,\n",
       " 67.0,\n",
       " 111.0,\n",
       " 319.0,\n",
       " 456.0,\n",
       " 183.0,\n",
       " 44.0,\n",
       " 342.0,\n",
       " 493.0,\n",
       " 456.0,\n",
       " 530.0,\n",
       " 440.0,\n",
       " 255.0,\n",
       " 342.0,\n",
       " 365.0,\n",
       " 109.0,\n",
       " 352.0,\n",
       " 180.0,\n",
       " 561.0,\n",
       " 148.0,\n",
       " 571.0,\n",
       " 269.0,\n",
       " 187.0,\n",
       " 315.0,\n",
       " 435.0,\n",
       " 194.0,\n",
       " 599.0,\n",
       " 157.0,\n",
       " 221.0,\n",
       " 316.0,\n",
       " 71.0,\n",
       " 591.0,\n",
       " 330.0,\n",
       " 109.0,\n",
       " 372.0,\n",
       " 296.0,\n",
       " 479.0,\n",
       " 537.0,\n",
       " 342.0,\n",
       " 106.0,\n",
       " 308.0,\n",
       " 162.0,\n",
       " 459.0,\n",
       " 135.0,\n",
       " 342.0,\n",
       " 329.0,\n",
       " 341.0,\n",
       " 320.0,\n",
       " 570.0,\n",
       " 521.0,\n",
       " 335.0,\n",
       " 99.0,\n",
       " 121.0,\n",
       " 51.0,\n",
       " 342.0,\n",
       " 94.0,\n",
       " 517.0,\n",
       " 207.0,\n",
       " 579.0,\n",
       " 20.0]"
      ]
     },
     "execution_count": 255,
     "metadata": {},
     "output_type": "execute_result"
    }
   ],
   "source": [
    "qtd"
   ]
  }
 ],
 "metadata": {
  "kernelspec": {
   "display_name": "ProjectEnv",
   "language": "python",
   "name": "python3"
  },
  "language_info": {
   "codemirror_mode": {
    "name": "ipython",
    "version": 3
   },
   "file_extension": ".py",
   "mimetype": "text/x-python",
   "name": "python",
   "nbconvert_exporter": "python",
   "pygments_lexer": "ipython3",
   "version": "3.9.5"
  }
 },
 "nbformat": 4,
 "nbformat_minor": 2
}
