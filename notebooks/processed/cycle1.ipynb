{
 "cells": [
  {
   "cell_type": "markdown",
   "metadata": {},
   "source": [
    "# 0.0. IMPORTS"
   ]
  },
  {
   "cell_type": "markdown",
   "metadata": {},
   "source": [
    "## 0.1. Bibliotecas"
   ]
  },
  {
   "cell_type": "code",
   "execution_count": 44,
   "metadata": {},
   "outputs": [],
   "source": [
    "import pandas as pd\n",
    "import numpy as np\n",
    "import os"
   ]
  },
  {
   "cell_type": "markdown",
   "metadata": {},
   "source": [
    "## 0.2. Carregar Dados"
   ]
  },
  {
   "cell_type": "markdown",
   "metadata": {},
   "source": [
    "### 0.2.1. Escolas"
   ]
  },
  {
   "cell_type": "code",
   "execution_count": 3,
   "metadata": {},
   "outputs": [],
   "source": [
    "diretorio_escolas = os.path.dirname(os.path.abspath('escolas.csv'))\n",
    "caminho_escolas = os.path.join(diretorio_escolas, '../..', 'data', 'raw', 'escolas.csv')\n",
    "df_escolas_raw = pd.read_csv(caminho_escolas)"
   ]
  },
  {
   "cell_type": "markdown",
   "metadata": {},
   "source": [
    "### 0.2.2. Material Didatico"
   ]
  },
  {
   "cell_type": "code",
   "execution_count": 4,
   "metadata": {},
   "outputs": [],
   "source": [
    "diretorio_material_didatico = os.path.dirname(os.path.abspath('material_didatico.csv'))\n",
    "caminho_material_didatico = os.path.join(diretorio_material_didatico, '../..', 'data', 'raw', 'material_didatico.csv')\n",
    "df_material_didatico_raw = pd.read_csv(caminho_material_didatico)"
   ]
  },
  {
   "cell_type": "markdown",
   "metadata": {},
   "source": [
    "### 0.2.3. Sub-Prefeituras"
   ]
  },
  {
   "cell_type": "code",
   "execution_count": 5,
   "metadata": {},
   "outputs": [],
   "source": [
    "diretorio_subprefeituras = os.path.dirname(os.path.abspath('subprefeituras.csv'))\n",
    "caminho_subprefeituras = os.path.join(diretorio_subprefeituras, '../..', 'data', 'raw', 'subprefeituras.csv')\n",
    "df_subprefeituras_raw = pd.read_csv(caminho_subprefeituras)"
   ]
  },
  {
   "cell_type": "markdown",
   "metadata": {},
   "source": [
    "## 0.3. Funções"
   ]
  },
  {
   "cell_type": "markdown",
   "metadata": {},
   "source": [
    "### 0.3.1. renomeia_colunas"
   ]
  },
  {
   "cell_type": "code",
   "execution_count": 51,
   "metadata": {},
   "outputs": [],
   "source": [
    "def renomeia_colunas(data):\n",
    "    return [x.lower() for x in data.columns]"
   ]
  },
  {
   "cell_type": "markdown",
   "metadata": {},
   "source": [
    "### 0.3.2. tamanho_dos_dados"
   ]
  },
  {
   "cell_type": "code",
   "execution_count": 45,
   "metadata": {},
   "outputs": [],
   "source": [
    "def tamanho_dos_dados(data):\n",
    "    print(f'Colunas: {data.shape[1]}')\n",
    "    print(f'Linhas: {data.shape[0]}')"
   ]
  },
  {
   "cell_type": "markdown",
   "metadata": {},
   "source": [
    "### 0.3.3. qtd_total_unicos_por_coluna"
   ]
  },
  {
   "cell_type": "code",
   "execution_count": 48,
   "metadata": {},
   "outputs": [],
   "source": [
    "def qtd_total_unicos_por_coluna(data):\n",
    "    for x in data.columns:\n",
    "        print(f'Quantidade de valores unicos em {x}: {len(data[x].unique())}')"
   ]
  },
  {
   "cell_type": "markdown",
   "metadata": {},
   "source": [
    "### 0.3.4. get_numericos"
   ]
  },
  {
   "cell_type": "code",
   "execution_count": 6,
   "metadata": {},
   "outputs": [],
   "source": [
    "def get_numericos(data):\n",
    "    return data.select_dtypes(include=['int32', 'int64', 'float32', 'float64'])"
   ]
  },
  {
   "cell_type": "markdown",
   "metadata": {},
   "source": [
    "### 0.3.5. get_categoricos"
   ]
  },
  {
   "cell_type": "code",
   "execution_count": 7,
   "metadata": {},
   "outputs": [],
   "source": [
    "def get_categoricos(data):\n",
    "    return data.select_dtypes(exclude=['int32', 'int64', 'float32', 'float64', 'datetime64[ns]'])"
   ]
  },
  {
   "cell_type": "markdown",
   "metadata": {},
   "source": [
    "### 0.3.6. get_descriptive_info"
   ]
  },
  {
   "cell_type": "code",
   "execution_count": 46,
   "metadata": {},
   "outputs": [],
   "source": [
    "def get_descriptive_info(data):\n",
    "    dados_numericos = get_numericos(data)\n",
    "    \n",
    "    # medidas de tendencia central - media, mediana\n",
    "    df_media = pd.DataFrame(dados_numericos.apply(np.mean)).T\n",
    "    df_mediana = pd.DataFrame(dados_numericos.apply(np.median)).T   \n",
    "    \n",
    "    # medidas de dispersão - min, max, range, skew, kurtosis, std\n",
    "    df_std = pd.DataFrame(dados_numericos.apply(np.std)).T\n",
    "    df_min = pd.DataFrame(dados_numericos.apply(min)).T\n",
    "    df_max = pd.DataFrame(dados_numericos.apply(max)).T\n",
    "    df_range = pd.DataFrame(dados_numericos.apply(lambda x: x.max() - x.min())).T\n",
    "    df_skew = pd.DataFrame(dados_numericos.apply(lambda x: x.skew())).T\n",
    "    df_kurtosis = pd.DataFrame(dados_numericos.apply(lambda x: x.kurtosis())).T\n",
    "    \n",
    "    #min, max, range, media, mediana, std, skew, kurtosis\n",
    "    df_descriptive_info = pd.concat([df_min, df_max, df_range,\n",
    "                                     df_media, df_mediana, df_std,\n",
    "                                     df_skew, df_kurtosis]).T.reset_index()\n",
    "    \n",
    "    df_descriptive_info.columns = ['attributes', 'min', 'max',\n",
    "                                   'range', 'media', 'mediana',\n",
    "                                   'std', 'skew', 'kurtosis']\n",
    "    \n",
    "    return df_descriptive_info"
   ]
  },
  {
   "cell_type": "markdown",
   "metadata": {},
   "source": [
    "# 1.0. DESCRIÇÃO DOS DADOS"
   ]
  },
  {
   "cell_type": "markdown",
   "metadata": {},
   "source": [
    "## 1.1. Escolas"
   ]
  },
  {
   "cell_type": "markdown",
   "metadata": {},
   "source": [
    "### 1.1.1. Visão Geral dos Dados"
   ]
  },
  {
   "cell_type": "code",
   "execution_count": 9,
   "metadata": {},
   "outputs": [],
   "source": [
    "df1_escolas = df_escolas_raw.copy()"
   ]
  },
  {
   "cell_type": "code",
   "execution_count": 10,
   "metadata": {},
   "outputs": [
    {
     "data": {
      "text/html": [
       "<div>\n",
       "<style scoped>\n",
       "    .dataframe tbody tr th:only-of-type {\n",
       "        vertical-align: middle;\n",
       "    }\n",
       "\n",
       "    .dataframe tbody tr th {\n",
       "        vertical-align: top;\n",
       "    }\n",
       "\n",
       "    .dataframe thead th {\n",
       "        text-align: right;\n",
       "    }\n",
       "</style>\n",
       "<table border=\"1\" class=\"dataframe\">\n",
       "  <thead>\n",
       "    <tr style=\"text-align: right;\">\n",
       "      <th></th>\n",
       "      <th>0</th>\n",
       "      <th>1</th>\n",
       "      <th>2</th>\n",
       "      <th>3</th>\n",
       "      <th>4</th>\n",
       "    </tr>\n",
       "  </thead>\n",
       "  <tbody>\n",
       "    <tr>\n",
       "      <th>id</th>\n",
       "      <td>178</td>\n",
       "      <td>634</td>\n",
       "      <td>483</td>\n",
       "      <td>476</td>\n",
       "      <td>132</td>\n",
       "    </tr>\n",
       "    <tr>\n",
       "      <th>Escolas_Postos</th>\n",
       "      <td>CENTRO INTEGRADO DE EDUCAÇÃO PÚBLICA HENFIL</td>\n",
       "      <td>EM ALICE DO AMARAL PEIXOTO</td>\n",
       "      <td>EM CELESTINO SILVA</td>\n",
       "      <td>ESCOLA MUNICIPAL FLORIANO PEIXOTO</td>\n",
       "      <td>EM PEREIRA PASSOS</td>\n",
       "    </tr>\n",
       "    <tr>\n",
       "      <th>BAIRRO</th>\n",
       "      <td>CAJU</td>\n",
       "      <td>BENFICA</td>\n",
       "      <td>CENTRO</td>\n",
       "      <td>SÃO CRISTÓVÃO</td>\n",
       "      <td>RIO COMPRIDO</td>\n",
       "    </tr>\n",
       "    <tr>\n",
       "      <th>ENDEREÇO</th>\n",
       "      <td>Rua Carlos Seidl S/Nº</td>\n",
       "      <td>Rua Ébano 187</td>\n",
       "      <td>R. do Lavradio, 56</td>\n",
       "      <td>Praça Argentina 20</td>\n",
       "      <td>Praça Condessa Paulo de Frontin 45</td>\n",
       "    </tr>\n",
       "    <tr>\n",
       "      <th>lat</th>\n",
       "      <td>-22,880888</td>\n",
       "      <td>-22,889574</td>\n",
       "      <td>-22,909293</td>\n",
       "      <td>-22,897629</td>\n",
       "      <td>-22,924412</td>\n",
       "    </tr>\n",
       "    <tr>\n",
       "      <th>lon</th>\n",
       "      <td>-43,225326</td>\n",
       "      <td>-43,236202</td>\n",
       "      <td>-43,183579</td>\n",
       "      <td>-43,227456</td>\n",
       "      <td>-43,208579</td>\n",
       "    </tr>\n",
       "  </tbody>\n",
       "</table>\n",
       "</div>"
      ],
      "text/plain": [
       "                                                          0  \\\n",
       "id                                                      178   \n",
       "Escolas_Postos  CENTRO INTEGRADO DE EDUCAÇÃO PÚBLICA HENFIL   \n",
       "BAIRRO                                                 CAJU   \n",
       "ENDEREÇO                              Rua Carlos Seidl S/Nº   \n",
       "lat                                              -22,880888   \n",
       "lon                                              -43,225326   \n",
       "\n",
       "                                         1                   2  \\\n",
       "id                                     634                 483   \n",
       "Escolas_Postos  EM ALICE DO AMARAL PEIXOTO  EM CELESTINO SILVA   \n",
       "BAIRRO                             BENFICA              CENTRO   \n",
       "ENDEREÇO                     Rua Ébano 187  R. do Lavradio, 56   \n",
       "lat                             -22,889574          -22,909293   \n",
       "lon                             -43,236202          -43,183579   \n",
       "\n",
       "                                                3  \\\n",
       "id                                            476   \n",
       "Escolas_Postos  ESCOLA MUNICIPAL FLORIANO PEIXOTO   \n",
       "BAIRRO                              SÃO CRISTÓVÃO   \n",
       "ENDEREÇO                       Praça Argentina 20   \n",
       "lat                                    -22,897629   \n",
       "lon                                    -43,227456   \n",
       "\n",
       "                                                 4  \n",
       "id                                             132  \n",
       "Escolas_Postos                   EM PEREIRA PASSOS  \n",
       "BAIRRO                                RIO COMPRIDO  \n",
       "ENDEREÇO        Praça Condessa Paulo de Frontin 45  \n",
       "lat                                     -22,924412  \n",
       "lon                                     -43,208579  "
      ]
     },
     "execution_count": 10,
     "metadata": {},
     "output_type": "execute_result"
    }
   ],
   "source": [
    "df1_escolas.head().T"
   ]
  },
  {
   "cell_type": "code",
   "execution_count": 52,
   "metadata": {},
   "outputs": [],
   "source": [
    "df1_escolas.columns = renomeia_colunas(df1_escolas)"
   ]
  },
  {
   "cell_type": "code",
   "execution_count": 53,
   "metadata": {},
   "outputs": [
    {
     "data": {
      "text/plain": [
       "Index(['id', 'escolas_postos', 'bairro', 'endereço ', 'lat', 'lon'], dtype='object')"
      ]
     },
     "execution_count": 53,
     "metadata": {},
     "output_type": "execute_result"
    }
   ],
   "source": [
    "df1_escolas.columns"
   ]
  },
  {
   "cell_type": "markdown",
   "metadata": {},
   "source": [
    "### 1.1.2. Tamanho dos dados"
   ]
  },
  {
   "cell_type": "code",
   "execution_count": 47,
   "metadata": {},
   "outputs": [
    {
     "name": "stdout",
     "output_type": "stream",
     "text": [
      "Colunas: 6\n",
      "Linhas: 152\n"
     ]
    }
   ],
   "source": [
    "tamanho_dos_dados(df1_escolas)"
   ]
  },
  {
   "cell_type": "code",
   "execution_count": 50,
   "metadata": {},
   "outputs": [
    {
     "name": "stdout",
     "output_type": "stream",
     "text": [
      "Quantidade de valores unicos em id: 136\n",
      "Quantidade de valores unicos em escolas_postos: 136\n",
      "Quantidade de valores unicos em bairro: 90\n",
      "Quantidade de valores unicos em endereço : 137\n",
      "Quantidade de valores unicos em lat: 136\n",
      "Quantidade de valores unicos em lon: 135\n"
     ]
    }
   ],
   "source": [
    "qtd_total_unicos_por_coluna(df1_escolas)"
   ]
  },
  {
   "cell_type": "markdown",
   "metadata": {},
   "source": [
    "### 1.1.3. Verificar Nulos"
   ]
  },
  {
   "cell_type": "code",
   "execution_count": 15,
   "metadata": {},
   "outputs": [
    {
     "data": {
      "text/plain": [
       "id                0\n",
       "escolas_postos    0\n",
       "bairro            0\n",
       "endereço          0\n",
       "lat               0\n",
       "lon               0\n",
       "dtype: int64"
      ]
     },
     "execution_count": 15,
     "metadata": {},
     "output_type": "execute_result"
    }
   ],
   "source": [
    "df1_escolas.isna().sum()"
   ]
  },
  {
   "cell_type": "markdown",
   "metadata": {},
   "source": [
    "### 1.1.4. Verificar tipos dos dados"
   ]
  },
  {
   "cell_type": "code",
   "execution_count": 16,
   "metadata": {},
   "outputs": [
    {
     "data": {
      "text/plain": [
       "id                 int64\n",
       "escolas_postos    object\n",
       "bairro            object\n",
       "endereço          object\n",
       "lat               object\n",
       "lon               object\n",
       "dtype: object"
      ]
     },
     "execution_count": 16,
     "metadata": {},
     "output_type": "execute_result"
    }
   ],
   "source": [
    "df1_escolas.dtypes"
   ]
  },
  {
   "cell_type": "markdown",
   "metadata": {},
   "source": [
    "### 1.1.5. Tratamento Inicial"
   ]
  },
  {
   "cell_type": "code",
   "execution_count": 17,
   "metadata": {},
   "outputs": [
    {
     "data": {
      "text/plain": [
       "id                  int64\n",
       "escolas_postos     object\n",
       "bairro             object\n",
       "endereço           object\n",
       "lat               float64\n",
       "lon               float64\n",
       "dtype: object"
      ]
     },
     "execution_count": 17,
     "metadata": {},
     "output_type": "execute_result"
    }
   ],
   "source": [
    "df1_escolas['lat'] = df1_escolas['lat'].str.replace(',', '.')\n",
    "df1_escolas['lat'] = pd.to_numeric(df1_escolas['lat'])\n",
    "\n",
    "df1_escolas['lon'] = df1_escolas['lon'].str.replace(',', '.')\n",
    "df1_escolas['lon'] = pd.to_numeric(df1_escolas['lon'])\n",
    "\n",
    "df1_escolas.dtypes"
   ]
  },
  {
   "cell_type": "markdown",
   "metadata": {},
   "source": [
    "## 1.2. Material Didatico"
   ]
  },
  {
   "cell_type": "markdown",
   "metadata": {},
   "source": [
    "### 1.2.1. Visão Geral dos Dados"
   ]
  },
  {
   "cell_type": "code",
   "execution_count": 54,
   "metadata": {},
   "outputs": [],
   "source": [
    "df1_material_didatico = df_material_didatico_raw.copy()"
   ]
  },
  {
   "cell_type": "code",
   "execution_count": 55,
   "metadata": {},
   "outputs": [
    {
     "data": {
      "text/html": [
       "<div>\n",
       "<style scoped>\n",
       "    .dataframe tbody tr th:only-of-type {\n",
       "        vertical-align: middle;\n",
       "    }\n",
       "\n",
       "    .dataframe tbody tr th {\n",
       "        vertical-align: top;\n",
       "    }\n",
       "\n",
       "    .dataframe thead th {\n",
       "        text-align: right;\n",
       "    }\n",
       "</style>\n",
       "<table border=\"1\" class=\"dataframe\">\n",
       "  <thead>\n",
       "    <tr style=\"text-align: right;\">\n",
       "      <th></th>\n",
       "      <th>0</th>\n",
       "      <th>1</th>\n",
       "      <th>2</th>\n",
       "      <th>3</th>\n",
       "      <th>4</th>\n",
       "    </tr>\n",
       "  </thead>\n",
       "  <tbody>\n",
       "    <tr>\n",
       "      <th>id</th>\n",
       "      <td>178</td>\n",
       "      <td>634</td>\n",
       "      <td>483</td>\n",
       "      <td>476</td>\n",
       "      <td>132</td>\n",
       "    </tr>\n",
       "    <tr>\n",
       "      <th>Quantidade</th>\n",
       "      <td>20</td>\n",
       "      <td>121</td>\n",
       "      <td>220</td>\n",
       "      <td>190</td>\n",
       "      <td>67</td>\n",
       "    </tr>\n",
       "  </tbody>\n",
       "</table>\n",
       "</div>"
      ],
      "text/plain": [
       "              0    1    2    3    4\n",
       "id          178  634  483  476  132\n",
       "Quantidade   20  121  220  190   67"
      ]
     },
     "execution_count": 55,
     "metadata": {},
     "output_type": "execute_result"
    }
   ],
   "source": [
    "df1_material_didatico.head().T"
   ]
  },
  {
   "cell_type": "code",
   "execution_count": 56,
   "metadata": {},
   "outputs": [],
   "source": [
    "df1_material_didatico.columns = renomeia_colunas(df1_material_didatico)"
   ]
  },
  {
   "cell_type": "markdown",
   "metadata": {},
   "source": [
    "### 1.2.2. Tamanho dos dados"
   ]
  },
  {
   "cell_type": "code",
   "execution_count": 57,
   "metadata": {},
   "outputs": [
    {
     "name": "stdout",
     "output_type": "stream",
     "text": [
      "Colunas: 2\n",
      "Linhas: 151\n"
     ]
    }
   ],
   "source": [
    "tamanho_dos_dados(df1_material_didatico)"
   ]
  },
  {
   "cell_type": "code",
   "execution_count": 58,
   "metadata": {},
   "outputs": [
    {
     "name": "stdout",
     "output_type": "stream",
     "text": [
      "Quantidade de valores unicos em id: 151\n",
      "Quantidade de valores unicos em quantidade: 135\n"
     ]
    }
   ],
   "source": [
    "qtd_total_unicos_por_coluna(df1_material_didatico)"
   ]
  },
  {
   "cell_type": "markdown",
   "metadata": {},
   "source": [
    "### 1.2.3. Verificar Nulos"
   ]
  },
  {
   "cell_type": "code",
   "execution_count": 35,
   "metadata": {},
   "outputs": [
    {
     "data": {
      "text/plain": [
       "id            0\n",
       "quantidade    4\n",
       "dtype: int64"
      ]
     },
     "execution_count": 35,
     "metadata": {},
     "output_type": "execute_result"
    }
   ],
   "source": [
    "df1_material_didatico.isna().sum()"
   ]
  },
  {
   "cell_type": "markdown",
   "metadata": {},
   "source": [
    "### 1.2.4. Verificar tipos dos dados"
   ]
  },
  {
   "cell_type": "code",
   "execution_count": 36,
   "metadata": {},
   "outputs": [
    {
     "data": {
      "text/plain": [
       "id             int64\n",
       "quantidade    object\n",
       "dtype: object"
      ]
     },
     "execution_count": 36,
     "metadata": {},
     "output_type": "execute_result"
    }
   ],
   "source": [
    "df1_material_didatico.dtypes"
   ]
  },
  {
   "cell_type": "markdown",
   "metadata": {},
   "source": [
    "### 1.2.5. Tratamento Inicial"
   ]
  },
  {
   "cell_type": "code",
   "execution_count": 37,
   "metadata": {},
   "outputs": [
    {
     "data": {
      "text/plain": [
       "array(['20', '121', '220', '190', '67', '397', '92', '578', '591', '473',\n",
       "       '456', '223', '420', '573', \"''\", '366', '516', '319', '308',\n",
       "       '111', '48', '525', '445', '164', '293', '152', '399', '185',\n",
       "       '576', '63', '491', \"'NaN'\", '336', '159', '342', '262', '440',\n",
       "       '365', nan, '183', '297', '44', '109', '350', '255', '457', '493',\n",
       "       '489', '64', '530', '158', '123', '468', '234', '24', '218', '151',\n",
       "       '564', '504', '61', '426', '167', '509', '292', '210', '153',\n",
       "       \"'397'\", '41', '561', '180', '257', '260', '317', '345', '32',\n",
       "       '513', '338', '416', '352', '393', '425', '136', \"'395'\", '115',\n",
       "       '534', '430', '466', '51', '26', '94', '128', '520', '524', '279',\n",
       "       '161', '179', '194', '599', '315', '435', '400', '294', '148',\n",
       "       '269', '571', '235', '187', '392', '362', '71', '221', '372',\n",
       "       '479', '99', '157', '296', '330', '316', '106', '207', '459',\n",
       "       '537', '162', '579', '517', \"' '\", '135', '118', '341', '329',\n",
       "       '570', '320', '335', '521', '225'], dtype=object)"
      ]
     },
     "execution_count": 37,
     "metadata": {},
     "output_type": "execute_result"
    }
   ],
   "source": [
    "df1_material_didatico['quantidade'].unique()"
   ]
  },
  {
   "cell_type": "code",
   "execution_count": 38,
   "metadata": {},
   "outputs": [
    {
     "name": "stdout",
     "output_type": "stream",
     "text": [
      "[ 20. 121. 220. 190.  67. 397.  92. 578. 591. 473. 456. 223. 420. 573.\n",
      " 342. 366. 516. 319. 308. 111.  48. 525. 445. 164. 293. 152. 399. 185.\n",
      " 576.  63. 491. 336. 159. 262. 440. 365. 183. 297.  44. 109. 350. 255.\n",
      " 457. 493. 489.  64. 530. 158. 123. 468. 234.  24. 218. 151. 564. 504.\n",
      "  61. 426. 167. 509. 292. 210. 153.  41. 561. 180. 257. 260. 317. 345.\n",
      "  32. 513. 338. 416. 352. 393. 425. 136. 395. 115. 534. 430. 466.  51.\n",
      "  26.  94. 128. 520. 524. 279. 161. 179. 194. 599. 315. 435. 400. 294.\n",
      " 148. 269. 571. 235. 187. 392. 362.  71. 221. 372. 479.  99. 157. 296.\n",
      " 330. 316. 106. 207. 459. 537. 162. 579. 517. 135. 118. 341. 329. 570.\n",
      " 320. 335. 521. 225.]\n"
     ]
    }
   ],
   "source": [
    "df1_material_didatico['quantidade'] = df1_material_didatico['quantidade'].str.replace(\"'\", \"\")\n",
    "df1_material_didatico['quantidade'] = df1_material_didatico['quantidade'].replace(\" \", np.nan)\n",
    "df1_material_didatico['quantidade'] = df1_material_didatico['quantidade'].replace('NaN', np.nan)\n",
    "\n",
    "# Converter a coluna 'quantidade' para tipo numérico\n",
    "df1_material_didatico['quantidade'] = pd.to_numeric(df1_material_didatico['quantidade'])\n",
    "\n",
    "moda = df1_material_didatico['quantidade'].value_counts().idxmax()\n",
    "df1_material_didatico['quantidade'] = df1_material_didatico['quantidade'].fillna(moda)\n",
    "\n",
    "\n",
    "# Verificar se as correções foram aplicadas corretamente\n",
    "print(df1_material_didatico['quantidade'].unique())\n"
   ]
  },
  {
   "cell_type": "markdown",
   "metadata": {},
   "source": [
    "## 1.3. Sub-Prefeituras"
   ]
  },
  {
   "cell_type": "markdown",
   "metadata": {},
   "source": [
    "### 1.3.1. Visão Geral dos Dados"
   ]
  },
  {
   "cell_type": "code",
   "execution_count": 59,
   "metadata": {},
   "outputs": [],
   "source": [
    "df1_subprefeituras = df_subprefeituras_raw.copy()"
   ]
  },
  {
   "cell_type": "code",
   "execution_count": 60,
   "metadata": {},
   "outputs": [
    {
     "data": {
      "text/html": [
       "<div>\n",
       "<style scoped>\n",
       "    .dataframe tbody tr th:only-of-type {\n",
       "        vertical-align: middle;\n",
       "    }\n",
       "\n",
       "    .dataframe tbody tr th {\n",
       "        vertical-align: top;\n",
       "    }\n",
       "\n",
       "    .dataframe thead th {\n",
       "        text-align: right;\n",
       "    }\n",
       "</style>\n",
       "<table border=\"1\" class=\"dataframe\">\n",
       "  <thead>\n",
       "    <tr style=\"text-align: right;\">\n",
       "      <th></th>\n",
       "      <th>0</th>\n",
       "      <th>1</th>\n",
       "      <th>2</th>\n",
       "      <th>3</th>\n",
       "      <th>4</th>\n",
       "    </tr>\n",
       "  </thead>\n",
       "  <tbody>\n",
       "    <tr>\n",
       "      <th>nome</th>\n",
       "      <td>Santo Cristo</td>\n",
       "      <td>Gamboa</td>\n",
       "      <td>Saúde</td>\n",
       "      <td>Caju</td>\n",
       "      <td>Centro</td>\n",
       "    </tr>\n",
       "    <tr>\n",
       "      <th>subprefeitura</th>\n",
       "      <td>Centro</td>\n",
       "      <td>Centro</td>\n",
       "      <td>Centro</td>\n",
       "      <td>Centro</td>\n",
       "      <td>Centro</td>\n",
       "    </tr>\n",
       "  </tbody>\n",
       "</table>\n",
       "</div>"
      ],
      "text/plain": [
       "                          0       1       2       3       4\n",
       "nome           Santo Cristo  Gamboa   Saúde    Caju  Centro\n",
       "subprefeitura        Centro  Centro  Centro  Centro  Centro"
      ]
     },
     "execution_count": 60,
     "metadata": {},
     "output_type": "execute_result"
    }
   ],
   "source": [
    "df1_subprefeituras.head().T"
   ]
  },
  {
   "cell_type": "markdown",
   "metadata": {},
   "source": [
    "### 1.3.2. Tamanho dos dados"
   ]
  },
  {
   "cell_type": "code",
   "execution_count": 61,
   "metadata": {},
   "outputs": [
    {
     "name": "stdout",
     "output_type": "stream",
     "text": [
      "Colunas: 2\n",
      "Linhas: 164\n"
     ]
    }
   ],
   "source": [
    "tamanho_dos_dados(df1_subprefeituras)"
   ]
  },
  {
   "cell_type": "code",
   "execution_count": 62,
   "metadata": {},
   "outputs": [
    {
     "name": "stdout",
     "output_type": "stream",
     "text": [
      "Quantidade de valores unicos em nome: 164\n",
      "Quantidade de valores unicos em subprefeitura: 9\n"
     ]
    }
   ],
   "source": [
    "qtd_total_unicos_por_coluna(df1_subprefeituras)"
   ]
  },
  {
   "cell_type": "markdown",
   "metadata": {},
   "source": [
    "### 1.3.3. Verificar Nulos"
   ]
  },
  {
   "cell_type": "code",
   "execution_count": 41,
   "metadata": {},
   "outputs": [
    {
     "data": {
      "text/plain": [
       "nome             0\n",
       "subprefeitura    0\n",
       "dtype: int64"
      ]
     },
     "execution_count": 41,
     "metadata": {},
     "output_type": "execute_result"
    }
   ],
   "source": [
    "df1_subprefeituras.isna().sum()"
   ]
  },
  {
   "cell_type": "markdown",
   "metadata": {},
   "source": [
    "### 1.3.4. Verificar tipos dos dados"
   ]
  },
  {
   "cell_type": "code",
   "execution_count": 42,
   "metadata": {},
   "outputs": [
    {
     "data": {
      "text/plain": [
       "nome             object\n",
       "subprefeitura    object\n",
       "dtype: object"
      ]
     },
     "execution_count": 42,
     "metadata": {},
     "output_type": "execute_result"
    }
   ],
   "source": [
    "df1_subprefeituras.dtypes"
   ]
  },
  {
   "cell_type": "markdown",
   "metadata": {},
   "source": [
    "### 1.3.5. Tratamento Inicial"
   ]
  },
  {
   "cell_type": "code",
   "execution_count": 64,
   "metadata": {},
   "outputs": [],
   "source": [
    "df1_subprefeituras['subprefeitura'] = df1_subprefeituras['subprefeitura'].str.upper()"
   ]
  },
  {
   "cell_type": "code",
   "execution_count": 65,
   "metadata": {},
   "outputs": [
    {
     "data": {
      "text/html": [
       "<div>\n",
       "<style scoped>\n",
       "    .dataframe tbody tr th:only-of-type {\n",
       "        vertical-align: middle;\n",
       "    }\n",
       "\n",
       "    .dataframe tbody tr th {\n",
       "        vertical-align: top;\n",
       "    }\n",
       "\n",
       "    .dataframe thead th {\n",
       "        text-align: right;\n",
       "    }\n",
       "</style>\n",
       "<table border=\"1\" class=\"dataframe\">\n",
       "  <thead>\n",
       "    <tr style=\"text-align: right;\">\n",
       "      <th></th>\n",
       "      <th>0</th>\n",
       "      <th>1</th>\n",
       "      <th>2</th>\n",
       "      <th>3</th>\n",
       "      <th>4</th>\n",
       "    </tr>\n",
       "  </thead>\n",
       "  <tbody>\n",
       "    <tr>\n",
       "      <th>nome</th>\n",
       "      <td>Santo Cristo</td>\n",
       "      <td>Gamboa</td>\n",
       "      <td>Saúde</td>\n",
       "      <td>Caju</td>\n",
       "      <td>Centro</td>\n",
       "    </tr>\n",
       "    <tr>\n",
       "      <th>subprefeitura</th>\n",
       "      <td>CENTRO</td>\n",
       "      <td>CENTRO</td>\n",
       "      <td>CENTRO</td>\n",
       "      <td>CENTRO</td>\n",
       "      <td>CENTRO</td>\n",
       "    </tr>\n",
       "  </tbody>\n",
       "</table>\n",
       "</div>"
      ],
      "text/plain": [
       "                          0       1       2       3       4\n",
       "nome           Santo Cristo  Gamboa   Saúde    Caju  Centro\n",
       "subprefeitura        CENTRO  CENTRO  CENTRO  CENTRO  CENTRO"
      ]
     },
     "execution_count": 65,
     "metadata": {},
     "output_type": "execute_result"
    }
   ],
   "source": [
    "df1_subprefeituras.head().T"
   ]
  },
  {
   "cell_type": "code",
   "execution_count": null,
   "metadata": {},
   "outputs": [],
   "source": []
  }
 ],
 "metadata": {
  "kernelspec": {
   "display_name": "ProjectEnv",
   "language": "python",
   "name": "python3"
  },
  "language_info": {
   "codemirror_mode": {
    "name": "ipython",
    "version": 3
   },
   "file_extension": ".py",
   "mimetype": "text/x-python",
   "name": "python",
   "nbconvert_exporter": "python",
   "pygments_lexer": "ipython3",
   "version": "3.10.0"
  }
 },
 "nbformat": 4,
 "nbformat_minor": 2
}
